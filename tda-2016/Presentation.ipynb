{
 "cells": [
  {
   "cell_type": "markdown",
   "metadata": {
    "code_folding": [
     0
    ]
   },
   "source": [
    "We consider two-dimensional problem of finding the fixed point of contraction mapping defined on a matrix space.\n",
    "\n",
    "The key assumption is that the fixed point has low-rank structure. \n",
    "\n",
    "Thus, instead of search over the full- rank matrix linear space, we use the framework of Riemannian optimization over the manifold of matrices with rank not higher than $r$."
   ]
  },
  {
   "cell_type": "code",
   "execution_count": 43,
   "metadata": {
    "code_folding": [],
    "collapsed": false
   },
   "outputs": [],
   "source": [
    "#import\n",
    "import tt\n",
    "import numpy as np\n",
    "import scipy.linalg as la\n",
    "import scipy.sparse as ssp\n",
    "import scipy.sparse.linalg as sla\n",
    "import math\n",
    "\n",
    "#Graphics\n",
    "import matplotlib.pyplot as plt\n",
    "#import prettyplotlib as ppl\n",
    "%matplotlib inline\n",
    "from IPython.display import set_matplotlib_formats\n",
    "set_matplotlib_formats('png')\n",
    "import matplotlib as mpl\n",
    "rc_cmufonts = {\"font.family\": \"normal\", \n",
    "                \"font.serif\": [], \n",
    "                \"font.sans-serif\": [], \n",
    "                \"font.monospace\": []}\n",
    "\n",
    "fs = 12\n",
    "font = {'size' : fs}\n",
    "mpl.rc('font', **font)\n",
    "mpl.rcParams.update(rc_cmufonts)\n",
    "mpl.rcParams['text.usetex'] = True\n",
    "%config InlineBackend.figure_format = 'svg'"
   ]
  },
  {
   "cell_type": "markdown",
   "metadata": {},
   "source": [
    "We seek the fixed point of contraction mapping $\\Phi : \\mathbb{R}_{n \\times m} \\to \\mathbb{R}_{n \\times m}:$ with parameter $\\delta$:\n",
    "\n",
    "$$ \\Vert \\Phi(X) - \\Phi(Y) \\Vert \\leq \\delta \\Vert X - Y \\Vert, \\Phi(X_*) = X_* .$$\n",
    "\n",
    "Consider a certain converging iterative process\n",
    "$X_{k+1} = \\Phi(X_{k}), k = 0,...$ \n",
    "\n",
    "Then, $X_k$ converges linearly to $X_∗$, for $k \\to \\infty$, i.e. $\\Vert X_{k+1} − X_∗\\Vert \\leq \\delta\\Vert X_k − X_∗\\Vert$.\n",
    "\n",
    "We assume that initial approximation and fixed point lie on the low rank manifold:\n",
    "$rank X_0 \\leq r, rank X_∗ \\leq r$.\n",
    "\n",
    "Then we create the projected version as \n",
    "$$Y_{k+1} = I(Y_k, \\Phi(Y_k)−Y_k), k=0,... ,$$\n",
    "$$Y_0 = X_0.$$\n",
    "where I(Z, H) is the projector-splitting integrator which is known to be a retraction to the manifold."
   ]
  },
  {
   "cell_type": "code",
   "execution_count": 23,
   "metadata": {
    "code_folding": [
     0
    ],
    "collapsed": true
   },
   "outputs": [],
   "source": [
    "#2d case functions\n",
    "def grad(A, x, x0):\n",
    "    #u, s, v = x\n",
    "    #u0, s0, v0 = x0\n",
    "    #u_new = np.linalg.qr(np.hstack((u, u0)))[0]\n",
    "    #v_new = np.linalg.qr(np.hstack((v, v0)))[0]\n",
    "    #s_new = u_new.T.dot(u).dot(s).dot(v.T.dot(v_new)) - u_new.T.dot(u0).dot(s0).dot(v0.T.dot(v_new))\n",
    "    return x0 - A.dot(full(x).flatten()).reshape(x0.shape)\n",
    "    #return (u_new, s_new, v_new)\n",
    "\n",
    "\n",
    "#it is Frobenius norm\n",
    "def get_norm(x):\n",
    "    u, s, v = x\n",
    "    return la.norm(s)\n",
    "    #return math.sqrt(np.trace((u.T.dot(u)).T.dot(v.T.dot(v))))\n",
    "    \n",
    "    \n",
    "def check_orthogonality(u): \n",
    "    if la.norm(u.T.dot(u) - np.eye(u.shape[1])) / math.sqrt(u.shape[1]) < 1e-12:\n",
    "        return True\n",
    "    else:\n",
    "        return False\n",
    "    \n",
    "    \n",
    "def orthogonalize(x):\n",
    "    u, s, v = x\n",
    "    u_new, ru = np.linalg.qr(u)\n",
    "    v_new, lv = np.linalg.qr(u)\n",
    "    s_new = ru.dot(s.dot(lv))\n",
    "    return (u_new, s_new, v_new)\n",
    "\n",
    "\n",
    "def diagonalize_core(x):\n",
    "    u, s, v = x\n",
    "    ls, s_diag, rs = la.svd(s)\n",
    "    return (u.dot(ls), np.diag(s_diag), v.dot(rs))\n",
    "    \n",
    "\n",
    "def func(x, x0):\n",
    "    return get_norm(grad(x, x0))\n",
    "\n",
    "    \n",
    "def full(dx):\n",
    "    return dx[0].dot(dx[1].dot(dx[2].T))\n",
    "\n",
    "\n",
    "def projector_splitting_2d(x, dx, flag_dual=False):\n",
    "    n, r = x[0].shape\n",
    "    u, s, v = x[0].copy(), x[1].copy(), x[2].copy()\n",
    "    if not flag_dual:\n",
    "        u, s = np.linalg.qr(u.dot(s) + dx.dot(v))\n",
    "        s = s - u.T.dot(dx).dot(v)\n",
    "        v, s = np.linalg.qr(v.dot(s.T) + dx.T.dot(u))\n",
    "        s = s.T\n",
    "    else:\n",
    "        v, s = np.linalg.qr(v.dot(s.T) + dx.T.dot(u))\n",
    "        s = s.T\n",
    "        s = s - u.T.dot(dx).dot(v)\n",
    "        u, s = np.linalg.qr(u.dot(s) + dx.dot(v))\n",
    "        \n",
    "    return u, s, v\n",
    "\n",
    "\n",
    "def inter_point(x, dx):\n",
    "    u, s, v = x\n",
    "    u, s = np.linalg.qr(u.dot(s) + dx.dot(v))\n",
    "    #dx - (I - uu') dx (I - vv') = uu' dx + dx * vv' - uu' dx vv'\n",
    "    dx_tangent = u.dot(u.T.dot(dx)) + (dx.dot(v)).dot(v.T) - u.dot(u.T.dot(dx).dot(v)).dot(v.T)\n",
    "    \n",
    "    return u.copy(), v.copy(), dx_tangent\n",
    "\n",
    "\n",
    "def minus(x1, x2):\n",
    "    u1, s1, v1 = x1\n",
    "    u2, s2, v2 = x2\n",
    "    u_new = np.linalg.qr(np.hstack((u1, u2)))[0]\n",
    "    v_new = np.linalg.qr(np.hstack((v1, v2)))[0]\n",
    "    s_new = u_new.T.dot(u1).dot(s1).dot(v1.T.dot(v_new)) - u_new.T.dot(u2).dot(s2).dot(v2.T.dot(v_new))\n",
    "    return u_new, s_new, v_new\n",
    "\n",
    "\n",
    "def ps_proj(x, dx):\n",
    "    return full(projector_splitting_2d(x, dx)) - full(x)\n",
    "\n",
    "def rotation(u):\n",
    "    return la.qr(u)[0]"
   ]
  },
  {
   "cell_type": "markdown",
   "metadata": {},
   "source": [
    "Consider a linear case, when $\\Phi$ is also a linear operator. For the purposes of simplicity we take $m = n$.\n",
    "\n",
    "So $\\Phi$ can be represented as  \n",
    "$$\\Phi (X) = X + A(X) - f,$$\n",
    "\n",
    "where $A$ is an linear operator on matrix space, $\\Vert A - I\\Vert = \\delta$, \n",
    "\n",
    "$f$ is known right-hand side and $X_*$ is the solution of linear equation $A(X_*) = f$.\n",
    "\n",
    "This problem is equivalent to the minimization problem of the quadratic functional $F(X) = <A(X) - f, X>.$\n"
   ]
  },
  {
   "cell_type": "code",
   "execution_count": 61,
   "metadata": {
    "collapsed": true
   },
   "outputs": [],
   "source": [
    "n, r, r0 = 40, 7, 7\n",
    "\n",
    "M = n * n \n",
    "Q = np.random.randn(M, M)\n",
    "Q = Q + Q.T\n",
    "Q = (Q/np.linalg.norm(Q, 2)) * 0.8 # contraction coefficient\n",
    "A = np.eye(M) + Q"
   ]
  },
  {
   "cell_type": "markdown",
   "metadata": {},
   "source": [
    "1) Usual case"
   ]
  },
  {
   "cell_type": "code",
   "execution_count": 63,
   "metadata": {
    "code_folding": [],
    "collapsed": false
   },
   "outputs": [
    {
     "name": "stdout",
     "output_type": "stream",
     "text": [
      "The singular values of fixed point matrix are \n",
      "[ 241.54862237  152.31399683  137.95871557   65.62670563   27.14235118\n",
      "   22.51935204    2.62057333]\n"
     ]
    },
    {
     "data": {
      "text/plain": [
       "<matplotlib.text.Text at 0x1393a5f10>"
      ]
     },
     "execution_count": 63,
     "metadata": {},
     "output_type": "execute_result"
    },
    {
     "data": {
      "image/png": "[encoded data removed]",
      "text/plain": [
       "<matplotlib.figure.Figure at 0x1377c5390>"
      ]
     },
     "metadata": {},
     "output_type": "display_data"
    }
   ],
   "source": [
    "# Case 1: Projector-Splitting versus Descenting Gradient\n",
    "\n",
    "#Random initialization\n",
    "x_orig = np.random.randn(n, r0), np.random.randn(r0, r0), np.random.randn(n, r0)\n",
    "x_start = np.random.randn(n, r0), np.random.randn(r0, r0), np.random.randn(n, r0)\n",
    "x_start, x_orig = orthogonalize(x_start), orthogonalize(x_orig)\n",
    "x_orig = diagonalize_core(x_orig)\n",
    "\n",
    "print 'The singular values of fixed point matrix are \\n', np.diag(x_orig[1])\n",
    "\n",
    "f = full(x_orig)\n",
    "f = A.dot(f.flatten()).reshape(f.shape)\n",
    "\n",
    "grad_dist, orth_proj_norm, tangent_proj_norm = [], [], []\n",
    "\n",
    "        \n",
    "k = 50\n",
    "\n",
    "# Gradient Descent Convergence\n",
    "x = full(x_start)\n",
    "for i in xrange(k):\n",
    "    grad_dist.append(la.norm(x - full(x_orig)))\n",
    "    dx = f - (A.dot(x.flatten())).reshape(x.shape)\n",
    "    x = x + dx\n",
    "    \n",
    "# Projector Splitting Convergence\n",
    "x = x_start\n",
    "dx_orig = full(x)-full(x_orig)\n",
    "for i in xrange(k):\n",
    "    dx = grad(A, x, f)\n",
    "    u1, v, dx_tangent = inter_point(x, dx_orig)\n",
    "    \n",
    "    dx_orig = full(x)-full(x_orig)\n",
    "    dx_orig_tangent = u1.dot(u1.T.dot(dx_orig)) + (dx_orig.dot(v)).dot(v.T) - u1.dot(u1.T.dot(dx_orig).dot(v)).dot(v.T)\n",
    "    \n",
    "    orth_proj_norm.append(la.norm(dx_orig - dx_orig_tangent))\n",
    "    tangent_proj_norm.append(la.norm(dx_orig_tangent))\n",
    "    \n",
    "    x = projector_splitting_2d(x, dx)\n",
    "    \n",
    "# Plotting\n",
    "plt.semilogy(grad_dist, marker='x', label=\"GD\")\n",
    "plt.semilogy(orth_proj_norm, marker='o', label=\"Orthogonal projection\")\n",
    "plt.semilogy(tangent_proj_norm, marker='o', label=\"Tangent projection\")\n",
    "plt.legend(bbox_to_anchor=(0.40, 1), loc=2)#(1.05, 1), loc=2\n",
    "plt.xlabel('Iteration')\n",
    "plt.ylabel('Error')"
   ]
  },
  {
   "cell_type": "markdown",
   "metadata": {},
   "source": [
    "2) Stair convergence case"
   ]
  },
  {
   "cell_type": "code",
   "execution_count": 64,
   "metadata": {
    "code_folding": [],
    "collapsed": false
   },
   "outputs": [
    {
     "name": "stdout",
     "output_type": "stream",
     "text": [
      "The singular values of fixed point matrix are \n",
      "[100, 1, 0.01, 0.0001, 1e-06, 1e-08, 1e-10]\n"
     ]
    },
    {
     "data": {
      "text/plain": [
       "<matplotlib.text.Text at 0x13779a790>"
      ]
     },
     "execution_count": 64,
     "metadata": {},
     "output_type": "execute_result"
    },
    {
     "data": {
      "image/png": "[encoded data removed]",
      "text/plain": [
       "<matplotlib.figure.Figure at 0x1394e8350>"
      ]
     },
     "metadata": {},
     "output_type": "display_data"
    }
   ],
   "source": [
    "# Case 2: Stair convergence\n",
    "x_orig = np.random.randn(n, r0), np.random.randn(r0, r0), np.random.randn(n, r0)\n",
    "x_start = np.random.randn(n, r0), np.random.randn(r0, r0), np.random.randn(n, r0)\n",
    "x_start, x_orig = orthogonalize(x_start), orthogonalize(x_orig)\n",
    "x_orig = diagonalize_core(x_orig)\n",
    "u, s, v = x_orig\n",
    "s_diag = [10**(2-2*i) for i in xrange(r)]\n",
    "x_orig = (u, np.diag(s_diag), v)\n",
    "\n",
    "print 'The singular values of fixed point matrix are \\n', s_diag\n",
    "\n",
    "f = full(x_orig)\n",
    "f = A.dot(f.flatten()).reshape(f.shape)\n",
    "\n",
    "grad_dist, orth_proj_norm, tangent_proj_norm = [], [], []\n",
    "\n",
    "        \n",
    "k = 50\n",
    "\n",
    "# Gradient Descent Convergence\n",
    "x = full(x_start)\n",
    "for i in xrange(k):\n",
    "    grad_dist.append(la.norm(x - full(x_orig)))\n",
    "    dx = f - (A.dot(x.flatten())).reshape(x.shape)\n",
    "    x = x + dx\n",
    "    \n",
    "# Projector Splitting Convergence\n",
    "x = x_start\n",
    "\n",
    "for i in xrange(k):\n",
    "    dx = grad(A, x, f)\n",
    "    u1, v, dx_tangent = inter_point(x, dx_orig)\n",
    "    \n",
    "    dx_orig = full(x)-full(x_orig)\n",
    "    dx_orig_tangent = u1.dot(u1.T.dot(dx_orig)) + (dx_orig.dot(v)).dot(v.T) - u1.dot(u1.T.dot(dx_orig).dot(v)).dot(v.T)\n",
    "    \n",
    "    orth_proj_norm.append(la.norm(dx_orig - dx_orig_tangent))\n",
    "    tangent_proj_norm.append(la.norm(dx_orig_tangent))\n",
    "    \n",
    "    x = projector_splitting_2d(x, dx)\n",
    "    \n",
    "# Plotting\n",
    "plt.semilogy(grad_dist, marker='x', label=\"GD\")\n",
    "plt.semilogy(orth_proj_norm, marker='o', label=\"Orthogonal projection\")\n",
    "plt.semilogy(tangent_proj_norm, marker='o', label=\"Tangent projection\")\n",
    "plt.legend(bbox_to_anchor=(0.40, 1), loc=2)#(1.05, 1), loc=2\n",
    "plt.xlabel('Iteration')\n",
    "plt.ylabel('Error')"
   ]
  },
  {
   "cell_type": "markdown",
   "metadata": {},
   "source": [
    "3) This case shows that projector splitting doesn't always choose the best way."
   ]
  },
  {
   "cell_type": "code",
   "execution_count": 65,
   "metadata": {
    "collapsed": false
   },
   "outputs": [
    {
     "name": "stdout",
     "output_type": "stream",
     "text": [
      "The singular values of fixed point matrix are \n",
      "[100, 1, 0.01, 0.0001, 1e-06, 1e-08, 1e-10]\n"
     ]
    },
    {
     "data": {
      "text/plain": [
       "<matplotlib.text.Text at 0x1397372d0>"
      ]
     },
     "execution_count": 65,
     "metadata": {},
     "output_type": "execute_result"
    },
    {
     "data": {
      "image/png": "[encoded data removed]",
      "text/plain": [
       "<matplotlib.figure.Figure at 0x1375e2910>"
      ]
     },
     "metadata": {},
     "output_type": "display_data"
    }
   ],
   "source": [
    "# Case 3: Stair convergence\n",
    "\n",
    "x_orig = np.random.randn(n, r0), np.random.randn(r0, r0), np.random.randn(n, r0)\n",
    "x_start = np.random.randn(n, r0), np.random.randn(r0, r0), np.random.randn(n, r0)\n",
    "x_start, x_orig = orthogonalize(x_start), orthogonalize(x_orig)\n",
    "\n",
    "eps = 1e-12\n",
    "u, s, v = x_orig\n",
    "u1, s1, v1 = x_start\n",
    "u1 = u1 - u.dot(u.T.dot(u1)) \n",
    "v1 = v1 - v.dot(v.T.dot(v1))\n",
    "x_start = u1, s1, v1\n",
    "\n",
    "x_orig = diagonalize_core(x_orig)\n",
    "\n",
    "print 'The singular values of fixed point matrix are \\n', s_diag\n",
    "\n",
    "f = full(x_orig)\n",
    "f = A.dot(f.flatten()).reshape(f.shape)\n",
    "\n",
    "grad_dist, proj_dist = [], []\n",
    "\n",
    "        \n",
    "k = 10\n",
    "\n",
    "# Gradient Descent Convergence\n",
    "x = full(x_start)\n",
    "for i in xrange(k):\n",
    "    grad_dist.append(la.norm(x - full(x_orig)))\n",
    "    dx = f - (A.dot(x.flatten())).reshape(x.shape)\n",
    "    x = x + dx\n",
    "    \n",
    "# Projector Splitting Convergence\n",
    "x = x_start\n",
    "\n",
    "for i in xrange(k):\n",
    "    dx = grad(A, x, f)\n",
    "    u1, v, dx_tangent = inter_point(x, dx_orig)\n",
    "    \n",
    "    dx_orig = full(x)-full(x_orig)    \n",
    "    proj_dist.append(la.norm(dx_orig))\n",
    "    \n",
    "    x = projector_splitting_2d(x, dx)\n",
    "    \n",
    "# Plotting\n",
    "plt.semilogy(grad_dist, marker='x', label=\"GD\")\n",
    "plt.semilogy(proj_dist, marker='o', label=\"Projector Splitting\")\n",
    "plt.legend(bbox_to_anchor=(0.40, 1), loc=2)#(1.05, 1), loc=2\n",
    "plt.xlabel('Iteration')\n",
    "plt.ylabel('Error')"
   ]
  },
  {
   "cell_type": "markdown",
   "metadata": {},
   "source": [
    "We know that projector splitting method can fail at 2D case with nonlinear contraction mapping and very small sizes: $n = 2, r = 1$:\n",
    "\n",
    "$$\\Phi(X) = X_* + \\delta * \\Vert X - X_*\\Vert* \\begin{pmatrix}\n",
    "0 & 0 \\\\\n",
    "0 & 1 \\\\\n",
    "\\end{pmatrix},$$\n",
    "\n",
    "where $X_* = \\begin{pmatrix}\n",
    "1 & 0 \\\\\n",
    "0 & 0 \\\\\n",
    "\\end{pmatrix}, 0 < \\delta < 1.$"
   ]
  },
  {
   "cell_type": "code",
   "execution_count": null,
   "metadata": {
    "code_folding": [],
    "collapsed": true
   },
   "outputs": [],
   "source": []
  },
  {
   "cell_type": "code",
   "execution_count": null,
   "metadata": {
    "collapsed": true
   },
   "outputs": [],
   "source": []
  }
 ],
 "metadata": {
  "kernelspec": {
   "display_name": "Python 2",
   "language": "python",
   "name": "python2"
  },
  "language_info": {
   "codemirror_mode": {
    "name": "ipython",
    "version": 2
   },
   "file_extension": ".py",
   "mimetype": "text/x-python",
   "name": "python",
   "nbconvert_exporter": "python",
   "pygments_lexer": "ipython2",
   "version": "2.7.11"
  }
 },
 "nbformat": 4,
 "nbformat_minor": 0
}
