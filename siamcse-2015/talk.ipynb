{
 "cells": [
  {
   "cell_type": "markdown",
   "metadata": {
    "slideshow": {
     "slide_type": "slide"
    }
   },
   "source": [
    "# Low-rank approximation of matrices and tensors with application to dynamical and optimization problems\n",
    "## Ivan Oseledets\n",
    "## Skolkovo Institute of Science and Technology (Skoltech), Russia"
   ]
  },
  {
   "cell_type": "markdown",
   "metadata": {
    "slideshow": {
     "slide_type": "slide"
    }
   },
   "source": [
    "## Low-rank approximation\n",
    "Low-rank approximation plays an increasingly important role in **fast methods** for **large problems**\n",
    "\n",
    "- Integral equations & fast direct solvers for sparse matrices (H-matrices)\n",
    "- High-dimensional PDEs (Fokker-Planck) \n",
    "- Stochastic PDEs and multiparametric PDEs, uncertainty quantification\n"
   ]
  },
  {
   "cell_type": "markdown",
   "metadata": {
    "slideshow": {
     "slide_type": "slide"
    }
   },
   "source": [
    "## Low-rank approximation of matrices\n",
    "In two dimensions, we have the SVD:\n",
    "$$A \\approx UV^{\\top}, \\quad U \\in \\mathbb{R}^{n \\times r}, \\quad V \\in \\mathbb{R}^{m \\times r}$$\n",
    "The approximation is sought on the **manifold** of low-rank matrices."
   ]
  },
  {
   "cell_type": "markdown",
   "metadata": {
    "slideshow": {
     "slide_type": "slide"
    }
   },
   "source": [
    "## Low-rank approximation of tensors\n",
    "There are different ways to generalize SVD to tensors\n",
    "- CP-format: $A(i_1, \\ldots,i_d) \\approx \\sum_{\\alpha=1}^r U_1(i_1, \\alpha) \\ldots U_d(i_d, \\alpha)$\n",
    "- Subspace approaches (Tucker format, HT-format, TT-format),\n",
    "  that represent a \"good\" manifold as an intersection of \"low-rank\" manifolds in $\\mathbb{R}^{n^d}$"
   ]
  },
  {
   "cell_type": "markdown",
   "metadata": {
    "slideshow": {
     "slide_type": "slide"
    }
   },
   "source": [
    "## Example: Tensor Train decomposition\n",
    "Given a tensor $A(i_1, \\ldots, i_d)$ we define unfoldings $A_1, \\ldots, A_k$ as **reshapes** of the tensor $\\mathbf{A}$,\n",
    "\n",
    "and the TT-manifold is specified by the ranks of these unfoldings"
   ]
  },
  {
   "cell_type": "markdown",
   "metadata": {
    "slideshow": {
     "slide_type": "slide"
    }
   },
   "source": [
    "## TT-decomposition: algebraic structure\n",
    "$$A(i_1, \\ldots, i_d) = G_1(i_1) \\ldots G_d(i_d),$$\n",
    "where $G_k(i_k)$ is $r_{k-1} \\times r_k$, $r_0 = r_d = 1$.\n",
    "\n",
    "**Hypothesis:** if these is a good algorithm for the low-rank matrix approximation, then there is a good algorithm for the subspace tensor representation."
   ]
  },
  {
   "cell_type": "markdown",
   "metadata": {
    "slideshow": {
     "slide_type": "slide"
    }
   },
   "source": [
    "## Algorithms in the TT-format\n",
    "- We can do basic linear algebra (add, multiply, compute norms)\n",
    "- We can do full to TT compression \n",
    "- We can do \"rounding\" (reapproximate a given tensor with another with guaranteed complexity)\n",
    "- We can do cross approximation of the tensor\n",
    "- It is all in the open-source software (TT-Toolbox in MATLAB and Python)"
   ]
  },
  {
   "cell_type": "markdown",
   "metadata": {
    "slideshow": {
     "slide_type": "slide"
    }
   },
   "source": [
    "## General concept for solving problems\n",
    "We have selected our manifold $\\mathcal{M}$ of structured solutions, and we want to approximate the solution of our original problem. \n",
    "\n",
    "For example, a linear system: $A(X) = f$, \n",
    "\n",
    "where the solution $X$ can be indexed by $d$ indices (high-dim PDE, QTT-format)."
   ]
  },
  {
   "cell_type": "markdown",
   "metadata": {
    "slideshow": {
     "slide_type": "slide"
    }
   },
   "source": [
    "## Options for finding a manifold solution\n",
    "**Option 1**: Do ordinary method (preconditioned Krylov) with tensor arithmetics, \n",
    "              $X_{k+1} = P(F(X_k))$\n",
    "              \n",
    "**Option 2**: Reformulate as minimization problem, $(Ax, x) - 2(f, x) \\rightarrow \\min$ and replace the minimization by the minimization over the manifold.\n",
    "\n",
    "\n",
    "**Minimization over the low-rank manifold is crucially important!**"
   ]
  },
  {
   "cell_type": "markdown",
   "metadata": {
    "slideshow": {
     "slide_type": "slide"
    }
   },
   "source": [
    "## Dynamical low-rank approximation\n",
    "Dynamical low-rank approximation is yet another crucial concept. \n",
    "\n",
    "We have time-varying matrix $A(t)$, and we want to approximate by low-rank matrix $A(t)$ \n",
    "\n",
    "(the time $t$ later can be discrete and generalize to any iterative method)."
   ]
  },
  {
   "cell_type": "markdown",
   "metadata": {
    "slideshow": {
     "slide_type": "slide"
    }
   },
   "source": [
    "##Dirac-Frenkel principle\n",
    "\n",
    "Dirac-Frenkel principle gives the variational formulation for dynamical low-rank approximation\n",
    "$$\\Vert \\frac{dA}{dt} - \\frac{dX}{dt} \\Vert \\rightarrow \\min$$"
   ]
  },
  {
   "cell_type": "markdown",
   "metadata": {
    "slideshow": {
     "slide_type": "slide"
    }
   },
   "source": [
    "## Equations of motion in 2D case\n",
    "(Lubich, Koch, H.-D. Meyer,...)  \n",
    "\n",
    "$$\\begin{split}\n",
    "&\\frac{dU}{dt} S = \\frac{dA}{dt} V,\\\\\n",
    "&\\frac{dV}{dt} S^{\\top} = \\frac{dA^{\\top}}{dt} U, \\\\\n",
    "&\\frac{dS}{dt} = U^{\\top} \\frac{dA}{dt} V.\n",
    "\\end{split}$$\n",
    "Suppose, you start from rank-$1$ and evolve into rank-$10$ case: the **matrix $S$ will be singular!**"
   ]
  },
  {
   "cell_type": "markdown",
   "metadata": {
    "slideshow": {
     "slide_type": "slide"
    }
   },
   "source": [
    "## Equations of motion, 2D case (2)\n",
    "The equations of motion can be rewritten for the full matrix  \n",
    "$$\n",
    "   \\frac{dX}{dt} = P_X(\\frac{dA}{dt}),\n",
    "$$\n",
    "where $P_X$ is the **projector onto the tangent space**"
   ]
  },
  {
   "cell_type": "markdown",
   "metadata": {
    "slideshow": {
     "slide_type": "slide"
    }
   },
   "source": [
    "## Projector-splitting\n",
    "**Theorem:** $P_X$ can be represented as\n",
    "$$P_X(Z) = Z - (I - UU^{\\top}) Z (I - VV^{\\top}) = UU^{\\top} Z + Z VV^{\\top} - UU^{\\top} Z VV^{\\top},$$\n",
    "\n",
    "$$P_X(Z) = P_1 + P_2 - P_3$$"
   ]
  },
  {
   "cell_type": "markdown",
   "metadata": {
    "slideshow": {
     "slide_type": "slide"
    }
   },
   "source": [
    "## Integration of the substeps\n",
    "**Theorem** (O., Lubich, 2014): The equations with $P_1$, $P_2$, $P_3$ can be efficiently integrated\n",
    "\n",
    "- **Step \"L\":** $$\\frac{dX}{dt} = UU^{\\top}\\frac{dA}{dt} \\rightarrow \\frac{d(VS^{\\top})}{dt} = \\frac{dA^{\\top}}{dt} U, \\frac{dU}{dt}=0,$$\n",
    "\n",
    "\n",
    "  Thus $L_1 = L_0 + (A_1 - A_0)^{\\top} U_0, U_1 = U_0$.\n",
    "- **Step \"K\":** $$\\frac{dX}{dt} = \\frac{dA}{dt} VV^{\\top} \\rightarrow \\frac{d(US)}{dt} = \\frac{dA}{dt} V, \\frac{dV}{dt}=0,$$\n",
    "  Thus $K_1 = K_0 + (A_1 - A_0) V_0, V_1 = V_0$\n",
    "\n",
    "- **Step \"S\":** $$\\frac{dX}{dt} = UU^{\\top}\\frac{dA}{dt} VV^{\\top} \\rightarrow \\frac{d(S)}{dt} = U\\frac{dA}{dt} V, \\frac{dV}{dt}=0, \\frac{dU}{dt} = 0,$$  \n",
    "\n",
    "\n",
    "  Thus $S_1 = S_0 \\mathbf{-} U^{\\top}_0(A_1 - A_0) V_0, V_1 = V_0, U_1 = U_0$  \n",
    "  Here $A_0 = A(t), A_1 = A(t + \\tau)$"
   ]
  },
  {
   "cell_type": "markdown",
   "metadata": {
    "slideshow": {
     "slide_type": "slide"
    }
   },
   "source": [
    "## K-S-L order vs. K-L-S order\n",
    "We can do a short demo of the different orders of splitting by taking two values $A_0, A_1$."
   ]
  },
  {
   "cell_type": "code",
   "execution_count": 2,
   "metadata": {
    "collapsed": false,
    "slideshow": {
     "slide_type": "fragment"
    }
   },
   "outputs": [
    {
     "name": "stdout",
     "output_type": "stream",
     "text": [
      "Error: 1.64942923088e-15\n"
     ]
    }
   ],
   "source": [
    "import numpy as np\n",
    "\n",
    "n = 5\n",
    "r = 2\n",
    "m = 5\n",
    "def random_usv(n, m, r):\n",
    "    u = np.random.randn(n, r)\n",
    "    u = np.linalg.qr(u)[0]\n",
    "    v = np.random.randn(m, r)\n",
    "    v = np.linalg.qr(v)[0]\n",
    "    s = np.random.randn(r, r)\n",
    "    return u, s, v\n",
    "u0, s0, v0 = random_usv(n, m, r)\n",
    "u1, s1, v1 = random_usv(n, m, r)\n",
    "\n",
    "#Generate A0, A1 from the manifold\n",
    "A0 = u0.dot(s0).dot(v0.T)\n",
    "A1 = u1.dot(s1).dot(v1.T)\n",
    "\n",
    "u = u0.copy(); v = v0.copy(); s = s0.copy()\n",
    "# K-step\n",
    "K = u.dot(s); K = K + (A1 - A0).dot(v)\n",
    "u, s = np.linalg.qr(K)\n",
    "# S-step\n",
    "s = s - u.T.dot(A1 - A0).dot(v)\n",
    "\n",
    "# L-step\n",
    "L = v.dot(s.T); L = L + (A1 - A0).T.dot(u)\n",
    "v, s = np.linalg.qr(L)\n",
    "s = s.T\n",
    "\n",
    "\n",
    "Appr = u.dot(s).dot(v.T)\n",
    "print 'Error:', np.linalg.norm(A1 - Appr)"
   ]
  },
  {
   "cell_type": "markdown",
   "metadata": {
    "slideshow": {
     "slide_type": "slide"
    }
   },
   "source": [
    "## Exactness result\n",
    "The order of the splitting steps is crucial, moreover, we have the following **exactness result**\n",
    "\n",
    "If $A_0 = U_0 S_0 V^{\\top}_0$ and $A_1$ is of rank $r$, the projector-splitting scheme in the **KSL** order is **exact**."
   ]
  },
  {
   "cell_type": "markdown",
   "metadata": {
    "slideshow": {
     "slide_type": "slide"
    }
   },
   "source": [
    "## Projector-splitting in the dD-case\n",
    "$$\n",
    "     \\frac{Y(t)}{dt} = P_{Y(t)}(\\frac{dA(t)}{dt}), \\qquad Y(t_0)=Y_0\\in \\mathcal{M},\n",
    "$$\n",
    "$$\n",
    "    P_X =\\sum_{k=1}^{d-1}  (P_{\\le k-1} P_{\\ge k+1} - P_{\\le k} P_{\\ge k+1})  + P_{\\le d-1} P_{\\ge d+1},\n",
    "$$\n",
    "$$\n",
    "\\begin{split}\n",
    "&P_{\\le k}\\colon \\R^{n_1 \\times \\cdots \\times n_d} \\to T_X \\mathcal{M}, \\  Z \\mapsto \\mathrm{Ten}_k (  \\matP_{\\le k} \\matZ^{\\langle k \\rangle})\\\\\n",
    " &P_{\\ge i}\\colon \\R^{n_1 \\times \\cdots \\times n_d} \\to T_X \\mathcal{M}, \\  Z \\mapsto \\mathrm{Ten}_{k-1} (  \\matZ^{\\langle k-1 \\rangle}  \\matP_{\\ge k} )  .\n",
    " \\end{split}\n",
    "$$\n",
    "\n",
    "$\n",
    "\\matP_{\\le k} = \\matQ_{\\le k}\\matQ_{\\le k}^\\top, \\qquad\\hbox{and}\\qquad\n",
    "\\matP_{\\ge k} = \\matQ_{\\ge k}\\matQ_{\\ge k}^\\top,\n",
    "$\n",
    "\n",
    "Lubich, Vandreycken, O., SINUM, 2015 - accepted."
   ]
  },
  {
   "cell_type": "markdown",
   "metadata": {
    "slideshow": {
     "slide_type": "slide"
    }
   },
   "source": [
    "## KSL as retraction\n",
    "Thus, KSL can be used as **rectraction** from the tangent space to the manifold, \n",
    "i.e. $A_1 = A_0 + \\delta A$, then KSL gives simple formulas for such projection (and it is a second-order retraction as shown in O., Absil, 2014)"
   ]
  },
  {
   "cell_type": "markdown",
   "metadata": {
    "slideshow": {
     "slide_type": "slide"
    }
   },
   "source": [
    "## Riemannian optimization\n",
    "The simplest \"geometrical method\" for the optimization over the low-rank manifold is the projected gradient iteration:\n",
    "\n",
    "$$\n",
    "    X_{k+1} = R(X_k + P (\\mathrm{grad}(F))),\n",
    "$$\n",
    "where $P$ is the projection onto the tangent space, $R$ brings the iterate backs to the manifold.\n",
    "Suggestion: use KSL for the retraction. The gradient method often has slow convergence.\n"
   ]
  },
  {
   "cell_type": "markdown",
   "metadata": {
    "slideshow": {
     "slide_type": "slide"
    }
   },
   "source": [
    "## Riemannian optimization \"for the poor\"\n",
    "\n",
    "There are several second-order methods; a simpler way is a Gauss-Newton type method.\n",
    "Suppose our initial point is $x_0$, and the vector on the tangent space can be parametrized as $Qp$.\n",
    "\n",
    "Then, consider the next step as a minimization of the target functional over the full tangent space.\n",
    "\n",
    "For quadratic functionals (i.e., tensor completion, linear systems, eigenvalue problems)\n",
    "\n",
    "we have \n",
    "$$Q^{\\top} A Q p = Q^{\\top} f$$  \n",
    "\n",
    "as the system for $p$. For the TT-case, vector $p$ consists of $\\delta G_k$, so the system is meant to be solved iteratively (and preconditioned by the ALS method). The matrix-by-vector product has a simple meaning.\n",
    " \n",
    "Preliminary implementation for the tensor completion shows that it works well (and ALS may not always work well!).\n"
   ]
  },
  {
   "cell_type": "markdown",
   "metadata": {
    "slideshow": {
     "slide_type": "slide"
    }
   },
   "source": [
    "## Numerical experiments\n",
    "Now we can go to numerical experiments"
   ]
  },
  {
   "cell_type": "markdown",
   "metadata": {
    "slideshow": {
     "slide_type": "slide"
    }
   },
   "source": [
    "## Vibrational spectra\n",
    "We compare the TT-KSL scheme with the [MCTDH package](http://www.pci.uni-heidelberg.de/cms/mctdh.html) for the benchmark problem with [Henon-Heiles potential](http://dx.doi.org/10.1063/1.1521129) \n",
    "\\begin{equation}\n",
    "    \\frac{d\\psi}{dt} = i H \\psi, \\quad \\psi(0) = \\psi_0,\n",
    "\\end{equation}\n",
    "where $H$ has the form\n",
    "\\begin{equation}\n",
    "  \\def\\Hlap{-\\frac12 \\Delta}\n",
    "  \\def\\Hhar{\\frac12 \\sum_{k=1}^f q^2_k}\n",
    "  \\def\\Hanh{\\sum_{k=1}^{f-1}\\left(q^2_k q_{k+1} - \\frac13 q^3_{k+1} \\right)}\n",
    "   H = \\Hlap + \\underbrace{\\Hhar + \\overbrace{\\lambda \\Hanh}^{\\textrm{anharmonic part}}}_{\\textrm{Henon-Heiles potential}~V(q_1,\\ldots,q_f)}.\n",
    "\\end{equation}"
   ]
  },
  {
   "cell_type": "markdown",
   "metadata": {
    "slideshow": {
     "slide_type": "slide"
    }
   },
   "source": [
    "## Spectra comparison\n",
    "<div style=\"float: left; width: 40%; margin-right: 5%; margin-bottom: 0.5em;\">\n",
    "<p style=\"text-align:left\"> Spectra for a 10D problem </p>\n",
    "<img src=\"ksl_mctdh_plot.png\" >\n",
    "</div>\n",
    "<div style=\"float: left; width: 40%; margin-right: 5%; margin-bottom: 0.5em;\">\n",
    "<p style=\"text-align:left\"> Zoomed spectra for a 10D problem</p>\n",
    "<img src=\"ksl_mctdh_plot_zoom.png\" >\n",
    "</div>\n",
    "<p style=\"clear: both;\">\n",
    "Computational time: **54354** (MCTDH) vs **4425** (TT-KSL)"
   ]
  },
  {
   "cell_type": "markdown",
   "metadata": {
    "slideshow": {
     "slide_type": "slide"
    }
   },
   "source": [
    "## Low-rank in space & time for dynamical problems\n",
    "We want to utilized the low-rank in space and time:\n",
    "\n",
    "Given an ODE \n",
    "\n",
    "$\\frac{dy}{dt} = Ay, \\quad y(0) = y_0$ \n",
    "\n",
    "we want to find an optimal small-dimensional subspace $U$ for the solution:\n",
    "\n",
    "$$y(t) \\approx U c(t), \\quad U^* U = I_r.$$"
   ]
  },
  {
   "cell_type": "markdown",
   "metadata": {},
   "source": [
    "## Lyapunov equation\n",
    "The optimal $U$ can be recovered from the leading eigenvectors of the solution of the Lyapunov equation:\n",
    "$$\n",
    "   A X + XA^* = -y_0 y^*_0,\n",
    "$$\n",
    "\n",
    "$$\n",
    "X \\approx U Z U^{\\top}.\n",
    "$$\n",
    "In http://arxiv.org/abs/1410.3335 (D. Kolesnikov, O.) we have proposed to use\n",
    "$$\n",
    "   F(U) = \\int^{\\infty}_0 \\Vert y - U e^{Bt} U^{*} y_0 \\Vert^2 dt,\n",
    "$$\n",
    "\n",
    "where $B = U^* A U$ as the functional for low-rank solution of the Lyapunov equation.\n",
    "\n",
    "This functional is computable, given an unitary $U$!\n",
    "\n"
   ]
  },
  {
   "cell_type": "markdown",
   "metadata": {},
   "source": [
    "## ALR method\n",
    "The final **alternating low-rank method** is very simple to implement:\n",
    "\n",
    "$$U_{k+1} = \\mathrm{orth}([U_k, v_k, w_k]),$$\n",
    "where $w$ is the next Arnoldi vector, and $v_k$ is the rational Krylov vector\n",
    "\n",
    "$$v_k = (A + \\lambda_k I)^{-1} y_0,$$\n",
    "and $\\lambda_k$ is computed as \n",
    "\n",
    "$$\n",
    "  \\lambda_k = q^* B_k q, \n",
    "$$\n",
    "\n",
    "where $q$ is the last column of the solution $Z$ of the \"small\" Lyapunov equation\n",
    "$$ B_k Z + ZB_k^* = c_0 c^*_0$$\n"
   ]
  },
  {
   "cell_type": "markdown",
   "metadata": {
    "slideshow": {
     "slide_type": "slide"
    }
   },
   "source": [
    "## Papers and software\n",
    "My webpage: http://oseledets.github.io  \n",
    "\n",
    "**Software**\n",
    "- TT-Toolbox: https://github.com/oseledets/ttpy (Python)\n",
    "- https://github.com/oseledets/TT-Toolbox (MATLAB)\n",
    "\n",
    "**Papers**\n",
    "- I. V. Oseledets. Tensor-train decomposition. SIAM J. Sci. Comput., 33(5):2295–2317, 2011\n",
    "- [D. A. Kolesnikov and I. V. Oseledets. From low-rank approximation to an efficient rational Krylov subspace method for the Lyapunov equation. arXiv preprint 1410.3335, 2014](http://arxiv.org/pdf/1410.3335v2.pdf)\n",
    "- \n",
    "- Christian Lubich and Ivan V. Oseledets. A projector-splitting integrator for dynamical low-rank approximation. BIT, 54(1):171–188, 2014\n",
    "- [Christian Lubich, Ivan Oseledets, and Bart Vandereycken. Time integration of tensor trains. arXiv preprint 1407.2042, 2014.](http://arxiv.org/abs/1407.2042)\n",
    "- [Jutho Haegeman, Christian Lubich, Ivan Oseledets, Bart Vandereycken, and Frank Verstraete. Unifying time evolution and optimization with matrix product states. arXiv preprint 1408.5056, 2014.](http://arxiv.org/abs/1408.5056)\n",
    "- Grasedyck, L. and Kressner, D. and Tobler, C. A literature survey of low-rank tensor approximation techniques. \n"
   ]
  },
  {
   "cell_type": "markdown",
   "metadata": {
    "slideshow": {
     "slide_type": "slide"
    }
   },
   "source": [
    "## Conclusions\n",
    "- Manifold optimization is the key to fast algorithms\n",
    "- Projector-splitting (KSL) scheme is extremely simple and efficient "
   ]
  },
  {
   "cell_type": "markdown",
   "metadata": {
    "slideshow": {
     "slide_type": "slide"
    }
   },
   "source": [
    "## Publications, software\n",
    "- http://oseledets.github.io - group website, papers, etc.\n",
    "- http://github.com/oseledets/TT-Toolbox\n",
    "- http://github.com/oseledets/ttpy"
   ]
  },
  {
   "cell_type": "markdown",
   "metadata": {
    "slideshow": {
     "slide_type": "slide"
    }
   },
   "source": [
    "##### Questions?"
   ]
  },
  {
   "cell_type": "code",
   "execution_count": 19,
   "metadata": {
    "collapsed": false,
    "slideshow": {
     "slide_type": "skip"
    }
   },
   "outputs": [
    {
     "data": {
      "text/html": [
       "<link href='http://fonts.googleapis.com/css?family=Fenix' rel='stylesheet' type='text/css'>\n",
       "<link href='http://fonts.googleapis.com/css?family=Alegreya+Sans:100,300,400,500,700,800,900,100italic,300italic,400italic,500italic,700italic,800italic,900italic' rel='stylesheet' type='text/css'>\n",
       "<link href='http://fonts.googleapis.com/css?family=Source+Code+Pro:300,400' rel='stylesheet' type='text/css'>\n",
       "<style>\n",
       "    @font-face {\n",
       "        font-family: \"Computer Modern\";\n",
       "        src: url('http://mirrors.ctan.org/fonts/cm-unicode/fonts/otf/cmunss.otf');\n",
       "    }\n",
       "    div.cell{\n",
       "        /*width:80%;*/\n",
       "        /*margin-left:auto !important;\n",
       "        margin-right:auto;*/\n",
       "    }\n",
       "    h1 {\n",
       "        font-family: 'Alegreya Sans', sans-serif;\n",
       "    }\n",
       "    h2 {\n",
       "        font-family: 'Fenix', serif;\n",
       "    }\n",
       "    h3{\n",
       "\t\tfont-family: 'Fenix', serif;\n",
       "        margin-top:12px;\n",
       "        margin-bottom: 3px;\n",
       "       }\n",
       "\th4{\n",
       "\t\tfont-family: 'Fenix', serif;\n",
       "       }\n",
       "    h5 {\n",
       "        font-family: 'Alegreya Sans', sans-serif;\n",
       "    }\t   \n",
       "    div.text_cell_render{\n",
       "        font-family: 'Alegreya Sans',Computer Modern, \"Helvetica Neue\", Arial, Helvetica, Geneva, sans-serif;\n",
       "        font-size: 160%;\n",
       "        line-height: 121%;\n",
       "        /*width:70%;*/\n",
       "        /*margin-left:auto;*/\n",
       "        margin-right:auto;\n",
       "    }\n",
       "    li {\n",
       "        line-height: 121%;\n",
       "    }\n",
       "    .CodeMirror{\n",
       "            font-family: \"Source Code Pro\";\n",
       "\t\t\tfont-size: 90%;\n",
       "    }\n",
       "/*    .prompt{\n",
       "        display: None;\n",
       "    }*/\n",
       "    .text_cell_render h1 {\n",
       "        font-weight: 200;\n",
       "        font-size: 50pt;\n",
       "\t\tline-height: 110%;\n",
       "        color:#CD2305;\n",
       "        margin-bottom: 0.5em;\n",
       "        margin-top: 0.5em;\n",
       "        display: block;\n",
       "    }\t\n",
       "    .text_cell_render h5 {\n",
       "        font-weight: 300;\n",
       "        font-size: 16pt;\n",
       "        color: #CD2305;\n",
       "        font-style: italic;\n",
       "        margin-bottom: .5em;\n",
       "        margin-top: 0.5em;\n",
       "        display: block;\n",
       "    }\n",
       "    \n",
       "    .warning{\n",
       "        color: rgb( 240, 20, 20 )\n",
       "        }  \n",
       ".floated_img\n",
       "{\n",
       "        float: left;\n",
       "    }\n",
       "</style>\n",
       "<script>\n",
       "    MathJax.Hub.Config({\n",
       "                        TeX: {\n",
       "                           extensions: [\"AMSmath.js\"]\n",
       "                           },\n",
       "                tex2jax: {\n",
       "                    inlineMath: [ ['$','$'], [\"\\\\(\",\"\\\\)\"] ],\n",
       "                    displayMath: [ ['$$','$$'], [\"\\\\[\",\"\\\\]\"] ]\n",
       "                },\n",
       "                displayAlign: 'center', // Change this to 'center' to center equations.\n",
       "                \"HTML-CSS\": {\n",
       "                    styles: {'.MathJax_Display': {\"margin\": 4}}\n",
       "                }\n",
       "        });\n",
       "</script>\n"
      ],
      "text/plain": [
       "<IPython.core.display.HTML at 0x11b6c8b10>"
      ]
     },
     "execution_count": 19,
     "metadata": {},
     "output_type": "execute_result"
    }
   ],
   "source": [
    "from IPython.core.display import HTML\n",
    "def css_styling():\n",
    "    styles = open(\"../common/custom.css\", \"r\").read()\n",
    "    return HTML(styles)\n",
    "css_styling()"
   ]
  }
 ],
 "metadata": {
  "celltoolbar": "Slideshow",
  "kernelspec": {
   "display_name": "Python 2",
   "language": "python",
   "name": "python2"
  },
  "language_info": {
   "codemirror_mode": {
    "name": "ipython",
    "version": 2
   },
   "file_extension": ".py",
   "mimetype": "text/x-python",
   "name": "python",
   "nbconvert_exporter": "python",
   "pygments_lexer": "ipython2",
   "version": "2.7.11"
  }
 },
 "nbformat": 4,
 "nbformat_minor": 0
}
