{
 "cells": [
  {
   "cell_type": "markdown",
   "metadata": {},
   "source": [
    "# Grid-based DFT/HF equations: the tensor decomposition approach"
   ]
  },
  {
   "cell_type": "markdown",
   "metadata": {},
   "source": [
    "We consider <font color='red'> Hartree-Fock </font> and <font color='red'> DFT </font> equations.\n",
    "\n",
    "$$H(\\Psi) \\Psi = E \\Psi.$$\n",
    "### Our approach:\n",
    "* Fully grid based -- no basis set error.\n",
    "* Real space orbitals are in the Tucker format $\\Longrightarrow$ linear in 1D grid size complexity $\\mathcal{O}(n^3) \\rightarrow \\mathcal{O}(n)$\n",
    "* Fast 3D convolutions via cross approximation"
   ]
  },
  {
   "cell_type": "markdown",
   "metadata": {},
   "source": [
    "### Some details\n",
    "\n",
    "* Preconditioned direct minimization procedure -- good for tensor formats\n",
    "* Derivative free calculations of the Fock matrix\n",
    "* DIIS procedure\n",
    "* Aitken's extrapolation"
   ]
  },
  {
   "cell_type": "markdown",
   "metadata": {},
   "source": [
    "### Algorithm\n",
    "\n",
    "1. Calculate $\\widehat \\Phi = (\\hat \\phi_1, \\dots, \\hat \\phi_N)$: $\\hat\\phi_i =2\\, (-\\Delta - 2 \\lambda_i^{(k)})^{-1} V^{(k)}\\phi_i^{(k)}$.\n",
    "<br><br>\n",
    "2. $\\widehat \\Phi$:  $\\widetilde \\Phi = \\widehat \\Phi L^{-T}$, where $L$: $LL^T =  \\int_{\\mathbb{R}^3} \\widehat \\Phi^T \\widehat \\Phi \\, d{\\bf r}$.\n",
    "<br><br>\n",
    "3. Calculate the Fock matrix $F =  \\int_{\\mathbb{R}^3} \\widetilde\\Phi^T  H^{(k+1)}\\ \\widetilde\\Phi \\, d{\\bf r}$ via derivative-free formula:\n",
    "<br><br>\n",
    "$$\n",
    "F = \\int_{\\mathbb{R}^3} \\left( \\widetilde\\Phi^T  V^{(k+1)} \\widetilde\\Phi - \\widetilde\\Phi^T  V^{(k)} \\Phi^{(k)}L^{-T} + L^{-1}\\,\\widehat\\Phi^T\\widehat\\Phi\\Lambda^{(k)} L^{-T} \\right) \\, d{\\bf r},\n",
    "$$\n",
    "<br>\n",
    "4. Find new orbital energies by diagonalizing $F$: $ \\Lambda^{(k+1)} = S^{-1} F S$\n",
    "<br><br>\n",
    "5. Find new orbitals: $\\Phi^{(k+1)} = \\widetilde \\Phi S$"
   ]
  },
  {
   "cell_type": "markdown",
   "metadata": {},
   "source": [
    "### Accuracy and extrapolation"
   ]
  },
  {
   "cell_type": "markdown",
   "metadata": {},
   "source": [
    "<img src=\"extrapolation.png\"  width=\"600\" height=\"600\" >"
   ]
  },
  {
   "cell_type": "markdown",
   "metadata": {},
   "source": [
    "### Experiments: Accuracy for He\n",
    "For Helium <font color='red'> $E = -2.861\\ 679\\ 996$ </font>. We get\n",
    "<img src=\"he.png\">"
   ]
  },
  {
   "cell_type": "markdown",
   "metadata": {},
   "source": [
    "### Experiments: Molecules\n",
    "<img src=\"molecules.png\">"
   ]
  },
  {
   "cell_type": "markdown",
   "metadata": {},
   "source": [
    "## Experiments: Clusters\n",
    "\n",
    "For clusters we observed that ranks grow sublinearly with the system size:\n",
    "* H$_{3\\times 2 \\times 2}$: highest ranks $= 35\\times35\\times 20$\n",
    "* H$_{9\\times 2 \\times 2}$: highest ranks $= 36\\times36\\times 24$"
   ]
  },
  {
   "cell_type": "markdown",
   "metadata": {},
   "source": [
    "### Experiments: Factors Behavior\n",
    "\n",
    "<img src=\"factors.png\">"
   ]
  }
 ],
 "metadata": {
  "kernelspec": {
   "display_name": "Python 2",
   "language": "python",
   "name": "python2"
  },
  "language_info": {
   "codemirror_mode": {
    "name": "ipython",
    "version": 2
   },
   "file_extension": ".py",
   "mimetype": "text/x-python",
   "name": "python",
   "nbconvert_exporter": "python",
   "pygments_lexer": "ipython2",
   "version": "2.7.11"
  }
 },
 "nbformat": 4,
 "nbformat_minor": 0
}
