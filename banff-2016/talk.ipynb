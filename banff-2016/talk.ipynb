{
 "cells": [
  {
   "cell_type": "code",
   "execution_count": 18,
   "metadata": {
    "collapsed": false,
    "slideshow": {
     "slide_type": "skip"
    }
   },
   "outputs": [
    {
     "data": {
      "text/plain": [
       "{u'scroll': True,\n",
       " u'start_slideshow_at': 'selected',\n",
       " u'theme': 'sky',\n",
       " u'transition': 'zoom'}"
      ]
     },
     "execution_count": 18,
     "metadata": {},
     "output_type": "execute_result"
    }
   ],
   "source": [
    "from IPython.html.services.config import ConfigManager\n",
    "from IPython.utils.path import locate_profile\n",
    "cm = ConfigManager(profile_dir=locate_profile(get_ipython().profile))\n",
    "cm.update('livereveal', {\n",
    "              'theme': 'sky',\n",
    "              'transition': 'zoom',\n",
    "              'start_slideshow_at': 'selected',\n",
    "})"
   ]
  },
  {
   "cell_type": "code",
   "execution_count": null,
   "metadata": {
    "collapsed": true
   },
   "outputs": [],
   "source": []
  },
  {
   "cell_type": "code",
   "execution_count": null,
   "metadata": {
    "collapsed": true
   },
   "outputs": [],
   "source": []
  },
  {
   "cell_type": "markdown",
   "metadata": {
    "slideshow": {
     "slide_type": "slide"
    }
   },
   "source": [
    "# Tensor train(s) for quantum chemistry\n",
    "##### Ivan Oseledets, Skolkovo Institute of Science and Technology \n",
    "##### oseledets.github.io, i.oseledets@skoltech.ru"
   ]
  },
  {
   "cell_type": "markdown",
   "metadata": {
    "slideshow": {
     "slide_type": "slide"
    }
   },
   "source": [
    "##  Plan of the talk\n",
    "\n",
    "\n",
    "Tell the story about what we tried to do in quantum chemistry in the last 5+ years."
   ]
  },
  {
   "cell_type": "markdown",
   "metadata": {
    "slideshow": {
     "slide_type": "slide"
    }
   },
   "source": [
    "## Why we started doing numerical tensor methods\n",
    "\n",
    "Because we worked with matrices and their low-rank approximations, and one day asked a question:\n",
    "\n",
    "**What happens, if we take $a_{ijk}$ instead of $a_{ij}$?**"
   ]
  },
  {
   "cell_type": "markdown",
   "metadata": {
    "slideshow": {
     "slide_type": "slide"
    }
   },
   "source": [
    "## Which quantum chemistry problems can be considered by numerical tensor methods\n",
    "\n",
    "-  Stationary or instationary Schrodinger equation\n",
    "\n",
    "$$ H = -\\frac{1}{2} \\Delta + V, $$\n",
    "\n",
    "$$ H \\psi_i = E_i \\psi_i.$$ \n",
    "(Several low-lying eigenstates, vibrational problems)\n",
    "\n",
    "-  $$\\frac{d\\psi}{dt} = i H \\psi, \\quad \\psi(0) = \\psi_0, \\quad \\psi = \\psi(x, t) \\quad x \\in \\mathbb{C}^d.$$  \n",
    "\n",
    "\n",
    "-  Approximation of PES itself by **sampling**\n",
    "\n",
    "\n",
    "\n",
    "- Even single-point PES evaluation (electronic structure) can be done by tensors!"
   ]
  },
  {
   "cell_type": "markdown",
   "metadata": {
    "slideshow": {
     "slide_type": "slide"
    }
   },
   "source": [
    "## Main tool\n",
    "\n",
    "The main tool is the **tensor-train** format which has the form (similar to the CP-format)\n",
    "\n",
    "$$A(i_1, \\ldots, i_d) = G_1(i_1) G_2(i_2) \\ldots G_d(i_d), $$\n",
    "\n",
    "where $G_k(i_k)$ is $r_{k-1} \\times r_k$, $r_0 = r_d = 1$.\n",
    "\n",
    "Known as **matrix product states** to represent spin wavefunctions for a long time.\n",
    "\n",
    "Also known as **linear tensor network**"
   ]
  },
  {
   "cell_type": "markdown",
   "metadata": {
    "slideshow": {
     "slide_type": "slide"
    }
   },
   "source": [
    "## Good things about TT-format\n",
    "\n",
    "- Can be computed by sequential singular value decompositions (SVD)\n",
    "- Always works when sum-of-products works ($r_k \\leq r$).\n",
    "- The convergence of alternating least squares is way better\n",
    "- (Typically) simpler to implement than H-Tucker, cycles"
   ]
  },
  {
   "cell_type": "markdown",
   "metadata": {
    "slideshow": {
     "slide_type": "slide"
    }
   },
   "source": [
    "## TT and SVD\n",
    "\n",
    "The rank $r_k$ are the ranks of the **unfoldings**\n",
    "\n",
    "$$A(i_1 \\ldots i_k; i_{k+1} \\ldots i_d).$$\n",
    "\n",
    "The algorithm is constructive (and very simple, takes 20-30 lines of code)."
   ]
  },
  {
   "cell_type": "markdown",
   "metadata": {
    "slideshow": {
     "slide_type": "slide"
    }
   },
   "source": [
    "## Basic operations\n",
    "\n",
    "- We can do basic linear algebra operations in $\\mathcal{O}(dnr^{\\alpha})$ \n",
    "- We can do rank reduction in $\\mathcal{O}(dnr^3)$ operations\n",
    "- We can recover the tensor exactly by sampling\n",
    "\n",
    "\n",
    "Now we go to the story, and start from electronic structure computations.\n"
   ]
  },
  {
   "cell_type": "markdown",
   "metadata": {
    "slideshow": {
     "slide_type": "slide"
    }
   },
   "source": [
    "## Tensor-based electronic structure computations\n",
    "Joint work with Maxim Rakhuba http://arxiv.org/pdf/1508.07632.pdf\n",
    "\n",
    "We consider <font color='red'> Hartree-Fock </font> and <font color='red'> DFT </font> equations.\n",
    "\n",
    "$$H(\\Psi) \\Psi = \\Psi \\Lambda.$$\n",
    "### Our approach:\n",
    "* Fully $n \\times n \\times n$ grid based -- controlled basis set error.\n",
    "* Real space orbitals are in the Tucker format $\\Longrightarrow$ linear in 1D grid size complexity $\\mathcal{O}(n^3) \\rightarrow \\mathcal{O}(n)$\n",
    "* Fast 3D convolutions via cross approximation"
   ]
  },
  {
   "cell_type": "markdown",
   "metadata": {
    "slideshow": {
     "slide_type": "slide"
    }
   },
   "source": [
    "### Some details for our grid-based electronic structure solver\n",
    "\n",
    "* Preconditioned direct minimization procedure -- good for tensor formats\n",
    "* Derivative free calculations of the Fock matrix\n",
    "* DIIS procedure\n",
    "* Aitken's extrapolation"
   ]
  },
  {
   "cell_type": "markdown",
   "metadata": {
    "slideshow": {
     "slide_type": "slide"
    }
   },
   "source": [
    "### Accuracy and extrapolation\n",
    "\n",
    "<img src=\"extrapolation.png\"  width=\"600\" height=\"600\" >"
   ]
  },
  {
   "cell_type": "markdown",
   "metadata": {
    "slideshow": {
     "slide_type": "slide"
    }
   },
   "source": [
    "### Experiments: Accuracy for He\n",
    "For Helium HF-limit <font color='red'> $E = -2.861\\ 679\\ 996$ </font>. We get\n",
    "<img src=\"he.png\">"
   ]
  },
  {
   "cell_type": "markdown",
   "metadata": {
    "slideshow": {
     "slide_type": "slide"
    }
   },
   "source": [
    "### Experiments: Molecules\n",
    "<img src=\"molecules.png\">"
   ]
  },
  {
   "cell_type": "markdown",
   "metadata": {
    "slideshow": {
     "slide_type": "slide"
    }
   },
   "source": [
    "## Experiments: Clusters\n",
    "\n",
    "For clusters we observed that ranks grow sublinearly with the system size:\n",
    "* H$_{3\\times 2 \\times 2}$: highest ranks $= 35\\times35\\times 20$\n",
    "* H$_{9\\times 2 \\times 2}$: highest ranks $= 36\\times36\\times 24$"
   ]
  },
  {
   "cell_type": "markdown",
   "metadata": {
    "slideshow": {
     "slide_type": "slide"
    }
   },
   "source": [
    "### Experiments: Factors (similar to basis functions in MCTDH) behavior\n",
    "\n",
    "<img src=\"factors.png\">"
   ]
  },
  {
   "cell_type": "markdown",
   "metadata": {
    "slideshow": {
     "slide_type": "slide"
    }
   },
   "source": [
    "## Sampling low-rank functions\n",
    "\n",
    "Given a functions $f(x_1, \\ldots, x_d)$ that can be represented as a sum-of-products, what can we say about its recovery from samples?"
   ]
  },
  {
   "cell_type": "markdown",
   "metadata": {
    "slideshow": {
     "slide_type": "slide"
    }
   },
   "source": [
    "## Warning\n",
    "\n",
    "We heard about canonical polyadic (CP) CP-format:\n",
    "\n",
    "$$A(i_1, \\ldots, i_d) = \\sum_{\\alpha=1}^r A_1(i_1, \\alpha) \\ldots A_d(i_d, \\alpha).$$\n",
    "\n",
    "CP-format can be hard to fit: although for a given tensor it might be easy to fit, in general it is an **NP-hard problem** even to determine the rank!\n",
    "\n",
    "Thus, **robust sampling** in the CP-format can be tricky.\n",
    "\n",
    "In TT-format is absolutely different!"
   ]
  },
  {
   "cell_type": "markdown",
   "metadata": {
    "slideshow": {
     "slide_type": "slide"
    }
   },
   "source": [
    "## Sampling in the TT-format\n",
    "\n",
    "Theorem (O., Tyrtyshnikov, 2010): A rank-$r$ tensor can be exactly recovered from $\\mathcal{O}(dnr^2)$ elements.\n",
    "\n",
    "The algorithm named **TT-cross** was also proposed."
   ]
  },
  {
   "cell_type": "markdown",
   "metadata": {
    "slideshow": {
     "slide_type": "slide"
    }
   },
   "source": [
    "## The name \"cross\" comes from matrix case\n",
    "\n",
    "In general, rank-$r$ matrix can be **exactly recovered** from $r$ columns and $r$ rows. (It is Gaussian elimination in disguise).\n",
    "\n",
    "<img src='cross-pic.png' width=60%> </img>"
   ]
  },
  {
   "cell_type": "markdown",
   "metadata": {
    "slideshow": {
     "slide_type": "slide"
    }
   },
   "source": [
    "## How do we find \"good columns\"\n",
    "\n",
    "The guiding principle in finding good columns is **maximum-volume** principle: \n",
    "\n",
    "If $\\widehat{A}$ has the largest possible absolute value of the determinant,\n",
    "\n",
    "then (Goreinov, Tyrtyshnikov)\n",
    "\n",
    "$$\\Vert A - A_{skel} \\Vert_C \\leq (r+1)^2 \\Vert A - A_{best} \\Vert_C.$$\n",
    "\n",
    "It is related to the **(quasi)-optimal interpolation points** problem for the given basis set."
   ]
  },
  {
   "cell_type": "markdown",
   "metadata": {
    "slideshow": {
     "slide_type": "slide"
    }
   },
   "source": [
    "## PES sampling\n",
    "\n",
    "- We have a cross-approximation code in our software package TT-Toolbox (both MATLAB and Python versions available)\n",
    "\n",
    "- Coupling to electronic structure software is technically difficult\n",
    "\n",
    "V. Baranov, I. Oseledets, Fitting high-dimensional potential energy surface using active subspace and tensor train (AS+TT) method, J. Chem. Phys., 2015\n",
    "\n",
    "The idea was combine it with learning the **linear transformation** of Cartesian coordinates. \n",
    "\n",
    "The directions were chosen as **principal directions** of randomly sampled **gradients**"
   ]
  },
  {
   "cell_type": "markdown",
   "metadata": {
    "slideshow": {
     "slide_type": "slide"
    }
   },
   "source": [
    "## TT+AS\n",
    "\n",
    "Here are results for the water molecule (the AS approach catches only translational degrees of freedom).\n",
    "\n",
    "<div style=\"float: left; width: 45%; margin-right: 5%; margin-bottom: 0.5em;\">\n",
    "<p style=\"text-align:left\"> Ranks </p>\n",
    "<img src=\"table1.png\" >\n",
    "</div>\n",
    "<div style=\"float: left; width: 45%; margin-right: 5%; margin-bottom: 0.5em;\">\n",
    "<p style=\"text-align:left\"> Accuracy </p>\n",
    "<img src=\"table2.png\" >\n",
    "</div>\n",
    "<p style=\"clear: both;\">\n"
   ]
  },
  {
   "cell_type": "markdown",
   "metadata": {
    "slideshow": {
     "slide_type": "slide"
    }
   },
   "source": [
    "## How to compute eigenvalues?\n",
    "\n",
    "$$ H \\psi = E \\psi, $$\n",
    "\n",
    "$\\psi \\in \\mathcal{M}$, where $\\mathcal{M}$ is the manifold.\n",
    "\n",
    "- **Method 1:** Do standard iteration + rank reduction. The original iteration should converge fast!\n",
    "- **Method 2:** Formulate the original problem as **optimization problem**"
   ]
  },
  {
   "cell_type": "markdown",
   "metadata": {
    "slideshow": {
     "slide_type": "slide"
    }
   },
   "source": [
    "## Representing operators\n",
    "\n",
    "Before going to methods, I will describe how we approximate **Hamiltonians.**\n",
    "\n",
    "We store matrices in the TT-format as well!\n",
    "\n",
    "\n",
    "$$A(i_1, \\ldots, i_d; j_1, \\ldots j_d) = A_1(i_1, j_1) \\ldots A_d(i_d, j_d).$$\n",
    "\n",
    "For example, the **Laplacian** has rank-$2$ in this representation (compare to rank $d$ in the CP-format)"
   ]
  },
  {
   "cell_type": "markdown",
   "metadata": {
    "slideshow": {
     "slide_type": "slide"
    }
   },
   "source": [
    "## Minimal eigenvalues\n",
    "\n",
    "$$H \\Psi = \\Psi \\Lambda, \\quad F(\\Psi) = \\mathrm{Tr}(X^* H X), \\quad \\mbox{s.t. } X^* X = I_r.$$\n",
    "\n",
    "We represent (Khoromskij, Oseledets, Dolgov, Savostyanov Comp. Phys. Comm., 2014)  $X$ in the **block-TT** format.\n",
    "\n",
    "One vector is **easy**: just optimize in alternating least squares fashion.\n",
    "\n",
    "\n",
    "Many vectors: Add $\\beta$ as additional index, $$X(i_1, \\ldots, i_d, \\beta) \\approx X_1(i_1) \\ldots X_d(i_d, \\beta)$$.\n",
    "\n",
    "Here the **magic** comes: orthogonalization comes for free!"
   ]
  },
  {
   "cell_type": "markdown",
   "metadata": {
    "slideshow": {
     "slide_type": "slide"
    }
   },
   "source": [
    "## Index-in-a-train\n",
    "\n",
    "The bad news if you want to optimize over $X_k$, it does not work that well.\n",
    "\n",
    "**Solution:** Reparametrize each time by setting \n",
    "\n",
    "$$X(i_1, \\ldots, i_d, \\beta) \\approx X_1(i_1) \\ldots X_k(i_k, \\beta) \\ldots X_d(i_d).$$\n",
    "\n",
    "Moving from the representation for $k+1$ to $k$ is easy (although can be done only approximately).\n",
    "\n",
    "**Local problems** are then linear local eigenvalue problems!"
   ]
  },
  {
   "cell_type": "markdown",
   "metadata": {
    "slideshow": {
     "slide_type": "slide"
    }
   },
   "source": [
    "## Numerical experiments \n",
    "We consider the Henon-Heiles potential, and compute $B$ different eigenvalues for different values of $f$.\n",
    "\n",
    "\\begin{equation}\n",
    "  \\def\\Hlap{-\\frac12 \\Delta}\n",
    "  \\def\\Hhar{\\frac12 \\sum_{k=1}^f q^2_k}\n",
    "  \\def\\Hanh{\\sum_{k=1}^{f-1}\\left(q^2_k q_{k+1} - \\frac13 q^3_{k+1} \\right)}\n",
    "   H = \\Hlap + \\underbrace{\\Hhar + \\overbrace{\\lambda \\Hanh}^{\\textrm{anharmonic part}}}_{\\textrm{Henon-Heiles potential}~V(q_1,\\ldots,q_f)}.\n",
    "\\end{equation}"
   ]
  },
  {
   "cell_type": "markdown",
   "metadata": {
    "slideshow": {
     "slide_type": "slide"
    }
   },
   "source": [
    "## Accuracy and timings for eigb method\n",
    "<img src='henon-picture.png' width=80%>"
   ]
  },
  {
   "cell_type": "markdown",
   "metadata": {
    "slideshow": {
     "slide_type": "slide"
    }
   },
   "source": [
    "## Summary for eigenvalue part\n",
    "\n",
    "We have **many more** ideas how to compute vibrational eigenstates.\n",
    "\n",
    "But finding constants and evaluating results is **tough** and we need chemists that are interested in using our methods."
   ]
  },
  {
   "cell_type": "markdown",
   "metadata": {
    "slideshow": {
     "slide_type": "slide"
    }
   },
   "source": [
    "## Short demo"
   ]
  },
  {
   "cell_type": "code",
   "execution_count": 20,
   "metadata": {
    "code_folding": [],
    "collapsed": false,
    "slideshow": {
     "slide_type": "fragment"
    }
   },
   "outputs": [
    {
     "name": "stdout",
     "output_type": "stream",
     "text": [
      "Matrices are done\n",
      "Eigenvalues: [ 14.95842186  15.14273044]\n",
      "Elapsed time: 8.37523984909\n"
     ]
    }
   ],
   "source": [
    "import numpy as np\n",
    "from scipy.linalg import toeplitz\n",
    "from tt.eigb import *\n",
    "import tt\n",
    "import time\n",
    "from math import pi,sqrt\n",
    "import quadgauss\n",
    "f = 30 #The number of degrees of freedom\n",
    "L = 7 #The domain is [-L, L], periodic\n",
    "lm = 0.111803 #The magic constant\n",
    "N = 30 # The size of the spectral discretization\n",
    "x, ws = quadgauss.cdgqf(N, 6, 0, 0.5) #Generation of hermite quadrature\n",
    "#Generate Laplacian\n",
    "lp = np.zeros((N,N))\n",
    "for i in xrange(N):\n",
    "    for j in xrange(N):\n",
    "        if i is not j:\n",
    "            lp[i,j] = (-1)**(i - j)*(2*(x[i] - x[j])**(-2) - 0.5)\n",
    "        else:\n",
    "            lp[i,j] = 1.0/6*(4*N - 1 - 2 * x[i]**2)\n",
    "lp = tt.matrix(lp)\n",
    "e = tt.eye([N])\n",
    "lp2 = None\n",
    "for i in xrange(f):\n",
    "    w = lp\n",
    "    for j in xrange(i):\n",
    "        w = tt.kron(e,w)\n",
    "    for j in xrange(i+1,f):\n",
    "        w = tt.kron(w,e)\n",
    "    lp2 = lp2 + w\n",
    "    lp2 = lp2.round(eps)\n",
    "#Now we will compute Henon-Heiles stuff\n",
    "xx = []\n",
    "t = tt.tensor(x)\n",
    "ee = tt.ones([N])\n",
    "for  i in xrange(f):\n",
    "    t0 = t\n",
    "    for j in xrange(i):\n",
    "        t0 = tt.kron(ee,t0)\n",
    "    for j in xrange(i+1,f):\n",
    "        t0 = tt.kron(t0,ee)\n",
    "    xx.append(t0)\n",
    "#Harmonic potential\n",
    "harm = None\n",
    "for i in xrange(f):\n",
    "    harm = harm + (xx[i]*xx[i])\n",
    "    harm = harm.round(eps)\n",
    "#Henon-Heiles correction\n",
    "V = None\n",
    "for s in xrange(f-1):\n",
    "    V = V + (xx[s]*xx[s]*xx[s+1] - (1.0/3)*xx[s+1]*xx[s+1]*xx[s+1])\n",
    "    V = V.round(eps)\n",
    "A = 0.5*lp2 + tt.diag(0.5*harm + lm*V)\n",
    "#A0 = 0.5*lp2 + tt.diag(0.5*harm)\n",
    "A = A.round(eps) \n",
    "n = A.n\n",
    "d = A.tt.d\n",
    "B = 2 #Number of eigenstates\n",
    "r = [5]*(d+1)\n",
    "r[0] = 1\n",
    "r[d] = B\n",
    "x0 = tt.rand(n,d,r)\n",
    "t1 = time.time()\n",
    "print 'Matrices are done'\n",
    "y,lam = eigb(A, x0, 1e-6)\n",
    "t2 = time.time()\n",
    "print 'Eigenvalues:',lam    \n",
    "print 'Elapsed time:', t2-t1"
   ]
  },
  {
   "cell_type": "markdown",
   "metadata": {
    "slideshow": {
     "slide_type": "slide"
    }
   },
   "source": [
    "## Dynamical problems \n",
    "\\begin{equation}\n",
    "    \\frac{d\\psi}{dt} = i H \\psi, \\quad \\psi(0) = \\psi_0,\n",
    "\\end{equation}\n",
    "Dynamical problems can be solved as well. The idea is to use the **projector-splitting scheme**, which basically reduces to integration of the **local problems** (linear ODEs) + orthogonalization.\n",
    "\n",
    "Details are in C. Lubich, I. Oseledets, B. Vandereycken, Time integration of tensor trains, SINUM, 2015.\n"
   ]
  },
  {
   "cell_type": "markdown",
   "metadata": {
    "slideshow": {
     "slide_type": "slide"
    }
   },
   "source": [
    "## Spectra comparison\n",
    "We compare the TT-KSL scheme with the [MCTDH package](http://www.pci.uni-heidelberg.de/cms/mctdh.html) for the benchmark problem with [Henon-Heiles potential](http://dx.doi.org/10.1063/1.1521129) \n",
    "\n",
    "<div style=\"float: left; width: 40%; margin-right: 5%; margin-bottom: 0.5em;\">\n",
    "<p style=\"text-align:left\"> Spectra for a 10D problem </p>\n",
    "<img src=\"ksl_mctdh_plot.png\" >\n",
    "</div>\n",
    "<div style=\"float: left; width: 40%; margin-right: 5%; margin-bottom: 0.5em;\">\n",
    "<p style=\"text-align:left\"> Zoomed spectra for a 10D problem</p>\n",
    "<img src=\"ksl_mctdh_plot_zoom.png\" >\n",
    "</div>\n",
    "<p style=\"clear: both;\">\n",
    "Computational time: **54354** (MCTDH) vs **4425** (TT-KSL)"
   ]
  },
  {
   "cell_type": "markdown",
   "metadata": {
    "slideshow": {
     "slide_type": "slide"
    }
   },
   "source": [
    "## Problems am going to work on\n",
    "- Sampling PES in different coordinates (from papers even getting the range, the level of accuracy of electronic structure code can be a nightmare) + parallelizing this stuff\n",
    "\n",
    "- Other iterative methods for vibrational eigenstates (many of them!)\n",
    "\n",
    "- Redundant coordinates (I think, I have the idea how we can do that on a discrete level) \n",
    "\n",
    "- Orbitral-Free DFT methods \n",
    "\n",
    "- Path integrals (even have one paper on that, now generalizing to the Scrodinger equation)\n",
    "\n",
    "- Develop more robust optimization methods in TT\n",
    "\n",
    "- Develop more robust software, including parallel version"
   ]
  },
  {
   "cell_type": "markdown",
   "metadata": {
    "slideshow": {
     "slide_type": "slide"
    }
   },
   "source": [
    "## Publications and software\n",
    "- http://oseledets.github.io -- Scientific Computing Group at Skoltech\n",
    "- http://github.com/oseledets/TT-Toolbox -- Tensor Trains in MATLAB\n",
    "- http://github.com/oseledets/ttpy -- Tensor Trains in Python"
   ]
  },
  {
   "cell_type": "code",
   "execution_count": 17,
   "metadata": {
    "collapsed": false,
    "slideshow": {
     "slide_type": "skip"
    }
   },
   "outputs": [
    {
     "data": {
      "text/html": [
       "<link href='http://fonts.googleapis.com/css?family=Fenix' rel='stylesheet' type='text/css'>\n",
       "<link href='http://fonts.googleapis.com/css?family=Alegreya+Sans:100,300,400,500,700,800,900,100italic,300italic,400italic,500italic,700italic,800italic,900italic' rel='stylesheet' type='text/css'>\n",
       "<link href='http://fonts.googleapis.com/css?family=Source+Code+Pro:300,400' rel='stylesheet' type='text/css'>\n",
       "<style>\n",
       "    @font-face {\n",
       "        font-family: \"Computer Modern\";\n",
       "        src: url('http://mirrors.ctan.org/fonts/cm-unicode/fonts/otf/cmunss.otf');\n",
       "    }\n",
       "    div.cell{\n",
       "        /*width:80%;*/\n",
       "        /*margin-left:auto !important;\n",
       "        margin-right:auto;*/\n",
       "    }\n",
       "    h1 {\n",
       "        font-family: 'Alegreya Sans', sans-serif;\n",
       "    }\n",
       "    h2 {\n",
       "        font-family: 'Fenix', serif;\n",
       "    }\n",
       "    h3{\n",
       "\t\tfont-family: 'Fenix', serif;\n",
       "        margin-top:12px;\n",
       "        margin-bottom: 3px;\n",
       "       }\n",
       "\th4{\n",
       "\t\tfont-family: 'Fenix', serif;\n",
       "       }\n",
       "    h5 {\n",
       "        font-family: 'Alegreya Sans', sans-serif;\n",
       "    }\t   \n",
       "    div.text_cell_render{\n",
       "        font-family: 'Alegreya Sans',Computer Modern, \"Helvetica Neue\", Arial, Helvetica, Geneva, sans-serif;\n",
       "        line-height: 1.2;\n",
       "        font-size: 120%;\n",
       "        /*width:70%;*/\n",
       "        /*margin-left:auto;*/\n",
       "        margin-right:auto;\n",
       "    }\n",
       "    .CodeMirror{\n",
       "            font-family: \"Source Code Pro\";\n",
       "\t\t\tfont-size: 90%;\n",
       "    }\n",
       "/*    .prompt{\n",
       "        display: None;\n",
       "    }*/\n",
       "    .text_cell_render h1 {\n",
       "        font-weight: 200;\n",
       "        font-size: 50pt;\n",
       "\t\tline-height: 110%;\n",
       "        color:#CD2305;\n",
       "        margin-bottom: 0.5em;\n",
       "        margin-top: 0.5em;\n",
       "        display: block;\n",
       "    }\t\n",
       "    .text_cell_render h5 {\n",
       "        font-weight: 300;\n",
       "        font-size: 16pt;\n",
       "        color: #CD2305;\n",
       "        font-style: italic;\n",
       "        margin-bottom: .5em;\n",
       "        margin-top: 0.5em;\n",
       "        display: block;\n",
       "    }\n",
       "    \n",
       "    li {\n",
       "        line-height: 110%;\n",
       "    }\n",
       "    .warning{\n",
       "        color: rgb( 240, 20, 20 )\n",
       "        }  \n",
       "</style>\n",
       "<script>\n",
       "    MathJax.Hub.Config({\n",
       "                        TeX: {\n",
       "                           extensions: [\"AMSmath.js\"]\n",
       "                           },\n",
       "                tex2jax: {\n",
       "                    inlineMath: [ ['$','$'], [\"\\\\(\",\"\\\\)\"] ],\n",
       "                    displayMath: [ ['$$','$$'], [\"\\\\[\",\"\\\\]\"] ]\n",
       "                },\n",
       "                displayAlign: 'center', // Change this to 'center' to center equations.\n",
       "                \"HTML-CSS\": {\n",
       "                    styles: {'.MathJax_Display': {\"margin\": 4}}\n",
       "                }\n",
       "        });\n",
       "</script>\n"
      ],
      "text/plain": [
       "<IPython.core.display.HTML object>"
      ]
     },
     "execution_count": 17,
     "metadata": {},
     "output_type": "execute_result"
    }
   ],
   "source": [
    "from IPython.core.display import HTML\n",
    "def css_styling():\n",
    "    styles = open(\"custom.css\", \"r\").read()\n",
    "    return HTML(styles)\n",
    "css_styling()"
   ]
  }
 ],
 "metadata": {
  "celltoolbar": "Slideshow",
  "kernelspec": {
   "display_name": "Python 2",
   "language": "python",
   "name": "python2"
  },
  "language_info": {
   "codemirror_mode": {
    "name": "ipython",
    "version": 2
   },
   "file_extension": ".py",
   "mimetype": "text/x-python",
   "name": "python",
   "nbconvert_exporter": "python",
   "pygments_lexer": "ipython2",
   "version": "2.7.11"
  }
 },
 "nbformat": 4,
 "nbformat_minor": 0
}
