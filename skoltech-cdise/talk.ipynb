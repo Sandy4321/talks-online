{
 "cells": [
  {
   "cell_type": "code",
   "execution_count": 1,
   "metadata": {
    "code_folding": [
     0
    ],
    "collapsed": false,
    "slideshow": {
     "slide_type": "skip"
    }
   },
   "outputs": [
    {
     "name": "stderr",
     "output_type": "stream",
     "text": [
      "/Users/ivan/anaconda/lib/python2.7/site-packages/IPython/html.py:14: ShimWarning: The `IPython.html` package has been deprecated. You should import from `notebook` instead. `IPython.html.widgets` has moved to `ipywidgets`.\n",
      "  \"`IPython.html.widgets` has moved to `ipywidgets`.\", ShimWarning)\n",
      "/Users/ivan/anaconda/lib/python2.7/site-packages/IPython/utils/path.py:282: UserWarning: locate_profile has moved to the IPython.paths module\n",
      "  warn(\"locate_profile has moved to the IPython.paths module\")\n"
     ]
    }
   ],
   "source": [
    "from IPython.html.services.config import ConfigManager\n",
    "from IPython.utils.path import locate_profile\n",
    "cm = ConfigManager(profile_dir=locate_profile(get_ipython().profile))\n",
    "cm.update('livereveal', {\n",
    "              'theme': 'sky',\n",
    "              'transition': 'zoom',\n",
    "              'start_slideshow_at': 'selected',\n",
    "})\n",
    "%load_ext tikzmagic"
   ]
  },
  {
   "cell_type": "markdown",
   "metadata": {
    "slideshow": {
     "slide_type": "slide"
    }
   },
   "source": [
    "# Quantized tensor train technology for partial differential equations\n",
    "\n",
    "##### Ivan Oseledets, joint work with Christoph Schwab, Vladimir Kazeev, Maxim Rakhuba"
   ]
  },
  {
   "cell_type": "markdown",
   "metadata": {
    "slideshow": {
     "slide_type": "slide"
    }
   },
   "source": [
    "## Outline of the talk\n",
    "- A brief description adaptive solution methods for partial differential equations (PDEs)\n",
    "- Tensorization and tensor trains: ideas and basic facts\n",
    "- How it (can) work for complex domains\n",
    "- How it (can) work for multiscale problems"
   ]
  },
  {
   "cell_type": "markdown",
   "metadata": {
    "slideshow": {
     "slide_type": "slide"
    }
   },
   "source": [
    "## Where PDEs appear\n",
    "\n",
    "PDEs are the #1 tool in physical modelling:\n",
    "\n",
    "1. Heat conduction\n",
    "2. Computational fluid dynamics\n",
    "3. Elasticity\n",
    "4. Electromagnetic phenomena\n",
    "5. Many more"
   ]
  },
  {
   "cell_type": "markdown",
   "metadata": {
    "slideshow": {
     "slide_type": "slide"
    }
   },
   "source": [
    "## Numerical methods for solving PDEs\n",
    "The numerical methods for PDEs are well-established:\n",
    "\n",
    "1. Discretize the domain with polygons (trianges, quadrilaterals)\n",
    "2. Approximate the solution with a linear combination of \"local\" basis functions.\n",
    "3. Write down the linear system of coefficients\n",
    "4. Solve it.\n",
    "\n",
    "Typically, the \"order\" of the numerical scheme is considered, i.e.\n",
    "\n",
    "$$\\Vert u - u_h \\Vert = \\mathcal{O}(h^p),$$\n",
    "\n",
    "where $h$ is the <font color='red'> grid size </font>"
   ]
  },
  {
   "cell_type": "markdown",
   "metadata": {
    "slideshow": {
     "slide_type": "slide"
    }
   },
   "source": [
    "## A textbook example\n",
    "\n",
    "A textbook example is the **Poisson equation:**\n",
    "\n",
    "$$\\Delta u = f, \\quad u_{\\mid \\partial \\Omega} = 0.$$\n",
    "\n",
    "The Finite Element Method (FEM) techniques are extremely well-developed, even in the technological view."
   ]
  },
  {
   "cell_type": "markdown",
   "metadata": {
    "slideshow": {
     "slide_type": "slide"
    }
   },
   "source": [
    "## FEM-method\n",
    "\n",
    "We write down the **weak formulation** for the equation,\n",
    "\n",
    "$$-\\int \\nabla u \\nabla v dx = \\int f v dx, \\quad v \\in W^{2}_1,$$\n",
    "\n",
    "and then use the **Galerkin method**, replacing $u$ by $\\sum_i u_i \\varphi_i$ and testing the weak equation with $v = \\phi_j$.\n",
    "\n",
    "You can do it **automatically** using the [FeNics](fenicsproject.org) or [Firedrake](firedrakeproject.org) software."
   ]
  },
  {
   "cell_type": "code",
   "execution_count": 15,
   "metadata": {
    "collapsed": false,
    "slideshow": {
     "slide_type": "slide"
    }
   },
   "outputs": [],
   "source": [
    "from firedrake import *\n",
    "n = 128\n",
    "\n",
    "mesh = UnitSquareMesh(n, n)\n",
    "V = FunctionSpace(mesh, \"CG\", 1)\n",
    "bc0 = DirichletBC(V, Expression((\"0\")), 1)\n",
    "bc1 = DirichletBC(V, Expression((\"0\")), 2)\n",
    "bc2 = DirichletBC(V, Expression((\"0\")), 3)\n",
    "#bc3 = DirichletBC(V, Expression((\"0\")), 4)\n",
    "bcs = [bc0, bc1, bc2]\n",
    "u = TrialFunction(V)\n",
    "v = TestFunction(V)\n",
    "f = Function(V)\n",
    "f.interpolate(Expression(\"1\"))\n",
    "#a = ( dot(grad(v), grad(u))) * dx\n",
    "#frm = assemble(a, bcs=bcs)\n",
    "L = f * v * dx\n",
    "L1 = assemble(L)\n",
    "a = (dot(grad(v), grad(u))) * dx\n",
    "frm = assemble(a, bcs=bcs)\n",
    "sol = Function(V)\n",
    "solve(frm, sol, L1, solver_parameters={'ksp_type': 'cg'})\n",
    "#sol = Function(V)\n",
    "#solve(a, sol, L1, solver_parameters={'ksp_type': 'cg'})"
   ]
  },
  {
   "cell_type": "code",
   "execution_count": 16,
   "metadata": {
    "collapsed": false,
    "slideshow": {
     "slide_type": "fragment"
    }
   },
   "outputs": [
    {
     "data": {
      "text/plain": [
       "<matplotlib.tri.tricontour.TriContourSet instance at 0x1138f2518>"
      ]
     },
     "execution_count": 16,
     "metadata": {},
     "output_type": "execute_result"
    },
    {
     "data": {
      "image/png": "[encoded data removed]",
      "text/plain": [
       "<matplotlib.figure.Figure at 0x113d13790>"
      ]
     },
     "metadata": {},
     "output_type": "display_data"
    }
   ],
   "source": [
    "%matplotlib inline\n",
    "import matplotlib.pyplot as plt\n",
    "import seaborn as sns\n",
    "u0 = sol.vector().array()\n",
    "p1 = mesh.coordinates.vector().array().reshape((-1, 2)) #Fucking why need it so?\n",
    "plt.tricontourf(p1[:, 0], p1[:, 1], u0)"
   ]
  },
  {
   "cell_type": "markdown",
   "metadata": {
    "slideshow": {
     "slide_type": "slide"
    }
   },
   "source": [
    "## Challenges\n",
    "\n",
    "What are the challenges, if FEM (and also other techniques, like Finite Volume, Finite Difference methods) are so well-developed?\n",
    "\n",
    "There are several:\n",
    "\n",
    "- <font color='red'> Computational complexity: </font> in 3D problems we have to store $n^3$ elements, and even for a second-order scheme it might be a lot.\n",
    "- <font color='red'> Need for **adaptivity**: </font> if there are **corners** in the domain (i.e., polygonal domain), the solution has singularity there, \n",
    "- <font color='red'> Multiscale problems: </font> for highly oscillating coefficients, we need to resolve the finest scale with the local basis functions (or go to global basis functions that have their own disadvantages)."
   ]
  },
  {
   "cell_type": "markdown",
   "metadata": {
    "slideshow": {
     "slide_type": "slide"
    }
   },
   "source": [
    "## Adaptivity\n",
    "\n",
    "There are different ways to adapt the solution to get **better accuracy** for the same number of **degrees of freedom**.\n",
    "\n",
    "<img src='hp-refinement.png' >\n",
    "\n",
    "Hp-refinement is the **most efficient method**, but it is technically very non-trivial to implement, \n",
    "\n",
    "and requires the knowledge of where the singularity is, what is the order of the singularity of the solution, "
   ]
  },
  {
   "cell_type": "markdown",
   "metadata": {
    "slideshow": {
     "slide_type": "slide"
    }
   },
   "source": [
    "## Multiscale problems\n",
    "\n",
    "Model problem: heat conduction in a (quasi-periodic) domain\n",
    "\n",
    "$$ \\nabla \\cdot (k \\nabla u) = f,$$\n",
    "\n",
    "where $k = k(\\frac{x}{\\delta},x)$, and $\\delta$ is the scale parameter.\n",
    "\n",
    "<img src='perforated-domain.jpg'>"
   ]
  },
  {
   "cell_type": "markdown",
   "metadata": {
    "slideshow": {
     "slide_type": "slide"
    }
   },
   "source": [
    "## Periodic and quasiperiodic structures\n",
    "\n",
    "Periodic/quasiperiodic structures are now used everywhere in photonics, composite materials, since by carefully designing such structure, you can get whatever properties you want."
   ]
  },
  {
   "cell_type": "markdown",
   "metadata": {
    "slideshow": {
     "slide_type": "slide"
    }
   },
   "source": [
    "## Solving multiscale problems\n",
    "\n",
    "Small-order FEM is not the best tool to solve multiscale (even two-scale) problems:\n",
    "\n",
    "we have to resolve the finest scale, and that leads to **huge grids** and grid adaptivity will not help."
   ]
  },
  {
   "cell_type": "markdown",
   "metadata": {
    "slideshow": {
     "slide_type": "slide"
    }
   },
   "source": [
    "## Homogenization\n",
    "\n",
    "The homogenization technique, pioneered by Russian mathematicians Nikolay Sergeevich Bakhalov and Grigoriy Alekseevich Panasenko.\n",
    "\n",
    "Осреднение процессов в периодических средах: математические задачи механики композиционных материалов, 1961\n",
    "\n",
    "<div style=\"float: left; width: 40%\">\n",
    "<p style=\"text-align: center\"> Н. С. Бахвалов </p>\n",
    "<img src='bakhvalov.jpeg' width=100%>\n",
    "</div>\n",
    "<div style=\"float: left; width: 40%\">\n",
    "<p style=\"text-align: center\"> Г. А. Панасенко</p>\n",
    "<img src='panasenko.jpeg' width=100%>\n",
    "</div>"
   ]
  },
  {
   "cell_type": "markdown",
   "metadata": {
    "slideshow": {
     "slide_type": "slide"
    }
   },
   "source": [
    "## Idea of homogenization\n",
    "\n",
    "$$ \\nabla \\cdot (k \\nabla u) = f,$$\n",
    "\n",
    "where $k = k(\\frac{x}{\\delta})$ -- periodic case.\n",
    "\n",
    "Is to expand the solution in \"series\" of small parameter $\\delta$.\n",
    "\n",
    "The \"zero\"-order approximation is to replace $k$ by the **averaged** coefficient over the unit cell:\n",
    "\n",
    "$$ \\nabla \\cdot (k_0 \\nabla u_0) = f,$$\n",
    "\n",
    "and $k_0$ is the **effective coefficient**.\n",
    "\n",
    "Next terms include expansion of the solution as\n",
    "\n",
    "$$\n",
    "   u(x, \\frac{x}{\\delta})  = u_0 + \\delta \\sigma(\\delta^{-1} \\rho(x)) u_1\\left(x, \\frac{x}{\\delta}\\right),\n",
    "   $$\n",
    "   \n",
    "   where $\\sigma(0) = 0, 0 \\leq \\sigma(t) \\leq 1$ for $0 \\leq t \\leq 1$ and $\\sigma(t) = 1$ for all $t \\geq 1$.\n",
    "   \n",
    "$\\rho$ is the distance to the boundary.\n",
    "\n",
    "\n"
   ]
  },
  {
   "cell_type": "markdown",
   "metadata": {
    "slideshow": {
     "slide_type": "slide"
    }
   },
   "source": [
    "## Homogenization\n",
    "\n",
    "For many problems, the asymptotic expansions are written. They include boundary layers, quasi-periodic coefficients, vector problems.\n",
    "\n",
    "Computational complexity is solving several **unit cells** problems (with different boundary conditions).\n",
    "\n",
    "\n",
    "\n",
    "<font color='red'> Main problem: a lot of analytic work, not 100% flexible (i.e., you want to make a defect in one point) </font>"
   ]
  },
  {
   "cell_type": "code",
   "execution_count": 30,
   "metadata": {
    "collapsed": false,
    "slideshow": {
     "slide_type": "slide"
    }
   },
   "outputs": [
    {
     "data": {
      "image/png": "[encoded data removed]",
      "text/plain": [
       "<matplotlib.figure.Figure at 0x118c828d0>"
      ]
     },
     "metadata": {},
     "output_type": "display_data"
    }
   ],
   "source": [
    "#Generate sparse tridiag matrix for div K grad\n",
    "import scipy.sparse\n",
    "import numpy as np\n",
    "def Kfun(x, eps):\n",
    "    return (1 + x) * 2/3 * (1 + np.cos(2 * np.pi * (x/eps)) ** 2)\n",
    "\n",
    "def gen_full_matrix(d, eps, Kfun, a=0.0, b=1.0): \n",
    "    N = 2 ** d\n",
    "    t = np.arange(N)\n",
    "    e = np.ones(N)\n",
    "    h = (b - a)/(N + 1)\n",
    "    cf = (t + 0.5 * e) * h\n",
    "    am = Kfun(cf, eps)\n",
    "    cf_plus = (t + 1.5 * e) * h\n",
    "    aa = (np.arange(N+1) + 0.5 * np.ones(N+1)) * h\n",
    "    aa = Kfun(aa, eps)\n",
    "    ap = Kfun(cf_plus, eps)\n",
    "    dg = am + ap\n",
    "    mat = scipy.sparse.spdiags([-am, -ap, dg], [1, -1, 0], N, N)\n",
    "    mat = mat/h**2\n",
    "    return aa, am, ap, mat\n",
    "\n",
    "\n",
    "d = 15\n",
    "eps = 1e-3\n",
    "mat = gen_full_matrix(d, eps, Kfun)[-1]\n",
    "rhs = np.ones(mat.shape[0])\n",
    "sol = scipy.sparse.linalg.spsolve(mat, rhs)\n",
    "fig, ax = plt.subplots(1, 2, figsize=(10, 4))\n",
    "\n",
    "ax[0].plot(sol)\n",
    "ax[1].plot(np.diff(sol))\n",
    "ax[0].set_title('Solution plot')\n",
    "ax[1].set_title('Derivative of the solution')\n",
    "fig.tight_layout()"
   ]
  },
  {
   "cell_type": "markdown",
   "metadata": {
    "slideshow": {
     "slide_type": "slide"
    }
   },
   "source": [
    "## What else can we do?\n",
    "\n",
    "We propose something completely different, and it is based on:\n",
    "\n",
    "1. Low-order FEM approximation\n",
    "2. Quantized Tensor Train decomposition"
   ]
  },
  {
   "cell_type": "markdown",
   "metadata": {
    "slideshow": {
     "slide_type": "slide"
    }
   },
   "source": [
    "## Quantized Tensor Train decomposition\n",
    "\n",
    "The idea of QTT is very simple (and has been around for many many years).\n",
    "\n",
    "Suppose we have a one-dimensional function, that is sampled on a uniform grid with $2^d$ points.\n",
    "\n",
    "$$v_k = f(x_k), \\quad k = 1, \\ldots, 2^d$$\n",
    "\n",
    "Then we reshape this vector into $2 \\times 2 \\times \\ldots \\times 2$  $d$-dimensional tensor:\n",
    "\n",
    "$$V(i_1, \\ldots, i_d) = v(i), \\quad i = i_1+ 2 i_1 + \\ldots 2^{d-1} i_d.$$"
   ]
  },
  {
   "cell_type": "markdown",
   "metadata": {
    "slideshow": {
     "slide_type": "slide"
    }
   },
   "source": [
    "## Matrix exponential case\n",
    "\n",
    "Consider matrix exponential case, $f(x) = \\exp(\\lambda x)$. Then, the tensor $V$ breaks into the product:\n",
    "\n",
    "$V(i_1, \\ldots, i_d) = \\exp(h(i_1 + \\ldots + 2^{d-1} i_d)) = $\n",
    "\n",
    "$V_1(i_1) V_2(i_2) \\cdot \\ldots \\cdot V_d(i_d).$\n",
    "\n",
    "\n",
    "\n",
    "<font color='red'> This is a special case of the **canonical representations** of tensors </font>"
   ]
  },
  {
   "cell_type": "markdown",
   "metadata": {
    "slideshow": {
     "slide_type": "slide"
    }
   },
   "source": [
    "## Canonical decomposition \n",
    "\n",
    "Given a tensor $V(i_1, \\ldots, i_d)$ we say that it is in the **canonical format**, if it is the sum of rank-1 tensors:\n",
    "\n",
    "$$V(i_1, \\ldots, i_d) = \\sum_{\\alpha=1}^r V_1(i_1, \\alpha) \\ldots V_d(i_d, \\alpha).$$\n",
    "\n",
    "\n",
    "For $d=2$ it reduces to the **low-rank** approximation of a matrix, thus for many years it was considered as a **multidimensional generalization** of the **singular value decomposition.**"
   ]
  },
  {
   "cell_type": "markdown",
   "metadata": {
    "slideshow": {
     "slide_type": "slide"
    }
   },
   "source": [
    "## Problems with the canonical decomposition\n",
    "\n",
    "Canonical decomposition has problems:\n",
    "\n",
    "- The computation of the canonical rank $r$ is NP-hard\n",
    "- The best rank-$r$ approximation may not exist\n",
    "\n",
    "However, there exists another multidimensional generalization of the SVD, which may have larger number of parameters, but it is much easier to compute!"
   ]
  },
  {
   "cell_type": "markdown",
   "metadata": {
    "slideshow": {
     "slide_type": "slide"
    }
   },
   "source": [
    "## Tensor-train decomposition\n",
    "\n",
    "Tensor-train decomposition has the form\n",
    "\n",
    "$$A(i_1, \\ldots, i_d) = G_1(i_1) \\ldots G_d(i_d),$$\n",
    "\n",
    "where $G_k(i_k)$ is $r_{k-1} \\times r_k$ for any fixed $i_k$, and $r_0 = r_d = 1$.\n",
    "\n",
    "It is also known for many years as **matrix product states** in solid state physics (and used to approximate wavefunctions).\n",
    "\n",
    "1. We can compute TT by sequential SVD decompositions. \n",
    "2. The set of fixed TT-rank tensors is closed, thus optimization over such manifolds is doable."
   ]
  },
  {
   "cell_type": "markdown",
   "metadata": {
    "slideshow": {
     "slide_type": "slide"
    }
   },
   "source": [
    "## QTT-decomposition\n",
    "\n",
    "QTT decomposition = Quantization + TT\n",
    "\n",
    "I.e. we take a function, sample it on a uniform grid, replace it by a $d$-dimensional tensor, approximate it by the TT-format.\n",
    "\n",
    "\n",
    "We get $\\mathcal{O}(d r^2)$  instead of $2^d$ parameters, but this is a **non-linear** representation.\n",
    "\n",
    "<font color='red'> Main question: </font> what kind of functions can we represent in such way?"
   ]
  },
  {
   "cell_type": "markdown",
   "metadata": {
    "slideshow": {
     "slide_type": "slide"
    }
   },
   "source": [
    "## Simple functions\n",
    "\n",
    "1. Exponentials: rank 1\n",
    "2. Sine/Cosine functions: rank 2\n",
    "3. Polynomials of degree p: rank p+1\n",
    "4. Rational functions: $\\log \\epsilon^{-1}$\n",
    "\n",
    "Good news: class is \"closed\" under addition and multiplications, so any combinations of those suffice!"
   ]
  },
  {
   "cell_type": "markdown",
   "metadata": {
    "slideshow": {
     "slide_type": "slide"
    }
   },
   "source": [
    "## Two (and higher) dimensional case\n",
    "\n",
    "In two dimensions, if the domain is a square, the situation is the same:\n",
    "\n",
    "Discretize on a tensor-product mesh, quantize each one-dimensional index and go.\n",
    "\n",
    "But what to do for non-square domains?\n",
    "\n",
    "One idea is to use characteristic functions, but it **does not work.**\n",
    "\n",
    "The solution, proposed by Vladimir Kazeev and Christoph Schwab is astonishingly simple and efficient:  \n",
    "\n",
    "\n",
    "\n",
    "\n",
    "<font color='red'> Introduce logically rectangular grids! </font>"
   ]
  },
  {
   "cell_type": "markdown",
   "metadata": {
    "slideshow": {
     "slide_type": "slide"
    }
   },
   "source": [
    "## Mapping quadrilaterals to rectangles\n",
    "(pictures made by Larisa Markeeva).\n",
    "\n",
    "<div style=\"float: left; width: 40%\">\n",
    "<p style=\"text-align: center\">  Quadrilateral </p>\n",
    "<img src='quadr.png' width=100%>\n",
    "</div>\n",
    "<div style=\"float: left; width: 40%\">\n",
    "<p style=\"text-align: center\"> Reference</p>\n",
    "<img src='quadr1.png' width=100%>\n",
    "</div>"
   ]
  },
  {
   "cell_type": "markdown",
   "metadata": {
    "slideshow": {
     "slide_type": "slide"
    }
   },
   "source": [
    "## Logically rectangular grids o\n",
    "(pictures made by Larisa Markeeva).\n",
    "<div style=\"float: left; width: 40%\">\n",
    "<p style=\"text-align: center\">  triangle </p>\n",
    "<img src='triangle.png' width=100%>\n",
    "</div>\n",
    "<div style=\"float: left; width: 40%\">\n",
    "<p style=\"text-align: center\"> Reference</p>\n",
    "<img src='triangle1.png' width=100%>\n",
    "</div>"
   ]
  },
  {
   "cell_type": "markdown",
   "metadata": {
    "slideshow": {
     "slide_type": "slide"
    }
   },
   "source": [
    "## Mapping with quads\n",
    "\n",
    "In general, mapping of a complicated surface with quads is a well-known problem in computational geometry, which can be solved using standard tools\n",
    "\n",
    "<img src='bommes2013qmg.jpg' width=40%>"
   ]
  },
  {
   "cell_type": "markdown",
   "metadata": {
    "slideshow": {
     "slide_type": "slide"
    }
   },
   "source": [
    "## Theoretical result\n",
    "\n",
    "Kazeev and Schwab in the paper [Quantized tensor-structured finite elements\n",
    "for second-order elliptic PDEs in two\n",
    "dimensions](http://www.sam.math.ethz.ch/sam_reports/reports_final/reports2015/2015-24.pdf)\n",
    "\n",
    "have proven the following theoretical result, which I very loosely formulate  as follows.\n",
    "\n",
    "For a second-order PDE with analytic forcing, and for a given number of parameters $N$ in the QTT representation, there exists a QTT-FEM approximant such that\n",
    "\n",
    "$$\\Vert u - u_{QTT, h} \\Vert_{\\mathbb{H}_1} = \\mathcal{O}(e^{-bN^{\\alpha}}),$$\n",
    "\n",
    "where $\\alpha=\\frac{1}{5}$ in their theoretical analysis (in experiments it is much better, $\\alpha \\approx \\frac{1}{2}$)."
   ]
  },
  {
   "cell_type": "markdown",
   "metadata": {
    "slideshow": {
     "slide_type": "slide"
    }
   },
   "source": [
    "## Idea of the proof\n",
    "\n",
    "Idea of the proof is to use known results on the hp-method and on the regularity of the solutions in polygonal domains.\n",
    "\n",
    "Singularities have very specific form (point singularities), which can be approximated in the QTT-format.\n",
    "\n",
    "The remainder is the analytic function, which can be approximated by the Fourier series (and they have small QTT-rank)."
   ]
  },
  {
   "cell_type": "markdown",
   "metadata": {
    "slideshow": {
     "slide_type": "slide"
    }
   },
   "source": [
    "## Consequences\n",
    "\n",
    "We can take a low-order FEM on a very fine **virtual mesh.**\n",
    "\n",
    "Formulate a **huge** linear system \n",
    "\n",
    "$$Ax = f,$$\n",
    "\n",
    "and look for the solution in the TT-format.\n",
    "\n",
    "The general concept is very simple: we reformulate the solution as a minimization of energy:\n",
    "\n",
    "$$(Ax, x) - 2(f, x) \\rightarrow \\min,$$\n",
    "\n",
    "and minimize over the set of tensors with bounded ranks.\n",
    "\n",
    "This is **non-convex** minimization procedure with low-rank constraints, but with much fewer number of parameters, \n",
    "and we have developed a black-box software for solving such problems."
   ]
  },
  {
   "cell_type": "markdown",
   "metadata": {
    "slideshow": {
     "slide_type": "slide"
    }
   },
   "source": [
    "## Tensor train software\n",
    "\n",
    "TT-Toolbox is our main software packages, available:\n",
    "\n",
    "1. For MATLAB: http://github.com/oseledets/TT-Toolbox\n",
    "2. For Python: http://github.com/oseledets/ttpy"
   ]
  },
  {
   "cell_type": "code",
   "execution_count": 49,
   "metadata": {
    "collapsed": false,
    "slideshow": {
     "slide_type": "slide"
    }
   },
   "outputs": [
    {
     "name": "stdout",
     "output_type": "stream",
     "text": [
      "Full memory:  16777216, QTT-memory:  42960\n"
     ]
    }
   ],
   "source": [
    "import tt\n",
    "from tt.amen import amen_solve\n",
    "d = 8 \n",
    "a = tt.qlaplace_dd([d, d, d])\n",
    "rhs = tt.ones(2, 3*d)\n",
    "sol = amen_solve(a, rhs, tt.rand(rhs.n), 1e-6) #Black-box solver\n",
    "mem = int((sol.erank  ** 2) * sum(sol.n))\n",
    "print('Full memory: {0: d}, QTT-memory: {1: d}'.format(np.prod(sol.n), mem))"
   ]
  },
  {
   "cell_type": "markdown",
   "metadata": {
    "slideshow": {
     "slide_type": "slide"
    }
   },
   "source": [
    "## Multiscale problems\n",
    "\n",
    "Now let us get back to the multiscale problems.\n",
    "\n",
    "There are two important examples of multiscale problems:\n",
    "\n",
    "1. Periodic/quasi-periodic coefficients\n",
    "2. Wave propagation (Helmholtz/Maxwell problems).\n",
    "\n",
    "\n",
    "The concept is the same: introduce a virtual mesh that resolves the finest scale, approximate it.\n",
    "\n",
    "We have recently proved (Kazeev, Schwab, Oseledets, Rakhuba) that the same result hold for 1D multiscale problems!"
   ]
  },
  {
   "cell_type": "markdown",
   "metadata": {
    "slideshow": {
     "slide_type": "slide"
    }
   },
   "source": [
    "## Multiscale: theoretical result and idea\n",
    "\n",
    "Given the equation\n",
    "\n",
    "$$(k u')' = f, $$\n",
    "\n",
    "where $K = K\\left(x, \\frac{x}{\\delta}\\right)$\n",
    "\n",
    "the solution can be approximated by a QTT-interpolant with exponential convergence with respect to the number of parameters in the QTT-format. The number of parameters required to reach the accuracy is also logarithmic in the multiscale parameter $\\delta$, i.e.\n",
    "\n",
    "$$N_l \\sim \\log^{\\alpha} \\epsilon \\log^{\\beta} \\delta.$$"
   ]
  },
  {
   "cell_type": "markdown",
   "metadata": {
    "slideshow": {
     "slide_type": "slide"
    }
   },
   "source": [
    "## Numerical illustrations\n",
    "\n",
    "For a two-scale problem\n",
    "$$ \n",
    "(a u')' = 1, \\quad u(1) = u(0) = 0,\n",
    "$$\n",
    "$$a(x) = a_0(x) a_1\\left(\\frac{x}{\\delta}\\right),$$\n",
    "where $a_0 = 1 + x$, $a_1 = 2/3 (1 + \\cos^2(2 \\pi \\frac{x}{\\delta})).$\n",
    "\n",
    "\n",
    "<div style=\"float: left; width: 50%\">\n",
    "<img src='diffusion.jpg' width=100%>\n",
    "</div>\n",
    "<div style=\"float: left; width: 50%\">\n",
    "<img src='diffusion1.jpg' width=100%>\n",
    "</div>"
   ]
  },
  {
   "cell_type": "markdown",
   "metadata": {
    "slideshow": {
     "slide_type": "slide"
    }
   },
   "source": [
    "## \"Practical\" implementation\n",
    "A practical implementation is short, although not straightforward even in 1D."
   ]
  },
  {
   "cell_type": "code",
   "execution_count": 57,
   "metadata": {
    "collapsed": false,
    "slideshow": {
     "slide_type": "slide"
    }
   },
   "outputs": [
    {
     "name": "stdout",
     "output_type": "stream",
     "text": [
      "Total computing time: 0.324291944504\n"
     ]
    },
    {
     "data": {
      "image/png": "[encoded data removed]",
      "text/plain": [
       "<matplotlib.figure.Figure at 0x11877de10>"
      ]
     },
     "metadata": {},
     "output_type": "display_data"
    }
   ],
   "source": [
    "import numpy as np\n",
    "import tt\n",
    "import tt.amen\n",
    "from tt.amen import amen_solve\n",
    "import time\n",
    "from tt.multifuncrs2 import multifuncrs2\n",
    "d = 20\n",
    "N = 2 ** d\n",
    "x = tt.ones(2, d)\n",
    "h = 1.0/N\n",
    "B = (tt.Toeplitz(x, kind='U') + tt.eye(2, d))#.full()\n",
    "B = B * h\n",
    "alpha = -0.5\n",
    "st = time.time()\n",
    "tau = 1e-8\n",
    "t = tt.xfun(2, d)\n",
    "x = t * h\n",
    "eps = 1e-4\n",
    "Kf = lambda x: Kfun(x, eps)\n",
    "Kf = multifuncrs2([x], Kf, tau, verb=0)  \n",
    "Kf = Kf.round(tau)\n",
    "Kmat = tt.diag(Kf)\n",
    "ed = tt.eye(2, d)\n",
    "#idd = tt.matrix(np.array([[0, -1.0], [0, 0]]))\n",
    "e00 = tt.matrix(np.array([[1.0, 0, 0], [0, 0, 0], [0, 0, 0]]))\n",
    "e01 = tt.matrix(np.array([[0.0, -1.0, 0], [0, 0, 0], [0, 0, 0]]))\n",
    "e11 = tt.matrix(np.array([[0, 0, 0], [0, 1.0, 0], [0, 0, 0]]))\n",
    "e12 = tt.matrix(np.array([[0, 0, 0], [0, 0.0, -1.0], [0, 0, 0]]))\n",
    "e22 = tt.matrix(np.array([[0, 0, 0], [0, 0.0, 0.0], [0, 0, 1.0]]))\n",
    "big_mat = tt.kron(ed, e00) + tt.kron(B, e01) + tt.kron(Kmat, e11) + tt.kron(ed, e12) + tt.kron(ed, e22)\n",
    "f = tt.ones(2, d)\n",
    "alpha = -0.5\n",
    "rhs1 = tt.matvec(B, f) + alpha * tt.ones(2, d)\n",
    "ev = tt.tensor(np.array([0.0, 0.0, 1.0]))\n",
    "rhs = tt.kron(rhs1, ev)\n",
    "sol = amen_solve(big_mat, rhs, rhs, 1e-6)\n",
    "st = time.time() - st\n",
    "print 'Total computing time:', st\n",
    "sol_full = sol.full().flatten(\"F\")\n",
    "u1 = sol_full[:N]\n",
    "w1 = sol_full[N:2*N]\n",
    "fig, ax = plt.subplots(1, 3, figsize=(12, 4))\n",
    "x0 = x.full().flatten(\"F\")\n",
    "ax[0].plot(x0, u1)\n",
    "ax[0].set_title('Solution')\n",
    "ax[1].plot(x0, w1)\n",
    "ax[1].set_title('Derivative')\n",
    "ax[2].plot(w1[:60])\n",
    "ax[2].set_title('Zooming in the derivative')\n",
    "fig.text(0.5, -0.1, 'Eps = {0}, d = {1}'.format(eps, d), size=16)\n",
    "fig.tight_layout()\n",
    "#ax[1]"
   ]
  },
  {
   "cell_type": "markdown",
   "metadata": {},
   "source": [
    "## Yet another challenge \n",
    "\n",
    "Everything seems to be fine: \n",
    "\n",
    "1. Solution can be approximated in the QTT-format\n",
    "2. There are tools for finding such a solution\n",
    "\n",
    "But(!) there is an important problem with low-order FEM."
   ]
  },
  {
   "cell_type": "markdown",
   "metadata": {
    "slideshow": {
     "slide_type": "slide"
    }
   },
   "source": [
    "## Finite different do not work on very small meshes\n",
    "Suppose we have a 1D Laplacian\n",
    "\n",
    "$$\\frac{u_{i-1} - 2 u_i + u_{i+1}}{h^2},$$\n",
    "\n",
    "and the error in this is $\\frac{\\epsilon}{h^2} + h^2$, i.e. we can not go beyond $h \\sim \\epsilon^{1/4}.$\n",
    "\n",
    "For a non-QTT-world, there is no problem: $\\epsilon = 10^{-16}, \\quad h \\sim 10^{-4}$.\n",
    "\n",
    "In our case, we need grids $2^{60}-2^{80}$, so this is a problem.\n",
    "\n",
    "We need new discretization schemes (and I already used one in the example above)."
   ]
  },
  {
   "cell_type": "markdown",
   "metadata": {
    "slideshow": {
     "slide_type": "slide"
    }
   },
   "source": [
    "## Future work\n",
    "\n",
    "Our main goal is to establish the technology at all levels and show its efficiency in real applications.\n",
    "We now have the theoretical ground.\n",
    "- Quad-grid generation (working with D. Zorin)\n",
    "- Form matrices in the QTT-format\n",
    "- Improve the existing TT-optimization software\n",
    "- Develop more appropriate \"derivative-free\" discretization schemes for very fine meshes.\n",
    "- Apply to photonic chrystal modelling \n",
    "- Apply to composite materials"
   ]
  },
  {
   "cell_type": "code",
   "execution_count": 1,
   "metadata": {
    "collapsed": false,
    "slideshow": {
     "slide_type": "skip"
    }
   },
   "outputs": [
    {
     "data": {
      "text/html": [
       "<link href='http://fonts.googleapis.com/css?family=Fenix' rel='stylesheet' type='text/css'>\n",
       "<link href='http://fonts.googleapis.com/css?family=Alegreya+Sans:100,300,400,500,700,800,900,100italic,300italic,400italic,500italic,700italic,800italic,900italic' rel='stylesheet' type='text/css'>\n",
       "<link href='http://fonts.googleapis.com/css?family=Source+Code+Pro:300,400' rel='stylesheet' type='text/css'>\n",
       "<style>\n",
       "    @font-face {\n",
       "        font-family: \"Computer Modern\";\n",
       "        src: url('http://mirrors.ctan.org/fonts/cm-unicode/fonts/otf/cmunss.otf');\n",
       "    }\n",
       "    div.cell{\n",
       "        /*width:80%;*/\n",
       "        /*margin-left:auto !important;\n",
       "        margin-right:auto;*/\n",
       "    }\n",
       "    h1 {\n",
       "        font-family: 'Alegreya Sans', sans-serif;\n",
       "    }\n",
       "    h2 {\n",
       "        font-family: 'Fenix', serif;\n",
       "    }\n",
       "    h3{\n",
       "\t\tfont-family: 'Fenix', serif;\n",
       "        margin-top:12px;\n",
       "        margin-bottom: 3px;\n",
       "       }\n",
       "\th4{\n",
       "\t\tfont-family: 'Fenix', serif;\n",
       "       }\n",
       "    h5 {\n",
       "        font-family: 'Alegreya Sans', sans-serif;\n",
       "    }\t   \n",
       "    div.text_cell_render{\n",
       "        font-family: 'Alegreya Sans',Computer Modern, \"Helvetica Neue\", Arial, Helvetica, Geneva, sans-serif;\n",
       "        line-height: 1.2;\n",
       "        font-size: 120%;\n",
       "        /*width:70%;*/\n",
       "        /*margin-left:auto;*/\n",
       "        margin-right:auto;\n",
       "    }\n",
       "    .CodeMirror{\n",
       "            font-family: \"Source Code Pro\";\n",
       "\t\t\tfont-size: 90%;\n",
       "    }\n",
       "/*    .prompt{\n",
       "        display: None;\n",
       "    }*/\n",
       "    .text_cell_render h1 {\n",
       "        font-weight: 200;\n",
       "        font-size: 50pt;\n",
       "\t\tline-height: 110%;\n",
       "        color:#CD2305;\n",
       "        margin-bottom: 0.5em;\n",
       "        margin-top: 0.5em;\n",
       "        display: block;\n",
       "    }\t\n",
       "    .text_cell_render h5 {\n",
       "        font-weight: 300;\n",
       "        font-size: 16pt;\n",
       "        color: #CD2305;\n",
       "        font-style: italic;\n",
       "        margin-bottom: .5em;\n",
       "        margin-top: 0.5em;\n",
       "        display: block;\n",
       "    }\n",
       "    \n",
       "    li {\n",
       "        line-height: 110%;\n",
       "    }\n",
       "    .warning{\n",
       "        color: rgb( 240, 20, 20 )\n",
       "        }  \n",
       "</style>\n",
       "<script>\n",
       "    MathJax.Hub.Config({\n",
       "                        TeX: {\n",
       "                           extensions: [\"AMSmath.js\"]\n",
       "                           },\n",
       "                tex2jax: {\n",
       "                    inlineMath: [ ['$','$'], [\"\\\\(\",\"\\\\)\"] ],\n",
       "                    displayMath: [ ['$$','$$'], [\"\\\\[\",\"\\\\]\"] ]\n",
       "                },\n",
       "                displayAlign: 'center', // Change this to 'center' to center equations.\n",
       "                \"HTML-CSS\": {\n",
       "                    styles: {'.MathJax_Display': {\"margin\": 4}}\n",
       "                }\n",
       "        });\n",
       "</script>\n"
      ],
      "text/plain": [
       "<IPython.core.display.HTML object>"
      ]
     },
     "execution_count": 1,
     "metadata": {},
     "output_type": "execute_result"
    }
   ],
   "source": [
    "from IPython.core.display import HTML\n",
    "def css_styling():\n",
    "    styles = open(\"custom.css\", \"r\").read()\n",
    "    return HTML(styles)\n",
    "css_styling()"
   ]
  }
 ],
 "metadata": {
  "celltoolbar": "Slideshow",
  "kernelspec": {
   "display_name": "Python 2",
   "language": "python",
   "name": "python2"
  }
 },
 "nbformat": 4,
 "nbformat_minor": 0
}
