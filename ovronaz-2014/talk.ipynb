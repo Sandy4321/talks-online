{
 "metadata": {
  "name": "",
  "signature": "sha256:b82affbc8e210469e01f9c0dec76db5821f73023638984dd1cd11e973d00cc51"
 },
 "nbformat": 3,
 "nbformat_minor": 0,
 "worksheets": [
  {
   "cells": [
    {
     "cell_type": "markdown",
     "metadata": {
      "slideshow": {
       "slide_type": "slide"
      }
     },
     "source": [
      "# Low-rank approximation of matrices and tensors\n",
      "## Ivan Oseledets\n",
      "## Skolkovo Institute of Science and Technology (Skoltech), Russia"
     ]
    },
    {
     "cell_type": "markdown",
     "metadata": {
      "slideshow": {
       "slide_type": "slide"
      }
     },
     "source": [
      "## Skoltech\n",
      "\n",
      "- Founded 2011 with 7 people and a fax machine; \n",
      "- English-speaking, international research university\n",
      "- Located just outside of Moscow\n",
      "- Joint initiative with MIT\n",
      "- 180 students as of fall 2014 (40 PhD)\n",
      "- 30+ faculty, no departments\n",
      "- Main campus to be built in 2015\n",
      "<img width=50% src=\"skoltech.png\">"
     ]
    },
    {
     "cell_type": "markdown",
     "metadata": {
      "slideshow": {
       "slide_type": "slide"
      }
     },
     "source": [
      "## My group\n",
      "My group is 1yr old and is focused on different aspects of Scientific computing.  The main idea is to develop **broadly applicable methods** based on **separation of variables** and low-rank approximation of **matrices** and **tensors**.\n",
      "<img src=\"people.png\">\n"
     ]
    },
    {
     "cell_type": "markdown",
     "metadata": {
      "slideshow": {
       "slide_type": "slide"
      }
     },
     "source": [
      "## Talk plan\n",
      "- Concept of low-rank approximation of matrices  \n",
      "  (and where it is applied for integral equations)\n",
      "- Adaptive nested cross approximation of non-local operators and the **h2tools** package\n",
      "- Efficient method for the solution of large dense linear system  \n",
      "    with **hierarchical structure**\n",
      "- Low-rank approximation of tensors and what we can do  \n",
      "    (**ttpy** and **TT-Toolbox** packages)\n",
      "    "
     ]
    },
    {
     "cell_type": "markdown",
     "metadata": {
      "slideshow": {
       "slide_type": "slide"
      }
     },
     "source": [
      "## The interest in IE\n",
      "\n",
      "The group in Moscow, lead by Prof. Eugene Tyrtyshnikov has been working on efficient methods for solving integral equations for decades, with electromagnetics as one of the main applications."
     ]
    },
    {
     "cell_type": "markdown",
     "metadata": {
      "slideshow": {
       "slide_type": "slide"
      }
     },
     "source": [
      "A model example, scalar boundary integral equation of the form\n",
      "    $$\\int_{\\Omega} G(x, y) q(y) dy = u(x), \\quad G(x, y) = \\frac{1}{r}, \\quad \\mbox{or} \\quad G(x,y) = \\frac{e^{ikr}}{r},$$\n",
      "    and $\\Omega$ is a surface in 3D.  \n",
      "    A typical discretization using a mesh with triangular/rectangular elements may require $N \\sim 10^3-10^5$ elements depending on the accuracy required, so the number of matrix elements would be $10^6 - 10^{10}$.  \n",
      "    Even the computational of all matrix elements may require a lot of memory.  "
     ]
    },
    {
     "cell_type": "markdown",
     "metadata": {
      "slideshow": {
       "slide_type": "fragment"
      }
     },
     "source": [
      "Evaluation of a single matrix element can also be time-consuming, since typically it reduces to evaluation of the integrals of the form  \n",
      "$$\n",
      "    a_{ij} = \\int_{T_i} \\int_{T_j} K(x, y) \\phi_i(x) \\phi_j(y) dx dy,\n",
      "$$\n",
      "where $\\phi_i(x)$ and $\\phi_j(y)$ are the selected basis functions."
     ]
    },
    {
     "cell_type": "markdown",
     "metadata": {
      "slideshow": {
       "slide_type": "slide"
      }
     },
     "source": [
      "## Fast methods\n",
      "\n",
      "Fast methods have been in development for IE and non-local operators for decades.  \n",
      "The main focus is on the **fast evaluation** of the operator: i.e., given an input vector $x$, compute $y \\approx Ax$ with  \n",
      "contollable accuracy $\\varepsilon$ an hopefully in $\\mathcal{O}(N)$ time.  There are several classes of approaches. "
     ]
    },
    {
     "cell_type": "markdown",
     "metadata": {
      "slideshow": {
       "slide_type": "slide"
      }
     },
     "source": [
      "- Fast multipole method (FMM, Greengard, Rokhlin): it is based on the analytical expansion of the kernel into **multipole expansion**:  \n",
      "   If two sets of **sources** $y_j$ and **receivers** $x_i$ are well-separated, then the kernel can be expanded as  \n",
      "    $$K(x, y) \\approx \\sum_{\\alpha=1}^r f_{\\alpha}(x) f_{\\alpha}(y)$$ \n",
      "    (this is an oversimplified view on the FMM, which is actually a 3-step algorithm with M2M, M2L and L2L steps)"
     ]
    },
    {
     "cell_type": "markdown",
     "metadata": {
      "slideshow": {
       "slide_type": "fragment"
      }
     },
     "source": [
      "-  Precorrected FFT approach (J. White): use the shift-invariance of the kernel, interpolate onto the uniform grid,   \n",
      "     evaluate using Fast Fourier Transform and correct in the near field"
     ]
    },
    {
     "cell_type": "markdown",
     "metadata": {
      "slideshow": {
       "slide_type": "fragment"
      }
     },
     "source": [
      "-  Linear algebra via (block) low-rank approximation  \n",
      "    (first in the works by   W. Hackbusch, E. Tyrtyshnikov, B. Khoromskij).  \n",
      "    The matrix is treated as a **grey box**: the input is a **geometry** of the problem (location of sources $y_j \\in \\mathbb{R}^d$ and receivers $x_i \\in \\mathbb{R}^d$, and a function that evaluates a matrix element $a_{ij}$.  \n",
      "    Main goal: Approximate a dense matrix by sampling only $\\mathcal{O}(N \\log^{\\alpha} n \\log^{\\beta} \\varepsilon)$ elements"
     ]
    },
    {
     "cell_type": "markdown",
     "metadata": {
      "slideshow": {
       "slide_type": "slide"
      }
     },
     "source": [
      "## Mosaic partioning\n",
      "Why $\\mathcal{O}(n)$ sampling is possible?   \n",
      "We hierarchically partition  the matrix into large blocks, most of which corresponding to the **far zone** interaction.  \n",
      "Assumption: a block corresponding to the **well-separated** sources and receivers can be well approximated by a **low-rank matrix**."
     ]
    },
    {
     "cell_type": "markdown",
     "metadata": {
      "slideshow": {
       "slide_type": "slide"
      }
     },
     "source": [
      "Now we have to approximate a given matrix (block) of the full matrix by a low-rank matrix.  \n",
      "**How can we do that without computing all the entries?**  \n",
      "But before that I will do a short demo on a 1D example, illustrating the (block) low-rank idea."
     ]
    },
    {
     "cell_type": "markdown",
     "metadata": {
      "slideshow": {
       "slide_type": "slide"
      }
     },
     "source": [
      "First, consider a **Hilbert matrix** with the elements  \n",
      "$$\n",
      "   a_{ij} = \\frac{1}{i + j + 1/2}\n",
      "$$\n",
      "It is a famous example of an ill-conditioned matrix, and it can be well-approximated by a low-rank matrix.  \n",
      "The best approximation can be  computed using the **singular value decomposition** (SVD). "
     ]
    },
    {
     "cell_type": "code",
     "collapsed": false,
     "input": [
      "import numpy as np\n",
      "%matplotlib inline\n",
      "import matplotlib.pyplot as plt\n",
      "plt.xkcd()\n",
      "\n",
      "n = 500 \n",
      "a = [[1.0 / ( i + j + 0.5) for i in xrange(n)] for j in xrange(n) ]\n",
      "a = np.array(a)\n",
      "u, s, v = np.linalg.svd(a)\n",
      "plt.semilogy(s/s[0])\n",
      "plt.title('Decay of singular values for a Hilbert matrix')"
     ],
     "language": "python",
     "metadata": {
      "slideshow": {
       "slide_type": "slide"
      }
     },
     "outputs": [
      {
       "metadata": {},
       "output_type": "pyout",
       "prompt_number": 108,
       "text": [
        "<matplotlib.text.Text at 0x151b2a750>"
       ]
      },
      {
       "metadata": {},
       "output_type": "display_data",
       "png": "[encoded data removed]",
       "text": [
        "<matplotlib.figure.Figure at 0x120308610>"
       ]
      }
     ],
     "prompt_number": 108
    },
    {
     "cell_type": "markdown",
     "metadata": {
      "slideshow": {
       "slide_type": "slide"
      }
     },
     "source": [
      "If we consider a matrix with the elements\n",
      "$$\n",
      "   a_{ij} = \\frac{1}{i - j + 1/2},\n",
      "$$\n",
      "which correspond to the interaction of a \"charges\" on an interval with themselves, the low-rank property is lost, \n",
      "but it is not lost for the blocks!"
     ]
    },
    {
     "cell_type": "code",
     "collapsed": false,
     "input": [
      "import numpy as np\n",
      "%matplotlib inline\n",
      "import matplotlib.pyplot as plt\n",
      "plt.xkcd()\n",
      "\n",
      "n = 500 \n",
      "a = [[1.0 / ( i - j + 0.5) for i in xrange(n)] for j in xrange(n) ]\n",
      "a = np.array(a)\n",
      "u, s, v = np.linalg.svd(a)\n",
      "u1, s1, v1 = np.linalg.svd(a[:n/2,n/2:])\n",
      "fig, ax = plt.subplots(1,  2, figsize = (10, 5))\n",
      "ax[0].plot(s)\n",
      "ax[0].set_title('Full matrix')\n",
      "ax[1].semilogy(s1)\n",
      "ax[1].set_title('12 block')\n",
      "fig.tight_layout()"
     ],
     "language": "python",
     "metadata": {
      "slideshow": {
       "slide_type": "fragment"
      }
     },
     "outputs": [
      {
       "metadata": {},
       "output_type": "display_data",
       "png": "[encoded data removed]",
       "text": [
        "<matplotlib.figure.Figure at 0x151781810>"
       ]
      }
     ],
     "prompt_number": 109
    },
    {
     "cell_type": "markdown",
     "metadata": {
      "slideshow": {
       "slide_type": "slide"
      }
     },
     "source": [
      "## Skeleton decomposition\n",
      "How can we approximation a low-rank matrix without computing all its elements?  \n",
      "The skeleton decomposition gives an answer: if a matrix has rank $r$, it can be exactly recovered from its $r$ linearly independent columns and $r$ linearly independent rows.  \n",
      "<img src =\"cross-pic.png\" >"
     ]
    },
    {
     "cell_type": "markdown",
     "metadata": {
      "slideshow": {
       "slide_type": "slide"
      }
     },
     "source": [
      "## Cross approximation\n",
      "Cross approximation is a heuristic sampling technique for the selection of \"good\" rows and columns in a low-rank matrix.  \n",
      "The goal is to find rows and column that **maximize the volume** of the submatrix.  \n",
      "The maximal volume principle (Goreinov, Tyrtyshnikov) states that\n",
      "$$  \\Vert A - A_{skel} \\Vert_C \\leq (r + 1) \\sigma_{r+1},$$\n",
      "and $\\Vert \\cdot \\Vert$ is the maximal in modulus element of a matrix."
     ]
    },
    {
     "cell_type": "markdown",
     "metadata": {
      "slideshow": {
       "slide_type": "slide"
      }
     },
     "source": [
      "We can do a short demo (and compare with the SVD)"
     ]
    },
    {
     "cell_type": "code",
     "collapsed": false,
     "input": [
      "from rect_cross2d import rect_cross2d \n",
      "from scipy.linalg import hilbert \n",
      "a = hilbert(1000)\n",
      "%timeit U, S, V = rect_cross2d(a, 1e-5)\n",
      "%timeit U, S, V = np.linalg.svd(a)"
     ],
     "language": "python",
     "metadata": {
      "slideshow": {
       "slide_type": "fragment"
      }
     },
     "outputs": [
      {
       "output_type": "stream",
       "stream": "stdout",
       "text": [
        "10 loops, best of 3: 29.9 ms per loop\n",
        "1 loops, best of 3: 720 ms per loop"
       ]
      },
      {
       "output_type": "stream",
       "stream": "stdout",
       "text": [
        "\n"
       ]
      }
     ],
     "prompt_number": 110
    },
    {
     "cell_type": "markdown",
     "metadata": {
      "slideshow": {
       "slide_type": "slide"
      }
     },
     "source": [
      "## Hierachical matrices\n",
      "The idea behind $\\mathcal{H}$-matrices is now simple: \n",
      "\n",
      "1. Split the matrix into small (dense) blocks corresponding to the near-field interaction, and large low-rank blocks corresponding to the far   field interaction.\n",
      "2. Approximate the far field blocks by low-rank  \n",
      "\n",
      "<img src=\"hmatrix.png\">  \n",
      "Mosaic partitioning corresponding to one-dimensional and two-dimensional distribution of  particles."
     ]
    },
    {
     "cell_type": "markdown",
     "metadata": {
      "slideshow": {
       "slide_type": "slide"
      }
     },
     "source": [
      "**Algebraical, but not optimal**! There is a relation between the far field blocks as well.  \n",
      "This leads to so-called $\\mathcal{H}^2$-matrices: an algebraic version of the FMM.  \n",
      "Algebraic property of an \"FMM-matrix\": the **block row** has small rank.\n",
      "<img src=\"h2matrix.png\">"
     ]
    },
    {
     "cell_type": "markdown",
     "metadata": {
      "slideshow": {
       "slide_type": "slide"
      }
     },
     "source": [
      "## H2tools\n",
      "H2tools package (http://bitbucket.org/muxas/h2tools) is the main package we develop for working with block low-rank matrices.  \n",
      "Developers: Alexander Mikhalev, Daria Sushnikova, Ivan Oseledets  \n",
      "It is written in the Python language with parts accelerated with Cython. \n",
      "\n",
      "**Current functionality**:  \n",
      "1. Gray-box approximation of a given matrix\n",
      "2. Efficient method for the resulting linear systems\n",
      "\n",
      "I will give a short demo for a  problem with randomly generated particles in 3D that interact with a potential $G(x, y) = \\frac{1}{\\Vert x - y \\Vert}$"
     ]
    },
    {
     "cell_type": "code",
     "collapsed": false,
     "input": [
      "import numpy as np\n",
      "import h2py\n",
      "from h2py.data.particles import inv_distance, Data\n",
      "from h2py.main import Problem"
     ],
     "language": "python",
     "metadata": {
      "slideshow": {
       "slide_type": "slide"
      }
     },
     "outputs": [],
     "prompt_number": 1
    },
    {
     "cell_type": "code",
     "collapsed": false,
     "input": [
      "import time\n",
      "# parameters:\n",
      "#   N -- number of particles\n",
      "#   block_size -- no more, than block_size particles in close interactions\n",
      "#                    between nodes of trees\n",
      "N = 20000\n",
      "block_size = 20\n",
      "\n",
      "# Generating particles randomly in cube [0;1]^3\n",
      "particles = np.random.rand(3, N)\n",
      "\n",
      "# Saving particles in special data class and setting parameter k\n",
      "data = Data(particles)\n",
      "#data.check_far = check_far\n",
      "# Building tree\n",
      "t = -time.time()\n",
      "problem = Problem(inv_distance, data, block_size = block_size,)\n",
      "t += time.time() \n",
      "print \"Time for tree generation\", t\n",
      "# Generating symmetric computational queue\n",
      "t = -time.time()\n",
      "problem.gen_queue(symmetric = 1)\n",
      "t += time.time()\n",
      "print \"Time for the far/close blocks marking\", t\n",
      "t = time.time()\n",
      "problem.factorize('h2', tau = 1e-3, iters = 1, onfly = 0, verbose = 0, rect_maxvol_tol = 3)\n",
      "t = time.time()-t\n",
      "print 'Time for factorization:', t\n"
     ],
     "language": "python",
     "metadata": {
      "slideshow": {
       "slide_type": "fragment"
      }
     },
     "outputs": [
      {
       "output_type": "stream",
       "stream": "stdout",
       "text": [
        "Time for tree generation 16.3673560619\n",
        "Time for the far/close blocks marking 0.00257802009583\n",
        "Time for factorization:"
       ]
      },
      {
       "output_type": "stream",
       "stream": "stdout",
       "text": [
        " 16.203772068\n"
       ]
      }
     ],
     "prompt_number": 2
    },
    {
     "cell_type": "markdown",
     "metadata": {
      "slideshow": {
       "slide_type": "slide"
      }
     },
     "source": [
      "## Solving linear systems with block low-rank matrices\n",
      "\n",
      "Approximation of the matrix is not enough: we have to solve the resulting linear system!  \n",
      "(and that might cause problems)."
     ]
    },
    {
     "cell_type": "markdown",
     "metadata": {
      "slideshow": {
       "slide_type": "slide"
      }
     },
     "source": [
      "The H2tools package  has a black-box preconditioner built-in,  \n",
      "which is based on the **sparse-extended** (SE-form) of the matrix:  \n",
      "The classical three-step FMM-like procedure the multiplication  \n",
      "of an $\\mathcal{H}^2$ matrix can be rewritten as a solution of  a larger **sparse linear system**.  \n",
      "<img src = \"fmm.png\">"
     ]
    },
    {
     "cell_type": "markdown",
     "metadata": {
      "slideshow": {
       "slide_type": "fragment"
      }
     },
     "source": [
      "A typical SE-form looks as follows:\n",
      "<img src=\"SE1.png\" width=50%>"
     ]
    },
    {
     "cell_type": "markdown",
     "metadata": {
      "slideshow": {
       "slide_type": "slide"
      }
     },
     "source": [
      "## Timings for a model surface integral equation  \n",
      "We have tested 5 different methods how we can you the SE-form  on a model surface problem with $G(x, y) = \\frac{1}{\\Vert x - y\\Vert}$.\n",
      "\n",
      "Size of matrix | Dir sol|(block)+(SE)   | (full)+(SE)   | (Full)+(H2) |  (SVD)+(H2)  \n",
      "-----------  |:-------------:| -----:|-----:|-----:|\n",
      "        3928    | 2.585     | 3.215     | 2.11  | 2.16       |0.87  \n",
      "        13640   | 37.76     | 10.83     | 9.69  | 8.95      | 4.65  \n",
      "        28080   | 234       | 22.33     | 28.08 | 25.47     | 16.92 \n",
      "        59428   | -         | 53.14     | 78.15 | 70.37     | 42.01 \n",
      "        98936   | -         | 122,41    | 144.31| 127.95    | 89.94\n",
      "\n",
      "\n",
      "\n"
     ]
    },
    {
     "cell_type": "markdown",
     "metadata": {
      "slideshow": {
       "slide_type": "slide"
      }
     },
     "source": [
      "Now I will talk about another direction, which is the **main** in my research: **tensors**."
     ]
    },
    {
     "cell_type": "markdown",
     "metadata": {
      "slideshow": {
       "slide_type": "slide"
      }
     },
     "source": [
      "## Multivariate functions\n",
      "The main research direction is the approximation of multidimensional arrays (**tensors**).  \n",
      "Such tensors can appear, for example, in multiparametric/stochastic problems, when the approximated quantity depends on the deterministic or random parameters.  \n",
      "$$\n",
      "   f(x_1, \\ldots, x_d).\n",
      "$$\n",
      "After the discretization of $x_k$ this gives a $d$-dimensional array (tensor) of the form  \n",
      "$$A(i_1, \\ldots, i_d).$$\n",
      "How to approximate it?  \n",
      "A very fruitful approach is based on the **separation of variables**  \n",
      "$$\n",
      "A(i_1, \\ldots, i_d) \\approx \\sum_{\\alpha=1}^r U_1(i_1, \\alpha) \\ldots U_d(i_d, \\alpha).\n",
      "$$\n"
     ]
    },
    {
     "cell_type": "markdown",
     "metadata": {
      "slideshow": {
       "slide_type": "slide"
      }
     },
     "source": [
      "## Canonical format\n",
      "$$\n",
      "A(i_1, \\ldots, i_d) \\approx \\sum_{\\alpha=1}^r U_1(i_1, \\alpha) \\ldots U_d(i_d, \\alpha).\n",
      "$$\n",
      "This is called **canonical** format. Its main disadvantage that the approximation problem is not convex and may not even have a solution."
     ]
    },
    {
     "cell_type": "markdown",
     "metadata": {
      "slideshow": {
       "slide_type": "slide"
      }
     },
     "source": [
      "## Tensor train\n",
      "A tensor train is an alternative to the canonical format that can be computed in a robust way:\n",
      "$$\n",
      "   A(i_1, \\ldots, i_d) = G_1(i_1) \\ldots G_d(i_d),\n",
      "$$\n",
      "where $G_k(i_k)$ is a matrix of size $r_{k-1} \\times r_k$ and $r_0 = r_d$."
     ]
    },
    {
     "cell_type": "markdown",
     "metadata": {
      "slideshow": {
       "slide_type": "slide"
      }
     },
     "source": [
      "## Typical problems\n",
      "\n",
      "- Approximate a given tensor by a low-rank one: (solved, can apply to Green function compression), TT-SVD\n",
      "- Do basic linear algebra\n",
      "- We have generalized the skeleton decomposition to many dimensions (TT-cross)\n",
      "- Solve optimization problems where the solution is sought in the low-rank format\n",
      "- Use low-rank sampling to do global optimizations"
     ]
    },
    {
     "cell_type": "markdown",
     "metadata": {
      "slideshow": {
       "slide_type": "slide"
      }
     },
     "source": [
      "## Packages\n",
      "We have two basic packages:\n",
      "- TT-Toolbox (http://github.com/oseledets/TT-Toolbox) which is a MATLAB Toolbox that implements all the basic algorithms \n",
      "- ttpy (http://github.com/oseledets/ttpy) - its Python counterpart\n",
      "\n",
      "Many basic and advanced algorithms are implemented, and can be used as building blocks."
     ]
    },
    {
     "cell_type": "markdown",
     "metadata": {
      "slideshow": {
       "slide_type": "slide"
      }
     },
     "source": [
      "Demo on the cross approximation of tensors"
     ]
    },
    {
     "cell_type": "code",
     "collapsed": false,
     "input": [
      "import tt\n",
      "from tt.cross import rect_cross\n",
      "\n",
      "d = 20\n",
      "n = 10\n",
      "x0 = tt.rand(d, n, 3)\n",
      "h = 1e-2\n",
      "def myfun1(x):\n",
      "    return np.sum(x, axis=1)\n",
      "    #return np.sqrt((((h * x) ** 2).sum(axis=1)))\n",
      "\n",
      "x1 = rect_cross(myfun1, x0)\n",
      "x1 = x1.round(1e-8)\n",
      "print x1"
     ],
     "language": "python",
     "metadata": {
      "slideshow": {
       "slide_type": "fragment"
      }
     },
     "outputs": [
      {
       "output_type": "stream",
       "stream": "stdout",
       "text": [
        "swp: 0/9 er = 5.9e+08 erank = 7.0 fun_eval: 8400\n",
        "swp: 1/9 er = 2.3e-07 erank = 11.9 fun_eval: 36320\n",
        "This is a 10-dimensional tensor \n",
        "r(0)=1, n(0)=20 \n",
        "r(1)=2, n(1)=20 \n",
        "r(2)=2, n(2)=20 \n",
        "r(3)=2, n(3)=20 \n",
        "r(4)=2, n(4)=20 \n",
        "r(5)=2, n(5)=20 \n",
        "r(6)=2, n(6)=20 \n",
        "r(7)=2, n(7)=20 \n",
        "r(8)=2, n(8)=20 \n",
        "r(9)=2, n(9)=20 \n",
        "r(10)=1 \n",
        "\n"
       ]
      }
     ],
     "prompt_number": 3
    },
    {
     "cell_type": "markdown",
     "metadata": {
      "slideshow": {
       "slide_type": "slide"
      }
     },
     "source": [
      "## Sample applications\n",
      "The TT-Toolbox has been succesfully applied to different applications.  \n",
      "<div style=\"float: left; width: 40%; margin-right: 5%; margin-bottom: 0.5em;\">\n",
      "<p style=\"text-align:left\"> Hierarchical uncertainty quantification (Z. Zhang, MIT)</p>\n",
      "<img src=\"RFCap_3d.png\" >\n",
      "</div>\n",
      "<div style=\"float: left; width: 40%; margin-right: 5%; margin-bottom: 0.5em;\">\n",
      "<p style=\"text-align:left\"> Dynamics of quantum spin Hamiltonians </p>\n",
      "<img src=\"jutho.png\" >\n",
      "</div>\n",
      "<p style=\"clear: both;\">\n",
      "- Multidimensional integrals in theoretical physics (M. Litsarev)\n",
      "- Chemical master equation in biology (work by V. Kazeev and S. Dolgov)"
     ]
    },
    {
     "cell_type": "markdown",
     "metadata": {
      "slideshow": {
       "slide_type": "slide"
      }
     },
     "source": [
      "## Publications, software\n",
      "- oseledets.github.io - group website, papers, etc.\n",
      "- http://github.com/oseledets/TT-Toolbox\n",
      "- http://github.com/oseledets/ttpy\n",
      "- http://bitbucket.org/muxas/h2tools"
     ]
    },
    {
     "cell_type": "markdown",
     "metadata": {
      "slideshow": {
       "slide_type": "slide"
      }
     },
     "source": [
      "##### Questions?"
     ]
    },
    {
     "cell_type": "code",
     "collapsed": false,
     "input": [
      "from IPython.core.display import HTML\n",
      "def css_styling():\n",
      "    styles = open(\"../common/custom.css\", \"r\").read()\n",
      "    return HTML(styles)\n",
      "css_styling()"
     ],
     "language": "python",
     "metadata": {
      "slideshow": {
       "slide_type": "skip"
      }
     },
     "outputs": [
      {
       "html": [
        "<link href='http://fonts.googleapis.com/css?family=Fenix' rel='stylesheet' type='text/css'>\n",
        "<link href='http://fonts.googleapis.com/css?family=Alegreya+Sans:100,300,400,500,700,800,900,100italic,300italic,400italic,500italic,700italic,800italic,900italic' rel='stylesheet' type='text/css'>\n",
        "<link href='http://fonts.googleapis.com/css?family=Source+Code+Pro:300,400' rel='stylesheet' type='text/css'>\n",
        "<style>\n",
        "    @font-face {\n",
        "        font-family: \"Computer Modern\";\n",
        "        src: url('http://mirrors.ctan.org/fonts/cm-unicode/fonts/otf/cmunss.otf');\n",
        "    }\n",
        "    div.cell{\n",
        "        /*width:80%;*/\n",
        "        /*margin-left:auto !important;\n",
        "        margin-right:auto;*/\n",
        "    }\n",
        "    h1 {\n",
        "        font-family: 'Alegreya Sans', sans-serif;\n",
        "    }\n",
        "    h2 {\n",
        "        font-family: 'Fenix', serif;\n",
        "    }\n",
        "    h3{\n",
        "\t\tfont-family: 'Fenix', serif;\n",
        "        margin-top:12px;\n",
        "        margin-bottom: 3px;\n",
        "       }\n",
        "\th4{\n",
        "\t\tfont-family: 'Fenix', serif;\n",
        "       }\n",
        "    h5 {\n",
        "        font-family: 'Alegreya Sans', sans-serif;\n",
        "    }\t   \n",
        "    div.text_cell_render{\n",
        "        font-family: 'Alegreya Sans',Computer Modern, \"Helvetica Neue\", Arial, Helvetica, Geneva, sans-serif;\n",
        "        font-size: 160%;\n",
        "        line-height: 121%;\n",
        "        /*width:70%;*/\n",
        "        /*margin-left:auto;*/\n",
        "        margin-right:auto;\n",
        "    }\n",
        "    li {\n",
        "        line-height: 121%;\n",
        "    }\n",
        "    .CodeMirror{\n",
        "            font-family: \"Source Code Pro\";\n",
        "\t\t\tfont-size: 90%;\n",
        "    }\n",
        "/*    .prompt{\n",
        "        display: None;\n",
        "    }*/\n",
        "    .text_cell_render h1 {\n",
        "        font-weight: 200;\n",
        "        font-size: 50pt;\n",
        "\t\tline-height: 110%;\n",
        "        color:#CD2305;\n",
        "        margin-bottom: 0.5em;\n",
        "        margin-top: 0.5em;\n",
        "        display: block;\n",
        "    }\t\n",
        "    .text_cell_render h5 {\n",
        "        font-weight: 300;\n",
        "        font-size: 16pt;\n",
        "        color: #CD2305;\n",
        "        font-style: italic;\n",
        "        margin-bottom: .5em;\n",
        "        margin-top: 0.5em;\n",
        "        display: block;\n",
        "    }\n",
        "    \n",
        "    .warning{\n",
        "        color: rgb( 240, 20, 20 )\n",
        "        }  \n",
        ".floated_img\n",
        "{\n",
        "        float: left;\n",
        "    }\n",
        "</style>\n",
        "<script>\n",
        "    MathJax.Hub.Config({\n",
        "                        TeX: {\n",
        "                           extensions: [\"AMSmath.js\"]\n",
        "                           },\n",
        "                tex2jax: {\n",
        "                    inlineMath: [ ['$','$'], [\"\\\\(\",\"\\\\)\"] ],\n",
        "                    displayMath: [ ['$$','$$'], [\"\\\\[\",\"\\\\]\"] ]\n",
        "                },\n",
        "                displayAlign: 'center', // Change this to 'center' to center equations.\n",
        "                \"HTML-CSS\": {\n",
        "                    styles: {'.MathJax_Display': {\"margin\": 4}}\n",
        "                }\n",
        "        });\n",
        "</script>\n"
       ],
       "metadata": {},
       "output_type": "pyout",
       "prompt_number": 107,
       "text": [
        "<IPython.core.display.HTML at 0x1519576d0>"
       ]
      }
     ],
     "prompt_number": 107
    }
   ],
   "metadata": {}
  }
 ]
}