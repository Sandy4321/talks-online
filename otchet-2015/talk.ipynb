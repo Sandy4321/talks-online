{
 "cells": [
  {
   "cell_type": "markdown",
   "metadata": {
    "slideshow": {
     "slide_type": "slide"
    }
   },
   "source": [
    "# Отчетный доклад (2015)\n",
    "\n",
    "##### Иван Оселедец \n",
    "##### oseledets.github.io, i.oseledets@skoltech.ru"
   ]
  },
  {
   "cell_type": "markdown",
   "metadata": {},
   "source": [
    "## Основные научные результаты\n",
    "\n",
    "- Доказана тензорная  структура решений многомашстабной  эллиптической задачи  с квазипериоди-\n",
    "ческими коэффициентами (совместно с C. Schwab, В. Казеевым), что дает принципиально новый\n",
    "подход оптимальной  сложности  к расчету  композитных  структур и фотонных  кристаллов.\n",
    "\n",
    "\n",
    "\n",
    "- Предложен новый метод расчета  интегралов  по траектории на основе малоранговой  аппроксима-\n",
    "ции (совм. с М. Лицаревым). Метод позволяет  расчитывать интегралы в размерности ∼ 10000 и\n",
    "быстрее стандартного метода  Монте-Карло в сотни раз при одинаковой  точности.\n",
    "\n",
    "\n",
    "- Предложен и реализован  новый высокоточный метод приближения поверхностей потенциальной\n",
    "энергии на основе тензорных  поездов и активных  подпространств (совм. с В. Барановым). Пока-\n",
    "зано, что аффинное преобразование  позволяет понизить число параметров в сотни раз и получить\n",
    "очень компактные представления потенциальной  поверхности.\n",
    "\n",
    "\n",
    "- Предложен новый подход построения  приближенной  факторизации Холецкого для  разреженной\n",
    "матрицы  на основе H2-матриц.  На  основе численных  экспериментов  показано,  что  новое пред-\n",
    "ставление  позволяет  сократить время  факторизации и требуемую  память  в несколько  раз  по\n",
    "сравнению со стандартным пакетом  CHOLMOD  (совм. с Д. Сушниковой).\n",
    "\n",
    "\n",
    "- Предложен новый метод решения проблемы   холодного старта  в рекомендательных системах на\n",
    "основе выбора  репрезентативных продуктов  с помощью принципа  максимального объема  (совм.\n",
    "с А. Фонаревым  и А. Михалевым).\n",
    "\n",
    "\n",
    "В исследованиях участвовали: А. Ю. Михалев,  Д. А. Сушникова  (асп. ИВМ РАН),  М. В. Рахуба  (асп.\n",
    "МФТИ),  М. А. Кузнецов,  П.  В. Харюк  (асп.  ВМК),  Д.  А. Колесников,  А. Фонарев,  А. Новиков,  В.\n",
    "Баранов.\n"
   ]
  },
  {
   "cell_type": "markdown",
   "metadata": {},
   "source": [
    "## Публикации \n",
    "[1] G.V.  Ryzhakov,  A.Yu.  Mikhalev,  D.A.  Sushnikova,  I.V.  Oseledets.    Numerical  solution  of diffraction problems  using large matrix  compression.   In Antennas and Propagation  (EuCAP), 2015 9th European Conference  on, pages 1–3, April 2015.\n",
    "\n",
    "[2] V. Baranov,  I. Oseledets.   Fitting high-dimensional potential energy surface  using active  subspace  and tensor  train  (AS+TT) method.  J. Chem.  Phys.,  (143):17107, 2015. doi:10.1063/1.4935017.\n",
    "\n",
    "[3] Sergey  I.  Kabanikhin,  Nikita  S.  Novikov,  Ivan  V.  Oseledets,   Maxim  A.  Shishlenin.     Fast Toeplitz linear system inversion for solving two-dimensional acoustic inverse problem.  Inverse Problems, 2015. doi:10.1515/jiip-2015-0083.\n",
    " \n",
    "[4] D. A. Kolesnikov, I. V. Oseledets.  From low-rank approximation to arational Krylov subspace method  for the Lyapunov  equation.  SIAM  J. Matrix  Anal.  Appl.,  36(4):1622–1637, 2015. doi:10.1137/140992266.\n",
    "\n",
    "[5] M. S. Litsarev,  I. V. Oseledets.  Fast  low-rank approximations of multidimensional integrals  in ion-atomic collisions modelling.  Numer.  Linear  Algebra Appl.,  22(6):1147–1160, 2015. doi:10.1002/nla.2008.\n",
    "\n",
    "[6] Christian Lubich, Ivan Oseledets, Bart  Vandereycken. Time integration of tensor trains.  SIAM  J. Numer.\n",
    "Anal.,  53(2):917–941, 2015. doi:10.1137/140976546.\n",
    "\n",
    "[7] A. Yu.  Mikhalev,  I.  V. Oseledets.    Iterative representing set  selection  fo nested  cross approximation.\n",
    "Numer.  Linear  Algebra Appl.,  2015. doi:10.1002/nla.2021.\n",
    "\n",
    "[8] A. Yu.  Mikhalev,  I. V. Oseledets.   Rectangular  maximum-volume submatrices and  their  applications. arXiv preprint 1502.07838, 2015.\n",
    "\n",
    "[9] I. V. Oseledets, G. V. Ovchinnikov,  A. M. Katrutsa. Linear complexity  SimRank  using iterative diagonal estimation. arXiv preprint 1502.07167, 2015.\n",
    "\n",
    "[10] I. Ostanin, A. Mikhalev, D. Zorin, I. Oseledets.  Engineering optimization with the fast boundary element method.  WIT Transactions on Modelling and Simulation, 61:7, 2015. doi:10.2495/BEM380141.\n",
    "\n",
    "[11] Igor Ostanin, Denis Zorin, Ivan Oseledets.  Toward  fast topological-shape optimization.  arXiv preprint\n",
    "1503.02383, 2015.\n",
    "\n",
    "[12] M. V. Rakhuba, I. V. Oseledets.  Fast  multidimensional convolution  in low-rank tensor formats  via cross approximation. SIAM  J. Sci.  Comput.,  37(2):A565–A582, 2015. doi:10.1137/140958529.\n",
    "\n",
    "[13] M. V. Rakhuba, I. V. Oseledets.  Grid-based electronic  structure calculations: the tensor  decomposition approach. arXiv preprint 1508.07632, 2015.\n",
    "\n",
    "[14] Ben Usman,  Ivan  Oseledets.  Tensor  SimRank  for heterogeneous  information networks.  arXiv preprint\n",
    "1502.06818, 2015.\n",
    "\n",
    "[15] Zhang  Zheng,  Xiu  Yang,  Ivan  V.  Oseledets,  George  Em  Karniadakis, Luca  Daniel.   Enabling  high- dimensional  hierarchical  uncertainty quantification by ANOVA and  Tensor-Train decomposition. IEEE Trans. Comput-aided Des. Integr.  Circuits  Syst.,  34(1):63–76, 2015. doi:10.1109/TCAD.2014.2369505.\n",
    "\n",
    "[16] А. Ю. Михалев,  И. В. Оселедец.  Прямоугольные подматрицы максимального объема и их вычис-\n",
    "ление.  ДАН, 462(1):19–20, 2015. doi:10.7868/S0869565215070087."
   ]
  },
  {
   "cell_type": "markdown",
   "metadata": {},
   "source": [
    "## Научно-организационная работа\n",
    "\n",
    "- Руководитель гранта  РНФ  14-11-00659\n",
    "\n",
    "- Организация 4-ой международной конференции по матричным методам  в математике и прило-\n",
    "жениях  (MMMA-2015,  Сколтех,  23-28 августа  2015 года).  Более  100 участников  из 6 стран  и 10\n",
    "университетов.\n",
    "\n",
    "- Рецензирование в журналах Linear  Algebra  Appl.,  SIAM J.  Sci. Comput., Numer.  Linear  Algebra\n",
    "Appl.,  SIAM J. Matrix  Anal. Appl.,  J. Comp. Phys,  SIAM J. Opt.,  SIAM J. Numer.  Anal. Appl.,\n",
    "\n",
    "- Руководство  аспиранткой  3 года  ИВМ  РАН  Д.  А.  Сушниковой,  аспиранта 1 года  ИВМ  РАН\n",
    "А.  Новикова,  аспирантами 2 года  обучения  ВМК  МГУ  М.  А.  Кузнецовым  и П.  В.  Харюком,\n",
    "аспиранта 2 года МФТИ  М. В. Рахубой\n",
    "\n",
    "- Экспертиза проектов  РФФИ,  Минобрнауки,  РНФ.\n"
   ]
  },
  {
   "cell_type": "markdown",
   "metadata": {},
   "source": [
    "## MMMA-2015\n",
    "\n",
    "Более 100 участников из 6 стран. 23-28 августа 2015 года.  \n",
    "(C. Schwab, J. White, Per-Gunnar Martinsson, A. Cichocki, В.П. Ильин, С.И. Кабанихин)\n",
    "\n",
    "<img src=\"mmma-2015.jpg\" width=80%>"
   ]
  },
  {
   "cell_type": "markdown",
   "metadata": {},
   "source": [
    "## Computational Data-Intensive Science & Engineering at Skoltech\n",
    "\n",
    "Центр вычислительных технологий Сколтеха crei.skoltech.ru/cdise/ продолжает развиваться: 7 групп, более 30 исследователей. \n",
    "\n",
    "- Единственные публикации в России на конференциям по машинному обучению и компьютерному зрению, анализу данных. \n",
    "- Взаимодействие с индустрией (Huawei, Intel, Infowatch, Русагро, КАМАЗ, Мортон).\n",
    "- Планируется расширение в 2016 году"
   ]
  },
  {
   "cell_type": "markdown",
   "metadata": {},
   "source": [
    "## Новая жизнь QTT-разложения в 2015 году\n",
    "\n",
    "QTT-разложение (превращение вектора неизвестных в $2 \\times 2 \\times \\ldots \\times 2$ тензор, применение TT-разложения) может приводить к методам логарифмической сложности. \n",
    "\n",
    "### Возражения\n",
    "- Нет классов функций, для которых приближение существует\n",
    "- Не работает для областей, отличных от прямоугольной"
   ]
  },
  {
   "cell_type": "markdown",
   "metadata": {},
   "source": [
    "## Результаты Казеева и Шваба\n",
    "\n",
    "Впервые доказана структура QTT-решения двумерного уравнения диффузии в криволинейной полигональной области $\\Omega$ вида\n",
    "с оператором \n",
    "$$\\mathcal A = -\\nabla \\cdot A \\nabla  + b^{\\top} \\nabla + c,  $$\n",
    "\n",
    "где $A(x)$, $b(x)$, $c(x)$ являются аналитическими в $\\Omega$.\n",
    "\n",
    "Тогда можно построить конечно-элементную дискретизацию так, что вектор коэффициентов решения приближается в QTT-формате.\n",
    "\n",
    "Идея доказательства основана на взвешенных пространствах Соболева и структуре решения (точечные сингулярности)."
   ]
  },
  {
   "cell_type": "markdown",
   "metadata": {},
   "source": [
    "## Сложные области\n",
    "\n",
    "(картинки сделаны Ларисой Маркеевой): \n",
    "\n",
    "четырехугольник легко отобразить в квадрат простым отображением\n",
    "\n",
    "<div style=\"float: left; width: 40%\">\n",
    "<p style=\"text-align: center\">  Quadrilateral </p>\n",
    "<img src='quadr.png' width=100%>\n",
    "</div>\n",
    "<div style=\"float: left; width: 40%\">\n",
    "<p style=\"text-align: center\"> Reference</p>\n",
    "<img src='quadr1.png' width=100%>\n",
    "</div>"
   ]
  },
  {
   "cell_type": "markdown",
   "metadata": {},
   "source": [
    "##  Логически-прямоугольные сетки \n",
    "(картинки сделаны Ларисой Маркеевой): \n",
    "\n",
    "<div style=\"float: left; width: 40%\">\n",
    "<p style=\"text-align: center\">  треугольник </p>\n",
    "<img src='triangle.png' width=100%>\n",
    "</div>\n",
    "<div style=\"float: left; width: 40%\">\n",
    "<p style=\"text-align: center\"> Референс-область</p>\n",
    "<img src='triangle1.png' width=100%>\n",
    "</div>"
   ]
  },
  {
   "cell_type": "markdown",
   "metadata": {},
   "source": [
    "## Quads\n",
    "\n",
    "В общем случае, покрытие сложной поверхности квадами является известной задачей в вычислительной геометрии, есть стандартные пакеты.\n",
    "\n",
    "<img src='bommes2013qmg.jpg' width=40%>"
   ]
  },
  {
   "cell_type": "markdown",
   "metadata": {},
   "source": [
    "## Многомасштабные задачи\n",
    "\n",
    "Технология распространяется на сильноосциллирующие коэффициенты! (доказательство меняется, но оно закончено).\n",
    "\n",
    "Например, теплопроводность: \n",
    "\n",
    "$$ \\nabla \\cdot (k \\nabla u) = f,$$\n",
    "\n",
    "где $k = k(\\frac{x}{\\delta},x)$, и $\\delta$ - параметр масштаба.\n",
    "\n",
    "<img src='perforated-domain.jpg'>\n",
    "\n",
    "В работе Оселедец, Казеев, Шваб, Рахуба мы полностью получили результат в 1д случае, обобщение на 2д в процессе.\n",
    "\n",
    "Основа - теория осреднения Бахвалова/Панасенко, где показывается, что асимптотическое разложение принадлежит классу."
   ]
  },
  {
   "cell_type": "markdown",
   "metadata": {},
   "source": [
    "## Численная иллюстрация\n",
    "\n",
    "Простейшая задача:\n",
    "$$ \n",
    "(a u')' = 1, \\quad u(1) = u(0) = 0,\n",
    "$$\n",
    "$$a(x) = a_0(x) a_1\\left(\\frac{x}{\\delta}\\right),$$\n",
    "where $a_0 = 1 + x$, $a_1 = 2/3 (1 + \\cos^2(2 \\pi \\frac{x}{\\delta})).$\n",
    "\n",
    "\n",
    "<div style=\"float: left; width: 50%\">\n",
    "<img src='diffusion.jpg' width=100%>\n",
    "</div>\n",
    "<div style=\"float: left; width: 50%\">\n",
    "<img src='diffusion1.jpg' width=100%>\n",
    "</div>"
   ]
  },
  {
   "cell_type": "markdown",
   "metadata": {},
   "source": [
    "## Проблема\n",
    "На очень мелких сетках не работают конечные разности/конечные элементы!\n",
    "\n",
    "Для Пуассона: \n",
    "$$Er = \\frac{\\epsilon}{h^2} + h^2,$$\n",
    "\n",
    "минимум при $h \\sim {\\epsilon^{1/4}},$ даже при $\\epsilon = 10^{-16}, \\quad h \\geq 10^{-4}.$\n",
    "\n",
    "Для многомашстабных задач нам нужны меньшие сетки, соответственно должны быть схемы дискретизации, которые работают при $n \\geq  2^{60}.$\n",
    "\n",
    "**Идея** у нас есть, и она прекрасно работает в 1д (на сетках вплоть до $2^{120}$) и в 2д на сетках вплоть до $2^{40} \\times 2^{40},$ \n",
    "\n",
    "в чем-то похоже на метод интегральных тождеств Марчука."
   ]
  },
  {
   "cell_type": "markdown",
   "metadata": {},
   "source": [
    "## Другие результаты\n",
    "- М.С. Лицарев: методы вычисления Феймановских интегралов и решение задач в неограниченных областях (J. Comp. Phys, NLA)\n",
    "\n",
    "- М.В. Рахуба: тензорный метод расчета электронной структуры (прошла ревизия в J. Comp. Phys., SISC)\n",
    "\n",
    "- В. Баранов: тензорный метод приближения поверхности потенциальной энергии (J. Chemp. Phys.)\n",
    "\n",
    "- А. Фонарев, А. Михалев + команда из Яндекса: максвольный метод построения рекомендаций (подано на WWW)\n",
    "\n",
    "- Д. А. Колесников: новый рациональный Крыловский метод для решения уравнения Ляпунова (SIMAX)\n",
    "\n",
    "- C. Lubich, B. Vandereycken: Time integration of tensor trains (SINUM)\n",
    "\n",
    "- А. Михалев: Вложенный крестовый метод (ДАН, NLA)"
   ]
  },
  {
   "cell_type": "code",
   "execution_count": 2,
   "metadata": {
    "collapsed": false,
    "slideshow": {
     "slide_type": "skip"
    }
   },
   "outputs": [
    {
     "data": {
      "text/html": [
       "<link href='http://fonts.googleapis.com/css?family=Fenix' rel='stylesheet' type='text/css'>\n",
       "<link href='http://fonts.googleapis.com/css?family=Alegreya+Sans:100,300,400,500,700,800,900,100italic,300italic,400italic,500italic,700italic,800italic,900italic' rel='stylesheet' type='text/css'>\n",
       "<link href='http://fonts.googleapis.com/css?family=Source+Code+Pro:300,400' rel='stylesheet' type='text/css'>\n",
       "<style>\n",
       "    @font-face {\n",
       "        font-family: \"Computer Modern\";\n",
       "        src: url('http://mirrors.ctan.org/fonts/cm-unicode/fonts/otf/cmunss.otf');\n",
       "    }\n",
       "    div.cell{\n",
       "        /*width:80%;*/\n",
       "        /*margin-left:auto !important;\n",
       "        margin-right:auto;*/\n",
       "    }\n",
       "    h1 {\n",
       "        font-family: 'Alegreya Sans', sans-serif;\n",
       "    }\n",
       "    h2 {\n",
       "        font-family: 'Fenix', serif;\n",
       "    }\n",
       "    h3{\n",
       "\t\tfont-family: 'Fenix', serif;\n",
       "        margin-top:12px;\n",
       "        margin-bottom: 3px;\n",
       "       }\n",
       "\th4{\n",
       "\t\tfont-family: 'Fenix', serif;\n",
       "       }\n",
       "    h5 {\n",
       "        font-family: 'Alegreya Sans', sans-serif;\n",
       "    }\t   \n",
       "    div.text_cell_render{\n",
       "        font-family: 'Alegreya Sans',Computer Modern, \"Helvetica Neue\", Arial, Helvetica, Geneva, sans-serif;\n",
       "        line-height: 1.2;\n",
       "        font-size: 120%;\n",
       "        /*width:70%;*/\n",
       "        /*margin-left:auto;*/\n",
       "        margin-right:auto;\n",
       "    }\n",
       "    .CodeMirror{\n",
       "            font-family: \"Source Code Pro\";\n",
       "\t\t\tfont-size: 90%;\n",
       "    }\n",
       "/*    .prompt{\n",
       "        display: None;\n",
       "    }*/\n",
       "    .text_cell_render h1 {\n",
       "        font-weight: 200;\n",
       "        font-size: 50pt;\n",
       "\t\tline-height: 110%;\n",
       "        color:#CD2305;\n",
       "        margin-bottom: 0.5em;\n",
       "        margin-top: 0.5em;\n",
       "        display: block;\n",
       "    }\t\n",
       "    .text_cell_render h5 {\n",
       "        font-weight: 300;\n",
       "        font-size: 16pt;\n",
       "        color: #CD2305;\n",
       "        font-style: italic;\n",
       "        margin-bottom: .5em;\n",
       "        margin-top: 0.5em;\n",
       "        display: block;\n",
       "    }\n",
       "    \n",
       "    li {\n",
       "        line-height: 110%;\n",
       "    }\n",
       "    .warning{\n",
       "        color: rgb( 240, 20, 20 )\n",
       "        }  \n",
       "</style>\n",
       "<script>\n",
       "    MathJax.Hub.Config({\n",
       "                        TeX: {\n",
       "                           extensions: [\"AMSmath.js\"]\n",
       "                           },\n",
       "                tex2jax: {\n",
       "                    inlineMath: [ ['$','$'], [\"\\\\(\",\"\\\\)\"] ],\n",
       "                    displayMath: [ ['$$','$$'], [\"\\\\[\",\"\\\\]\"] ]\n",
       "                },\n",
       "                displayAlign: 'center', // Change this to 'center' to center equations.\n",
       "                \"HTML-CSS\": {\n",
       "                    styles: {'.MathJax_Display': {\"margin\": 4}}\n",
       "                }\n",
       "        });\n",
       "</script>\n"
      ],
      "text/plain": [
       "<IPython.core.display.HTML object>"
      ]
     },
     "execution_count": 2,
     "metadata": {},
     "output_type": "execute_result"
    }
   ],
   "source": [
    "from IPython.core.display import HTML\n",
    "def css_styling():\n",
    "    styles = open(\"custom.css\", \"r\").read()\n",
    "    return HTML(styles)\n",
    "css_styling()"
   ]
  }
 ],
 "metadata": {
  "kernelspec": {
   "display_name": "Python 2",
   "language": "python",
   "name": "python2"
  },
  "language_info": {
   "codemirror_mode": {
    "name": "ipython",
    "version": 2
   },
   "file_extension": ".py",
   "mimetype": "text/x-python",
   "name": "python",
   "nbconvert_exporter": "python",
   "pygments_lexer": "ipython2",
   "version": "2.7.10"
  }
 },
 "nbformat": 4,
 "nbformat_minor": 0
}
