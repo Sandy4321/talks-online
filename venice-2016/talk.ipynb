{
 "cells": [
  {
   "cell_type": "code",
   "execution_count": 2,
   "metadata": {
    "code_folding": [
     0
    ],
    "collapsed": false,
    "slideshow": {
     "slide_type": "skip"
    }
   },
   "outputs": [
    {
     "data": {
      "text/plain": [
       "{u'scroll': True,\n",
       " u'start_slideshow_at': 'selected',\n",
       " u'theme': 'sky',\n",
       " u'transition': 'zoom'}"
      ]
     },
     "execution_count": 2,
     "metadata": {},
     "output_type": "execute_result"
    }
   ],
   "source": [
    "from IPython.html.services.config import ConfigManager\n",
    "from IPython.paths import locate_profile\n",
    "cm = ConfigManager(profile_dir=locate_profile(get_ipython().profile))\n",
    "cm.update('livereveal', {\n",
    "              'theme': 'sky',\n",
    "              'transition': 'zoom',\n",
    "              'start_slideshow_at': 'selected',\n",
    "})"
   ]
  },
  {
   "cell_type": "code",
   "execution_count": 1,
   "metadata": {
    "code_folding": [
     0
    ],
    "collapsed": true,
    "slideshow": {
     "slide_type": "skip"
    }
   },
   "outputs": [],
   "source": [
    "#import\n",
    "import tt\n",
    "import numpy as np\n",
    "import scipy.linalg as la\n",
    "import scipy.sparse as ssp\n",
    "import scipy.sparse.linalg as sla\n",
    "import math\n",
    "\n",
    "#Graphics\n",
    "import matplotlib.pyplot as plt\n",
    "#import prettyplotlib as ppl\n",
    "%matplotlib inline"
   ]
  },
  {
   "cell_type": "markdown",
   "metadata": {
    "slideshow": {
     "slide_type": "slide"
    }
   },
   "source": [
    "# Tensor decompositions: new results and open problems\n",
    "##### Ivan Oseledets\n",
    "##### Skolkovo Institute of Science and Technology\n",
    "##### Based on joint work with M. Rakhuba, V. Kazeev, C. Schwab, A. Chertkov, D. Kolesnikov\n",
    "\n",
    "\n"
   ]
  },
  {
   "cell_type": "markdown",
   "metadata": {
    "slideshow": {
     "slide_type": "slide"
    }
   },
   "source": [
    "## Tensor decompositions\n",
    "\n",
    "The idea of tensor decompositions is based on the idea of **separation of variables**.\n",
    "\n",
    "**Rank-$1$ tensor**: $$A(i_1, \\ldots, i_d) \\approx U_1(i_1) \\ldots U_d(i_d),$$\n",
    "\n",
    "**Canonical rank-$r$ tensor**: $$A(i_1, \\ldots, i_d) \\approx \\sum_{\\alpha=1}^r U_1(i_1, \\alpha) \\ldots U_d(i_d, \\alpha),$$\n",
    "\n",
    "**Tensor-train (MPS)**: $$A(i_1, \\ldots, i_d) = G_1(i_1) \\ldots G_d(i_d),$$ where $G_k(i_k)$ is an $r_{k-1} \\times r_k$ matrix.\n",
    "\n",
    "Tree-tensor networks (include H-Tucker, TT) are the most general **stable** representation class."
   ]
  },
  {
   "cell_type": "markdown",
   "metadata": {
    "slideshow": {
     "slide_type": "slide"
    }
   },
   "source": [
    "## (Well-known) properties of the tensor formats\n",
    "\n",
    "- Canonical format is in general an unstable representation; the set of tensors with bounded canonical rank does not form a manifold\n",
    "- SVD-based format with fixed ranks form a **Riemannian manifold**, and come with a bunch of stable algorithms"
   ]
  },
  {
   "cell_type": "markdown",
   "metadata": {
    "slideshow": {
     "slide_type": "slide"
    }
   },
   "source": [
    "## Tensor-train format properties:\n",
    "\n",
    "- Fast linear algebra\n",
    "- Generalization of the SVD (TT-SVD, Vidal algorithm)\n",
    "- Rounding proceduring in $\\mathcal{O}(dnr^3)$ complexity\n",
    "- Exact recovery from samples of low-rank tensors (**cross approximation**)\n",
    "- Software available for MATLAB & Python for testing and development purposes."
   ]
  },
  {
   "cell_type": "markdown",
   "metadata": {
    "slideshow": {
     "slide_type": "slide"
    }
   },
   "source": [
    "## Challenges\n",
    "\n",
    "\n",
    "There are several challenges in tensor decompositions:\n",
    "\n",
    "0. Make it work for the particular problem: right parametrization/reshaping into a tensor (i.e. similar\n",
    "1. Develop **black-box** optimization over low-rank manifolds, when you know that the solution is in the right format\n",
    "2. Investigate theoretical convergence properties: the current analysis is insufficient for the convergence of ALS-type methods."
   ]
  },
  {
   "cell_type": "markdown",
   "metadata": {
    "slideshow": {
     "slide_type": "slide"
    }
   },
   "source": [
    "## New result: tensors for the multiscale problems\n",
    "\n",
    "One of the most interesting applications of the tensor methods is the **direct resolution** in multiscale problems with very fine meshes.\n",
    "\n",
    "[Nice picture]"
   ]
  },
  {
   "cell_type": "markdown",
   "metadata": {
    "slideshow": {
     "slide_type": "slide"
    }
   },
   "source": [
    "## Model problem\n",
    "\n",
    "As a model problem, consider a diffusion problem with a highly oscillating coefficient\n",
    "\n",
    "$$\\nabla \\cdot k \\nabla u = f, $$\n",
    "\n",
    "in $[0, 1], u_{\\partial \\Omega} = 0.$ \n",
    "\n",
    "for simplicity, let us focus on the 1D case, and suppose **two-scale** problem:\n",
    "\n",
    "$$k = K_1(x) K_2\\left(\\frac{x}{\\epsilon}\\right),$$\n",
    "\n",
    "where $K_2(y)$ is a 1-periodic function, $K_1(x)$ is smooth, $\\epsilon \\ll 1$."
   ]
  },
  {
   "cell_type": "markdown",
   "metadata": {
    "slideshow": {
     "slide_type": "slide"
    }
   },
   "source": [
    "## The scheme: \n",
    "\n",
    "The **ideal** tensor scheme:\n",
    "\n",
    "Introduce a very fine mesh with $n = 2^d$ points, use the simplest low-order **finite-element method**\n",
    "\n",
    "take a vector of value of "
   ]
  },
  {
   "cell_type": "markdown",
   "metadata": {},
   "source": [
    "## QTT: core idea and results"
   ]
  },
  {
   "cell_type": "markdown",
   "metadata": {
    "slideshow": {
     "slide_type": "slide"
    }
   },
   "source": [
    "## The theory \n",
    "\n",
    "The theory in our recent paper Kazeev, Schwab, Rakbuba, Oseledets shows that the solution can be approximated in with QTT-FEM format with **optimal complexity**.\n"
   ]
  },
  {
   "cell_type": "markdown",
   "metadata": {
    "slideshow": {
     "slide_type": "slide"
    }
   },
   "source": [
    "## The solver\n",
    "\n",
    "We put the matrix into the QTT-format, the right-hand side into the QTT-format, \n",
    "\n",
    "and have a linear system \n",
    "\n",
    "$$Ax = f$$ where we know that the solution can be well-approximated in the QTT-format.\n",
    "\n",
    "A **standard way** is to reformulate the problem as a minimization problem of the functional $F(x)$\n",
    "\n",
    "$$F(x) = <Ax, x> - 2<f, x>,$$\n",
    "\n",
    "and minimize over the set of all tensors with bounded ranks. There is a very nice black-box software for doing that (ALS, DMRG, AMEN method by Dolgov & Savostyanov)."
   ]
  },
  {
   "cell_type": "markdown",
   "metadata": {
    "slideshow": {
     "slide_type": "slide"
    }
   },
   "source": [
    "## Practice:\n",
    "\n",
    "Does not work even for $k = 1$!"
   ]
  },
  {
   "cell_type": "code",
   "execution_count": 25,
   "metadata": {
    "collapsed": false,
    "slideshow": {
     "slide_type": "slide"
    }
   },
   "outputs": [
    {
     "data": {
      "text/plain": [
       "<matplotlib.text.Text at 0x7fe865097450>"
      ]
     },
     "execution_count": 25,
     "metadata": {},
     "output_type": "execute_result"
    },
    {
     "data": {
      "image/png": "[encoded data removed]",
      "text/plain": [
       "<matplotlib.figure.Figure at 0x7fe865190450>"
      ]
     },
     "metadata": {},
     "output_type": "display_data"
    }
   ],
   "source": [
    "import numpy as np\n",
    "import tt\n",
    "from tt.amen import amen_solve\n",
    "import matplotlib.pyplot as plt\n",
    "%matplotlib inline\n",
    "\n",
    "\n",
    "d = 10\n",
    "n = 2 ** d b\n",
    "a = tt.qlaplace_dd([d]) * (n + 1) ** 2\n",
    "rhs = tt.ones(2, d)\n",
    "\n",
    "sol = amen_solve(a, rhs, rhs, 1e-6, verb=1)\n",
    "#print (tt.matvec(a, sol) - rhs).norm()/rhs.norm()\n",
    "t = np.linspace(0, 1, n+2)[1:-1]\n",
    "sol_analyt = 0.5 * t * (1 - t)\n",
    "#plt.plot(t, sol.full().flatten(\"F\"))\n",
    "plt.plot(t, sol_analyt - sol.full().flatten(\"F\"), 'r')\n",
    "plt.title('Solution for d={0: d}'.format(d))\n"
   ]
  },
  {
   "cell_type": "markdown",
   "metadata": {
    "slideshow": {
     "slide_type": "slide"
    }
   },
   "source": [
    "## What is the source of the problem:\n",
    "\n",
    "We have the **discretization error** and the **floating point** error:\n",
    "\n",
    "$$\\frac{C\\epsilon}{h^2} + h^2 $$\n",
    "\n",
    "and this is the minimum for\n",
    "\n",
    "$$h \\sim \\epsilon^{1/4} \\approx 10^{-4}$$\n",
    "\n",
    "for $\\epsilon = 10^{-16}$ (btw. this is why you never use single precision in FEM).\n",
    "\n",
    "Standard FEM can not allow to go beyond $h = 10^{-4}$, but we need in tensor methods to go to **astronomically large** sizes $n$."
   ]
  },
  {
   "cell_type": "markdown",
   "metadata": {
    "slideshow": {
     "slide_type": "slide"
    }
   },
   "source": [
    "## Discretization for astronomically large $n$.\n",
    "\n",
    "\n",
    "We have come up with a ``simple'' scheme that solves the problem.\n",
    "\n",
    "In 1D, we have new variable:\n",
    "\n",
    "$$\\frac{d}{dx} k \\frac{d}{dx} u = f, $$\n",
    "\n",
    "we introduce \n",
    "\n",
    "$$u_x = \\frac{du}{dx}, \\quad u = \\int^x_0 u_x(t) dt.$$ \n",
    "\n",
    "and replace this by  a discretization\n",
    "\n",
    "$$u = B u_x, $$\n",
    "\n",
    "where $B$ is a lower triangular Toeplitz matrix with all elements equal to $h$.\n",
    "\n",
    "$$k u_x = B f + \\alpha, \\quad e^{\\top} u_x = 0.$$\n",
    "\n"
   ]
  },
  {
   "cell_type": "markdown",
   "metadata": {
    "slideshow": {
     "slide_type": "slide"
    }
   },
   "source": [
    "## 2D: the idea\n",
    "\n",
    "In two dimensions, we introduce in a similar way unknowns $u_x$, $u_y$, \n",
    "\n",
    "which are connected:\n",
    "\n",
    "$$u = (B \\otimes I) u_x, \\quad u = (I \\otimes B) u_y, \\quad \\mbox{+ b.c.}.$$"
   ]
  },
  {
   "cell_type": "markdown",
   "metadata": {
    "slideshow": {
     "slide_type": "slide"
    }
   },
   "source": [
    "## Final equation \n",
    "\n",
    "The final equation for $\\nabla \\cdot k \\nabla$ has the form\n",
    "$$\n",
    "    \\begin{split}\n",
    "        &M_x D^{-1}_x M_x^{\\top} \\mu + M_y D^{-1}_y M_y^{\\top} \\mu -  M_x D^{-1}_x S^{\\top}_x Q^{-1}_x S_x D_x^{-1} M_x^{\\top} \\mu  \\\\ &- M_y D^{-1}_y S^{\\top}_y Q^{-1}_y S_y D^{-1}_y M_y^{\\top} \\mu = M_x D^{-1}_x M_x^{\\top} f\n",
    "        - M_x D^{-1}_x S^{\\top}_x Q^{-1}_x S_x D_x^{-  1} M_x^{\\top} f,\n",
    "\\end{split}\n",
    "$$\n",
    "where $D_x$, $D_y$, $Q_x$, $Q_y$ are auxiliary diagonal matrices, \n",
    "\n",
    "and that is the system solved by **AMEN method**."
   ]
  },
  {
   "cell_type": "markdown",
   "metadata": {
    "slideshow": {
     "slide_type": "slide"
    }
   },
   "source": [
    "## Typical convergence\n",
    "\n",
    "The QTT-ranks stay constant, solution time is of order of ten seconds ($d = 30$ total number of virtual unknowns $2^{60}$.)\n",
    "\n",
    "<img src='simple_ref.png' /img>"
   ]
  },
  {
   "cell_type": "markdown",
   "metadata": {
    "slideshow": {
     "slide_type": "slide"
    }
   },
   "source": [
    "## Summary \n",
    "\n",
    "Special discretization are needed for QTT-tools to be efficient in the PDE setting.\n",
    "\n",
    "Theory is available for 2D elliptic PDEs in polygonal domain (Kazeev & Schwab) and for 1D multiscale (O., Rakhuba, Kazeev, Schwab).\n",
    "\n",
    "Multiscale experiments also done in the paper by Khoromskij & Repin"
   ]
  },
  {
   "cell_type": "markdown",
   "metadata": {
    "slideshow": {
     "slide_type": "slide"
    }
   },
   "source": [
    "## High-dimensional eigenvalue problem\n",
    "\n",
    "In vibrational computations, it is needed to find the minimal eigenvalues of the molecular Schrodinger operator,\n",
    "\n",
    "$$H \\Psi_k = E_k \\Psi_k, \\quad H = \\frac{1}{2} \\Delta + V,$$\n",
    "\n",
    "where potential is already given in the sum-of-product form (typically, polynomial expansion).\n",
    "\n",
    "Discretization on a tensor-product grid yield an $N$-dimensional tensor, where $N$ is the number of molecular degrees of freedom."
   ]
  },
  {
   "cell_type": "markdown",
   "metadata": {
    "slideshow": {
     "slide_type": "slide"
    }
   },
   "source": [
    "## New approach\n",
    "\n",
    "Run Locally Optimal Block Conjugate Method (LOBPCG)  by Knyazev with iterates stored separatedly in the TT-format.\n",
    "\n",
    "Need: \n",
    "\n",
    "- Block Matvec: fast approximate available in the TT-Toolbox\n",
    "- Orthogonalization: done via Gram matrix, can be done **inexactly**.\n",
    "\n",
    "Key idea: \n",
    "\n",
    "**Fine-tune with inexact inverse iteration**\n",
    " \n"
   ]
  },
  {
   "cell_type": "markdown",
   "metadata": {
    "slideshow": {
     "slide_type": "slide"
    }
   },
   "source": [
    "## Fine-tuning with inexact inverse iteration\n",
    "\n",
    "Given a guess $\\lambda_i$ to the eigenvalue we solve\n",
    "\n",
    "$$(A - \\lambda_i I) x_i^{(k+1)} = x^{(k)}_i$$\n",
    "\n",
    "by running one sweep of ALS.\n",
    "\n",
    "It is very cheap, but it works extremely well."
   ]
  },
  {
   "cell_type": "markdown",
   "metadata": {
    "slideshow": {
     "slide_type": "slide"
    }
   },
   "source": [
    "## Key  idea explained again\n",
    "\n",
    "Typically, in the AMEN approach the gradient direction is used to enhance the optimization method;\n",
    "\n",
    "In the new approach, we use **ALS** to precondition the outer tensor-structured iteration."
   ]
  },
  {
   "cell_type": "markdown",
   "metadata": {
    "slideshow": {
     "slide_type": "slide"
    }
   },
   "source": [
    "## Results\n",
    "  <img src='comparison_smolyak.png' /img>"
   ]
  },
  {
   "cell_type": "markdown",
   "metadata": {
    "slideshow": {
     "slide_type": "slide"
    }
   },
   "source": [
    "## Results (2)\n",
    "\n",
    "<img src='lobpcg.png' /img>"
   ]
  },
  {
   "cell_type": "markdown",
   "metadata": {
    "slideshow": {
     "slide_type": "slide"
    }
   },
   "source": [
    "## Open problems\n",
    "\n",
    "One of the most interesting open problem is the convergence analysis of the optimization algorithm on the manifold of low-rank matrices and tensors.\n",
    "\n",
    "Even for matrices it is not yet understood, and requires experts from topology and differential geometry."
   ]
  },
  {
   "cell_type": "markdown",
   "metadata": {
    "slideshow": {
     "slide_type": "slide"
    }
   },
   "source": [
    "## Optimization problems examples\n",
    "\n",
    "- Linear systems: $F(X) = \\langle A(X), X \\rangle - 2 \\langle F, X\\rangle.$\n",
    "- Eigenvalue problems $F(X) = \\langle A(X), X \\rangle, \\mbox{s.t.} \\Vert X \\Vert = 1.$\n",
    "- Tensor completion: $F(X) = \\Vert W \\circ (A  - X)\\Vert.$\n",
    "\n",
    "My claim is that we need better understanding of how these methods converge!"
   ]
  },
  {
   "cell_type": "markdown",
   "metadata": {
    "slideshow": {
     "slide_type": "slide"
    }
   },
   "source": [
    "## General scheme\n",
    "The general scheme is that we have some (convergent method) in a full space:\n",
    "\n",
    "$$X_{k+1} = \\Phi(X_k),$$\n",
    "\n",
    "and we know that the solution $X_*$ is on the manifold $\\mathcal{M}$.\n",
    "\n",
    "Then we introduce a **Riemannian projected method**\n",
    "\n",
    "$$X_{k+1} = R(X_k + P_{\\mathcal{T}} \\Phi(X_k)),$$\n",
    "\n",
    "where $P_{\\mathcal{T}}$ is a projection on the **tangent space**, and $R$ is a **retraction**."
   ]
  },
  {
   "cell_type": "markdown",
   "metadata": {
    "slideshow": {
     "slide_type": "slide"
    }
   },
   "source": [
    "## Riemannian optimization is easy\n",
    "\n",
    "The projection onto the tangent space is trivial for low-rank (and is not difficult for TT)\n",
    "\n",
    "$$P_{T}(X) = X - (I - UU^{\\top}) X (I - VV^{\\top}).$$\n",
    "\n",
    "For the retraction, there **many choices** (see the review Absil, O., 2014)."
   ]
  },
  {
   "cell_type": "markdown",
   "metadata": {
    "slideshow": {
     "slide_type": "slide"
    }
   },
   "source": [
    "## Projector-splitting scheme \n",
    "One of the simplest **second-order retractions** is the projector-splitting (or KSL) scheme \n",
    "\n",
    "Initially proposed as a time integrator for the dynamical low-rank approximation (C. Lubich, I. Oseledets, **A projector-splitting...** 2014) for matrices and (C. Lubich, I. Oseledets, B. Vandreycken, \n",
    "**Time integration of tensor trains**, SINUM, 2015).\n",
    "\n",
    "Reformulated as a retraction in (Absil, Oseledets)\n",
    "\n",
    "Has a trivial form: a half-step (or full) step of the Alternating least squares (ALS)."
   ]
  },
  {
   "cell_type": "markdown",
   "metadata": {
    "slideshow": {
     "slide_type": "slide"
    }
   },
   "source": [
    "## The simplest retraction possible:\n",
    "The projector-splitting scheme can be implemented in a very simple \"half-ALS\" step.\n",
    "\n",
    "$$ U_1, S_1 = \\mathrm{QR}(A V_0),  \\quad V_1, S_2^{\\top} = \\mathrm{QR}(A^{\\top} U_1).$$"
   ]
  },
  {
   "cell_type": "markdown",
   "metadata": {
    "slideshow": {
     "slide_type": "slide"
    }
   },
   "source": [
    "## Projection onto the tangent space not needed!\n",
    "\n",
    "$$X_{k+1} = I(X_k, F), $$\n",
    "\n",
    "where $I$ the is the **projector-splitting** integrator, and $F$ is the step for the full method."
   ]
  },
  {
   "cell_type": "markdown",
   "metadata": {
    "slideshow": {
     "slide_type": "slide"
    }
   },
   "source": [
    "## What about the convergence?\n",
    "\n",
    "Now, instead of $$X_{k+1} = \\Phi(X_k), \\quad X_* = \\Phi(X_*),$$\n",
    "\n",
    "and $X_*$ is on the manifold, we have the **manifold-projected** process\n",
    "\n",
    "$$Y_{k+1} = I(Y_k, \\Phi(Y_k) - Y_k).$$"
   ]
  },
  {
   "cell_type": "markdown",
   "metadata": {
    "slideshow": {
     "slide_type": "slide"
    }
   },
   "source": [
    "## Linear manifold\n",
    "Suppose the linear case,\n",
    "$$\\Phi(X) = X + Q(X), \\quad \\Vert Q \\Vert < 1.$$\n",
    "\n",
    "and $M$ is a **linear subspace**. Then the projected method is always **not slower.**\n",
    "\n",
    "On a curved manifold, the **curvature** of the manifold plays crucial role in the convergence estimates."
   ]
  },
  {
   "cell_type": "markdown",
   "metadata": {
    "slideshow": {
     "slide_type": "slide"
    }
   },
   "source": [
    "## Curvature of fixed-rank manifold\n",
    "\n",
    "The curvature of the manifold of matrices with rank $r$ at point $X$ is equal to the $$\\Vert X^{-1} \\Vert_2,$$\n",
    "\n",
    "i.e. the inverse of the minimal singular value.\n",
    "\n",
    "\n",
    "**In practice we know,** that zero singular values for the **best rank-r** approximation **do not harm:**\n",
    "\n",
    "\n",
    "Approximation of a rank-$1$ matrix with a rank-$2$ matrix is ok (block power method.)\n"
   ]
  },
  {
   "cell_type": "markdown",
   "metadata": {
    "slideshow": {
     "slide_type": "slide"
    }
   },
   "source": [
    "## Experimental convergence study\n",
    "\n",
    "Our numerical experiments confirm that the low-rank matrix manifold behaves typically like a **linear manifold**, i. e. \n",
    "\n",
    "**projected gradient** is almost always faster, independent of the curvature."
   ]
  },
  {
   "cell_type": "code",
   "execution_count": 26,
   "metadata": {
    "code_folding": [
     0
    ],
    "collapsed": true,
    "slideshow": {
     "slide_type": "slide"
    }
   },
   "outputs": [],
   "source": [
    "#2d case functions\n",
    "def grad(A, x, x0):\n",
    "    #u, s, v = x\n",
    "    #u0, s0, v0 = x0\n",
    "    #u_new = np.linalg.qr(np.hstack((u, u0)))[0]\n",
    "    #v_new = np.linalg.qr(np.hstack((v, v0)))[0]\n",
    "    #s_new = u_new.T.dot(u).dot(s).dot(v.T.dot(v_new)) - u_new.T.dot(u0).dot(s0).dot(v0.T.dot(v_new))\n",
    "    return x0 - A.dot(full(x).flatten()).reshape(x0.shape)\n",
    "    #return (u_new, s_new, v_new)\n",
    "\n",
    "\n",
    "#it is Frobenius norm\n",
    "def get_norm(x):\n",
    "    u, s, v = x\n",
    "    return la.norm(s)\n",
    "    #return math.sqrt(np.trace((u.T.dot(u)).T.dot(v.T.dot(v))))\n",
    "    \n",
    "    \n",
    "def check_orthogonality(u): \n",
    "    if la.norm(u.T.dot(u) - np.eye(u.shape[1])) / math.sqrt(u.shape[1]) < 1e-12:\n",
    "        return True\n",
    "    else:\n",
    "        return False\n",
    "    \n",
    "    \n",
    "def orthogonalize(x):\n",
    "    u, s, v = x\n",
    "    u_new, ru = np.linalg.qr(u)\n",
    "    v_new, lv = np.linalg.qr(u)\n",
    "    s_new = ru.dot(s.dot(lv))\n",
    "    return (u_new, s_new, v_new)\n",
    "\n",
    "\n",
    "def diagonalize_core(x):\n",
    "    u, s, v = x\n",
    "    ls, s_diag, rs = la.svd(s)\n",
    "    return (u.dot(ls), np.diag(s_diag), v.dot(rs))\n",
    "    \n",
    "\n",
    "def func(x, x0):\n",
    "    return get_norm(grad(x, x0))\n",
    "\n",
    "    \n",
    "def full(dx):\n",
    "    return dx[0].dot(dx[1].dot(dx[2].T))\n",
    "\n",
    "\n",
    "def projector_splitting_2d(x, dx, flag_dual=False):\n",
    "    n, r = x[0].shape\n",
    "    u, s, v = x[0].copy(), x[1].copy(), x[2].copy()\n",
    "    if not flag_dual:\n",
    "        u, s = np.linalg.qr(u.dot(s) + dx.dot(v))\n",
    "        s = s - u.T.dot(dx).dot(v)\n",
    "        v, s = np.linalg.qr(v.dot(s.T) + dx.T.dot(u))\n",
    "        s = s.T\n",
    "    else:\n",
    "        v, s = np.linalg.qr(v.dot(s.T) + dx.T.dot(u))\n",
    "        s = s.T\n",
    "        s = s - u.T.dot(dx).dot(v)\n",
    "        u, s = np.linalg.qr(u.dot(s) + dx.dot(v))\n",
    "        \n",
    "    return u, s, v\n",
    "\n",
    "\n",
    "def inter_point(x, dx):\n",
    "    u, s, v = x\n",
    "    u, s = np.linalg.qr(u.dot(s) + dx.dot(v))\n",
    "    #dx - (I - uu') dx (I - vv') = uu' dx + dx * vv' - uu' dx vv'\n",
    "    dx_tangent = u.dot(u.T.dot(dx)) + (dx.dot(v)).dot(v.T) - u.dot(u.T.dot(dx).dot(v)).dot(v.T)\n",
    "    \n",
    "    return u.copy(), v.copy(), dx_tangent\n",
    "\n",
    "\n",
    "def minus(x1, x2):\n",
    "    u1, s1, v1 = x1\n",
    "    u2, s2, v2 = x2\n",
    "    u_new = np.linalg.qr(np.hstack((u1, u2)))[0]\n",
    "    v_new = np.linalg.qr(np.hstack((v1, v2)))[0]\n",
    "    s_new = u_new.T.dot(u1).dot(s1).dot(v1.T.dot(v_new)) - u_new.T.dot(u2).dot(s2).dot(v2.T.dot(v_new))\n",
    "    return u_new, s_new, v_new\n",
    "\n",
    "\n",
    "def ps_proj(x, dx):\n",
    "    return full(projector_splitting_2d(x, dx)) - full(x)\n",
    "\n",
    "def rotation(u):\n",
    "    return la.qr(u)[0]"
   ]
  },
  {
   "cell_type": "markdown",
   "metadata": {
    "slideshow": {
     "slide_type": "slide"
    }
   },
   "source": [
    "## Linear test case\n",
    "\n",
    "$$\\Phi (X) = X + A(X) - f,$$\n",
    "\n",
    "where $A$ is a linear operator on matrix space, $\\Vert A - I\\Vert = \\delta$, \n",
    "\n",
    "$f$ is known right-hand side and $X_*$ is the solution of linear equation $A(X_*) = f$.\n",
    "\n",
    "This problem is equivalent to the minimization problem of the quadratic functional $F(X) = \\langle A(X) - f, X \\rangle.$\n"
   ]
  },
  {
   "cell_type": "markdown",
   "metadata": {
    "slideshow": {
     "slide_type": "slide"
    }
   },
   "source": [
    "## Setting up the experiment\n",
    "\n",
    "Generate some random matrices..."
   ]
  },
  {
   "cell_type": "code",
   "execution_count": 27,
   "metadata": {
    "code_folding": [
     0
    ],
    "collapsed": false,
    "slideshow": {
     "slide_type": "fragment"
    }
   },
   "outputs": [],
   "source": [
    "#Init sizes\n",
    "n, r, r0 = 40, 7, 7\n",
    "\n",
    "M = n * n \n",
    "Q = np.random.randn(M, M)\n",
    "Q = Q + Q.T\n",
    "Q = (Q/np.linalg.norm(Q, 2)) * 0.8 # contraction coefficient\n",
    "A = np.eye(M) + Q"
   ]
  },
  {
   "cell_type": "markdown",
   "metadata": {
    "code_folding": [],
    "slideshow": {
     "slide_type": "slide"
    }
   },
   "source": [
    "## Generic case\n",
    "In the generic case, the convergence is as follows."
   ]
  },
  {
   "cell_type": "code",
   "execution_count": 29,
   "metadata": {
    "collapsed": false,
    "slideshow": {
     "slide_type": "fragment"
    }
   },
   "outputs": [
    {
     "name": "stdout",
     "output_type": "stream",
     "text": [
      "The singular values of fixed point matrix are \n",
      "[ 147.80354057  140.06760243  111.44163613   87.57279904   63.16382999\n",
      "   29.52707096    1.3109238 ]\n"
     ]
    },
    {
     "data": {
      "text/plain": [
       "<matplotlib.text.Text at 0x7fe864fc2ed0>"
      ]
     },
     "execution_count": 29,
     "metadata": {},
     "output_type": "execute_result"
    },
    {
     "data": {
      "image/png": "[encoded data removed]",
      "text/plain": [
       "<matplotlib.figure.Figure at 0x7fe86506f710>"
      ]
     },
     "metadata": {},
     "output_type": "display_data"
    }
   ],
   "source": [
    "# Case 1: Projector-Splitting versus Gradient descent\n",
    "#Random initialization\n",
    "x_orig = np.random.randn(n, r0), np.random.randn(r0, r0), np.random.randn(n, r0)\n",
    "x_start = np.random.randn(n, r0), np.random.randn(r0, r0), np.random.randn(n, r0)\n",
    "x_start, x_orig = orthogonalize(x_start), orthogonalize(x_orig)\n",
    "x_orig = diagonalize_core(x_orig)\n",
    "print 'The singular values of fixed point matrix are \\n', np.diag(x_orig[1])\n",
    "f = full(x_orig)\n",
    "f = A.dot(f.flatten()).reshape(f.shape)\n",
    "grad_dist, orth_proj_norm, tangent_proj_norm = [], [], []\n",
    "k = 50\n",
    "# Gradient Descent Convergence\n",
    "x = full(x_start)\n",
    "for i in xrange(k):\n",
    "    grad_dist.append(la.norm(x - full(x_orig)))\n",
    "    dx = f - (A.dot(x.flatten())).reshape(x.shape)\n",
    "    x = x + dx\n",
    "# Projector Splitting Convergence\n",
    "x = x_start\n",
    "dx_orig = full(x)-full(x_orig)\n",
    "for i in xrange(k):\n",
    "    dx = grad(A, x, f)\n",
    "    u1, v, dx_tangent = inter_point(x, dx_orig)\n",
    "    dx_orig = full(x)-full(x_orig)\n",
    "    dx_orig_tangent = u1.dot(u1.T.dot(dx_orig)) + (dx_orig.dot(v)).dot(v.T) - u1.dot(u1.T.dot(dx_orig).dot(v)).dot(v.T)\n",
    "    orth_proj_norm.append(la.norm(dx_orig - dx_orig_tangent))\n",
    "    tangent_proj_norm.append(la.norm(dx_orig_tangent))\n",
    "    x = projector_splitting_2d(x, dx)\n",
    "# Plotting\n",
    "plt.semilogy(grad_dist, marker='x', label=\"GD\")\n",
    "plt.semilogy(orth_proj_norm, marker='o', label=\"Orthogonal projection\")\n",
    "plt.semilogy(tangent_proj_norm, marker='o', label=\"Tangent projection\")\n",
    "plt.legend(bbox_to_anchor=(0.40, 1), loc=2)#(1.05, 1), loc=2\n",
    "plt.xlabel('Iteration')\n",
    "plt.ylabel('Error')"
   ]
  },
  {
   "cell_type": "markdown",
   "metadata": {
    "slideshow": {
     "slide_type": "slide"
    }
   },
   "source": [
    "## Bad curvature \n",
    "\n",
    "Now let us design bad singular values for the solution,\n",
    "\n",
    "$$\\sigma_k = 10^{2-2k}.$$"
   ]
  },
  {
   "cell_type": "code",
   "execution_count": 30,
   "metadata": {
    "code_folding": [],
    "collapsed": false,
    "slideshow": {
     "slide_type": "fragment"
    }
   },
   "outputs": [
    {
     "name": "stdout",
     "output_type": "stream",
     "text": [
      "The singular values of fixed point matrix are \n",
      "[100, 1, 0.01, 0.0001, 1e-06, 1e-08, 1e-10]\n"
     ]
    },
    {
     "data": {
      "text/plain": [
       "<matplotlib.text.Text at 0x7fe864d55ed0>"
      ]
     },
     "execution_count": 30,
     "metadata": {},
     "output_type": "execute_result"
    },
    {
     "data": {
      "image/png": "[encoded data removed]",
      "text/plain": [
       "<matplotlib.figure.Figure at 0x7fe865116f90>"
      ]
     },
     "metadata": {},
     "output_type": "display_data"
    }
   ],
   "source": [
    "# Case 2: Stair convergence\n",
    "x_orig = np.random.randn(n, r0), np.random.randn(r0, r0), np.random.randn(n, r0)\n",
    "x_start = np.random.randn(n, r0), np.random.randn(r0, r0), np.random.randn(n, r0)\n",
    "x_start, x_orig = orthogonalize(x_start), orthogonalize(x_orig)\n",
    "x_orig = diagonalize_core(x_orig)\n",
    "u, s, v = x_orig\n",
    "s_diag = [10**(2-2*i) for i in xrange(r)]\n",
    "x_orig = (u, np.diag(s_diag), v)\n",
    "print 'The singular values of fixed point matrix are \\n', s_diag\n",
    "f = full(x_orig)\n",
    "f = A.dot(f.flatten()).reshape(f.shape)\n",
    "grad_dist, orth_proj_norm, tangent_proj_norm = [], [], []\n",
    "k = 50\n",
    "# Gradient Descent Convergence\n",
    "x = full(x_start)\n",
    "for i in xrange(k):\n",
    "    grad_dist.append(la.norm(x - full(x_orig)))\n",
    "    dx = f - (A.dot(x.flatten())).reshape(x.shape)\n",
    "    x = x + dx\n",
    "# Projector Splitting Convergence\n",
    "x = x_start\n",
    "for i in xrange(k):\n",
    "    dx = grad(A, x, f)\n",
    "    u1, v, dx_tangent = inter_point(x, dx_orig)\n",
    "    dx_orig = full(x)-full(x_orig)\n",
    "    dx_orig_tangent = u1.dot(u1.T.dot(dx_orig)) + (dx_orig.dot(v)).dot(v.T) - u1.dot(u1.T.dot(dx_orig).dot(v)).dot(v.T)\n",
    "    orth_proj_norm.append(la.norm(dx_orig - dx_orig_tangent))\n",
    "    tangent_proj_norm.append(la.norm(dx_orig_tangent))\n",
    "    x = projector_splitting_2d(x, dx)\n",
    "# Plotting\n",
    "plt.semilogy(grad_dist, marker='x', label=\"GD\")\n",
    "plt.semilogy(orth_proj_norm, marker='o', label=\"Orthogonal projection\")\n",
    "plt.semilogy(tangent_proj_norm, marker='o', label=\"Tangent projection\")\n",
    "plt.legend(bbox_to_anchor=(0.40, 1), loc=2)#(1.05, 1), loc=2\n",
    "plt.xlabel('Iteration')\n",
    "plt.ylabel('Error')"
   ]
  },
  {
   "cell_type": "markdown",
   "metadata": {
    "slideshow": {
     "slide_type": "slide"
    }
   },
   "source": [
    "## Consequences\n",
    "\n",
    "The typical convergence: \n",
    "\n",
    "- Tangent component convergence linearly.\n",
    "- Normal components decays quadratically until it hits **the next singular values**, and then waits for the tangent component to catch. \n",
    "- The convergence is **monotone:** First the first singular vector converge, then the second and so on.\n",
    "\n",
    "Adversal examples are still possible (similar to the convergence of the power method).\n"
   ]
  },
  {
   "cell_type": "markdown",
   "metadata": {
    "slideshow": {
     "slide_type": "slide"
    }
   },
   "source": [
    "## Case when Riemannian is worse\n",
    "You can make up an example, when on the first iteration it is worse: it is basically the **angle** between $V_*$ and $V_0$."
   ]
  },
  {
   "cell_type": "code",
   "execution_count": 11,
   "metadata": {
    "code_folding": [
     0
    ],
    "collapsed": false,
    "slideshow": {
     "slide_type": "slide"
    }
   },
   "outputs": [
    {
     "name": "stdout",
     "output_type": "stream",
     "text": [
      "The singular values of fixed point matrix are \n",
      "[100, 1, 0.01, 0.0001, 1e-06, 1e-08, 1e-10]\n"
     ]
    },
    {
     "data": {
      "text/plain": [
       "<matplotlib.text.Text at 0x111e52250>"
      ]
     },
     "execution_count": 11,
     "metadata": {},
     "output_type": "execute_result"
    },
    {
     "data": {
      "image/png": "[encoded data removed]",
      "text/plain": [
       "<matplotlib.figure.Figure at 0x111d81c10>"
      ]
     },
     "metadata": {},
     "output_type": "display_data"
    }
   ],
   "source": [
    "# Case 3: Stair convergence\n",
    "x_orig = np.random.randn(n, r0), np.random.randn(r0, r0), np.random.randn(n, r0)\n",
    "x_start = np.random.randn(n, r0), np.random.randn(r0, r0), np.random.randn(n, r0)\n",
    "x_start, x_orig = orthogonalize(x_start), orthogonalize(x_orig)\n",
    "eps = 1e-12\n",
    "u, s, v = x_orig\n",
    "u1, s1, v1 = x_start\n",
    "u1 = u1 - u.dot(u.T.dot(u1)) \n",
    "v1 = v1 - v.dot(v.T.dot(v1))\n",
    "x_start = u1, s1, v1\n",
    "x_orig = diagonalize_core(x_orig)\n",
    "print 'The singular values of fixed point matrix are \\n', s_diag\n",
    "f = full(x_orig)\n",
    "f = A.dot(f.flatten()).reshape(f.shape)\n",
    "grad_dist, proj_dist = [], []\n",
    "k = 10\n",
    "# Gradient Descent Convergence\n",
    "x = full(x_start)\n",
    "for i in xrange(k):\n",
    "    grad_dist.append(la.norm(x - full(x_orig)))\n",
    "    dx = f - (A.dot(x.flatten())).reshape(x.shape)\n",
    "    x = x + dx\n",
    "# Projector Splitting Convergence\n",
    "x = x_start\n",
    "for i in xrange(k):\n",
    "    dx = grad(A, x, f)\n",
    "    u1, v, dx_tangent = inter_point(x, dx_orig)\n",
    "    dx_orig = full(x)-full(x_orig)    \n",
    "    proj_dist.append(la.norm(dx_orig))\n",
    "    x = projector_splitting_2d(x, dx)\n",
    "# Plotting\n",
    "plt.semilogy(grad_dist, marker='x', label=\"GD\")\n",
    "plt.semilogy(proj_dist, marker='o', label=\"Projector Splitting\")\n",
    "plt.legend(bbox_to_anchor=(0.40, 1), loc=2)#(1.05, 1), loc=2\n",
    "plt.xlabel('Iteration')\n",
    "plt.ylabel('Error')"
   ]
  },
  {
   "cell_type": "markdown",
   "metadata": {
    "collapsed": true,
    "slideshow": {
     "slide_type": "slide"
    }
   },
   "source": [
    "## Convergence proof\n",
    "\n",
    "In a recent paper with Denis Kolesnikov we managed to prove the estimates on the convergence.\n",
    "\n",
    "\n",
    "http://arxiv.org/abs/1604.02111"
   ]
  },
  {
   "cell_type": "markdown",
   "metadata": {
    "slideshow": {
     "slide_type": "slide"
    }
   },
   "source": [
    "## Summary \n",
    "\n",
    "We do not understand the topology of the manifold (i.e. it behaves almost always like a manifold without singular points!)"
   ]
  },
  {
   "cell_type": "markdown",
   "metadata": {
    "slideshow": {
     "slide_type": "slide"
    }
   },
   "source": [
    "## Other open problems\n",
    "\n",
    "Important problems include solving **non-symmetric systems**, when minimization with residual squares the condition number.\n",
    "\n",
    "Many applications (include machine learning, recommender systems, ..) are in progress."
   ]
  },
  {
   "cell_type": "markdown",
   "metadata": {
    "slideshow": {
     "slide_type": "slide"
    }
   },
   "source": [
    "## Papers and software\n",
    "**Software**\n",
    "- TT-Toolbox: https://github.com/oseledets/ttpy (Python)\n",
    "- https://github.com/oseledets/TT-Toolbox (MATLAB)\n",
    "\n",
    "**oseledets.github.io**"
   ]
  },
  {
   "cell_type": "code",
   "execution_count": 31,
   "metadata": {
    "collapsed": false,
    "slideshow": {
     "slide_type": "skip"
    }
   },
   "outputs": [
    {
     "data": {
      "text/html": [
       "<link href='http://fonts.googleapis.com/css?family=Fenix' rel='stylesheet' type='text/css'>\n",
       "<link href='http://fonts.googleapis.com/css?family=Alegreya+Sans:100,300,400,500,700,800,900,100italic,300italic,400italic,500italic,700italic,800italic,900italic' rel='stylesheet' type='text/css'>\n",
       "<link href='http://fonts.googleapis.com/css?family=Source+Code+Pro:300,400' rel='stylesheet' type='text/css'>\n",
       "<style>\n",
       "    @font-face {\n",
       "        font-family: \"Computer Modern\";\n",
       "        src: url('http://mirrors.ctan.org/fonts/cm-unicode/fonts/otf/cmunss.otf');\n",
       "    }\n",
       "    div.cell{\n",
       "        /*width:80%;*/\n",
       "        /*margin-left:auto !important;\n",
       "        margin-right:auto;*/\n",
       "    }\n",
       "    h1 {\n",
       "        font-family: 'Alegreya Sans', sans-serif;\n",
       "    }\n",
       "    h2 {\n",
       "        font-family: 'Fenix', serif;\n",
       "    }\n",
       "    h3{\n",
       "\t\tfont-family: 'Fenix', serif;\n",
       "        margin-top:12px;\n",
       "        margin-bottom: 3px;\n",
       "       }\n",
       "\th4{\n",
       "\t\tfont-family: 'Fenix', serif;\n",
       "       }\n",
       "    h5 {\n",
       "        font-family: 'Alegreya Sans', sans-serif;\n",
       "    }\t   \n",
       "    div.text_cell_render{\n",
       "        font-family: 'Alegreya Sans',Computer Modern, \"Helvetica Neue\", Arial, Helvetica, Geneva, sans-serif;\n",
       "        line-height: 1.2;\n",
       "        font-size: 120%;\n",
       "        /*width:70%;*/\n",
       "        /*margin-left:auto;*/\n",
       "        margin-right:auto;\n",
       "    }\n",
       "    .CodeMirror{\n",
       "            font-family: \"Source Code Pro\";\n",
       "\t\t\tfont-size: 90%;\n",
       "    }\n",
       "/*    .prompt{\n",
       "        display: None;\n",
       "    }*/\n",
       "    .text_cell_render h1 {\n",
       "        font-weight: 200;\n",
       "        font-size: 50pt;\n",
       "\t\tline-height: 110%;\n",
       "        color:#CD2305;\n",
       "        margin-bottom: 0.5em;\n",
       "        margin-top: 0.5em;\n",
       "        display: block;\n",
       "    }\t\n",
       "    .text_cell_render h5 {\n",
       "        font-weight: 300;\n",
       "        font-size: 16pt;\n",
       "        color: #CD2305;\n",
       "        font-style: italic;\n",
       "        margin-bottom: .5em;\n",
       "        margin-top: 0.5em;\n",
       "        display: block;\n",
       "    }\n",
       "    \n",
       "    li {\n",
       "        line-height: 110%;\n",
       "    }\n",
       "    .warning{\n",
       "        color: rgb( 240, 20, 20 )\n",
       "        }  \n",
       "</style>\n",
       "<script>\n",
       "    MathJax.Hub.Config({\n",
       "                        TeX: {\n",
       "                           extensions: [\"AMSmath.js\"]\n",
       "                           },\n",
       "                tex2jax: {\n",
       "                    inlineMath: [ ['$','$'], [\"\\\\(\",\"\\\\)\"] ],\n",
       "                    displayMath: [ ['$$','$$'], [\"\\\\[\",\"\\\\]\"] ]\n",
       "                },\n",
       "                displayAlign: 'center', // Change this to 'center' to center equations.\n",
       "                \"HTML-CSS\": {\n",
       "                    styles: {'.MathJax_Display': {\"margin\": 4}}\n",
       "                }\n",
       "        });\n",
       "</script>\n"
      ],
      "text/plain": [
       "<IPython.core.display.HTML object>"
      ]
     },
     "execution_count": 31,
     "metadata": {},
     "output_type": "execute_result"
    }
   ],
   "source": [
    "from IPython.core.display import HTML\n",
    "def css_styling():\n",
    "    styles = open(\"custom.css\", \"r\").read()\n",
    "    return HTML(styles)\n",
    "css_styling()"
   ]
  }
 ],
 "metadata": {
  "celltoolbar": "Slideshow",
  "kernelspec": {
   "display_name": "Python 2",
   "language": "python",
   "name": "python2"
  },
  "language_info": {
   "codemirror_mode": {
    "name": "ipython",
    "version": 2
   },
   "file_extension": ".py",
   "mimetype": "text/x-python",
   "name": "python",
   "nbconvert_exporter": "python",
   "pygments_lexer": "ipython2",
   "version": "2.7.11"
  }
 },
 "nbformat": 4,
 "nbformat_minor": 0
}
