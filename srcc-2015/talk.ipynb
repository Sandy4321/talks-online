{
 "cells": [
  {
   "cell_type": "markdown",
   "metadata": {
    "slideshow": {
     "slide_type": "slide"
    }
   },
   "source": [
    "# Тензоры: логарифмическая сложность\n",
    "\n",
    "##### Иван Оселедец, Сколковский институт науки и технологий\n",
    "##### oseledets.github.io, i.oseledets@skoltech.ru"
   ]
  },
  {
   "cell_type": "markdown",
   "metadata": {
    "slideshow": {
     "slide_type": "slide"
    }
   },
   "source": [
    "##  О чем эта лекция\n",
    "- Краткое введение в тензорные разложения\n",
    "- Tensor-train разложение и его свойства \n",
    "- Quantized-tensor-train (QTT)-разложение"
   ]
  },
  {
   "cell_type": "markdown",
   "metadata": {
    "slideshow": {
     "slide_type": "slide"
    }
   },
   "source": [
    "## Что мы хотим\n",
    "\n",
    "Мы хотим эффективно решать многомерные дифференциальные уравнения с сильноменяющимися коэффициентов в областях сложной формы, \n",
    "например:\n",
    "\n",
    "$$\\mathrm{div}~k~\\mathrm{grad}~u = f, \\quad u_{\\partial \\Omega} = 0,$$\n",
    "\n",
    "где $\\Omega$ - некоторая область в 2D/3D.\n",
    "\n",
    "Коэффициенты могут:\n",
    "- Иметь высокий контраст $\\frac{k_{\\max}}{k_{\\min}}$\n",
    "- Сильно осциллировать (многомасштабные задачи)\n",
    "\n"
   ]
  },
  {
   "cell_type": "markdown",
   "metadata": {
    "slideshow": {
     "slide_type": "slide"
    }
   },
   "source": [
    "## Многомасштабные дифференциальные уравнения\n",
    "\n",
    "Рассмотрим простейшее одномерное дифференциальное уравнение вида:\n",
    "\n",
    "$$\\mathrm{div}~k(x, x/\\epsilon)~\\mathrm{grad}~u = f, \\quad u_{\\partial \\Omega} = 0,$$\n",
    "\n",
    "Пример:\n",
    "\n",
    "<img width=80% src='multiscale-sol.png' /img>\n",
    "\n"
   ]
  },
  {
   "cell_type": "markdown",
   "metadata": {
    "slideshow": {
     "slide_type": "slide"
    }
   },
   "source": [
    "## Уравнения с сильноменяющимися коэффициентами/полигональные области\n",
    "\n",
    "Решение имеет особенность в углах, \n",
    "\n",
    "поэтому использование конечных элементов низкого порядка \n",
    "\n",
    "на регулярных сетках может иметь \n",
    "\n",
    "невысокий порядок сходимости, например, $O(h^{1/4})$."
   ]
  },
  {
   "cell_type": "markdown",
   "metadata": {
    "slideshow": {
     "slide_type": "slide"
    }
   },
   "source": [
    "## Известные подходы\n",
    "\n",
    "Конечно, существует большое количество подходов для решения подобных задач:\n",
    "\n",
    "1. **Резко меняющиеся коэффициенты:** адаптивные сетки, hp-методы\n",
    "2. **Многомасштабные задачи:** осреднение (Бахвалов, Панасенко), многомасштабные методы конечных элементов\n",
    "\n",
    "\n",
    "**hp-методы** (адаптивный выбор как шага сетки, так и порядка элементов) имеют **оптимальную сложность**; \n",
    "\n",
    "Проблема состоит в том, что их реализация очень сложная, и для каждой конкретной задачи необходимо заново проводить аналитическую работу. "
   ]
  },
  {
   "cell_type": "markdown",
   "metadata": {
    "slideshow": {
     "slide_type": "slide"
    }
   },
   "source": [
    "## Наш подход\n",
    "\n",
    "Наш подход основан на принципиально новой идее. \n",
    "\n",
    "1. На заданной области вводим **логически прямоугольную** сетку с $2^d \\times K$ узлами, которая позволяет разрешить нужный масштаб задачи\n",
    "\n",
    "2. Вектор решения представляем в виде многомерного массива (тензора) $2 \\times 2 \\times \\ldots \\times 2 \\times K$\n",
    "  и приближаем в виде \"тензорного поезда\" (tensor train, TT-format)\n",
    "  \n",
    "   $A(i_1, \\ldots, i_d) \\approx G_1(i_1) G_2(i_2) \\ldots G_d(i_d), $\n",
    "   \n",
    "   где $G_k(i_k)$ имеет размер $r_{k-1} \\times r_k$ при фиксированном $i_k$."
   ]
  },
  {
   "cell_type": "markdown",
   "metadata": {
    "slideshow": {
     "slide_type": "slide"
    }
   },
   "source": [
    "## Теория Казеева-Шваба\n",
    "\n",
    "В 2015 году В. Казеев и К. Шваб в работе [Quantized tensor-structured finite elements\n",
    "for second-order elliptic PDEs in two\n",
    "dimensions](http://www.sam.math.ethz.ch/sam_reports/reports_final/reports2015/2015-24.pdf) получили фундаментальный результат:\n",
    "\n",
    "Для широкого класса двумерных эллиптических уравнений в полигональных областях  можно построить логически-прямоугольную сетку, на которой решение дискретной задачи будет иметь гарантированно небольшой QTT-ранг. \n",
    "\n",
    "**Впервые** указан функциональный класс для таких решений"
   ]
  },
  {
   "cell_type": "markdown",
   "metadata": {
    "slideshow": {
     "slide_type": "slide"
    }
   },
   "source": [
    "## Оценка\n",
    "\n",
    "\n",
    "Сходимость по числу степенй свободы в QTT-представлении имеет экспоненциальный вид:\n",
    "\n",
    "$$\\Vert u - u^{QTT}_h \\Vert_{\\mathbf{H}_1} \\leq e^{-N^{1/k}}$$"
   ]
  },
  {
   "cell_type": "markdown",
   "metadata": {
    "slideshow": {
     "slide_type": "slide"
    }
   },
   "source": [
    "## Логически прямоугольная сетка\n",
    "\n",
    "Построение логически прямоугольных сеток - классическая задача **вычислительной геометрии** и может быть решена стандартными средства на сложных поверхностях и чуть менее стандартными - в трехмерном случае. \n",
    "\n",
    "<p>\n",
    "</p>\n",
    "<div style=\"float: left; width: 45%; margin-right: 5%; margin-bottom: 0.5em\">\n",
    "Логически прямоугольная сетка на треугольники\n",
    "<img width=100% src='triangle.jpg' >\n",
    "</div>\n",
    "<div style=\"float: left; width: 45%; margin-right: 5%; margin-bottom: 0.5em\">\n",
    "Логически прямоугольная сетка на сложной поверхности\n",
    "<img width=100% src='bommes2013qmg.jpg'>\n",
    "</div>"
   ]
  },
  {
   "cell_type": "markdown",
   "metadata": {
    "slideshow": {
     "slide_type": "slide"
    }
   },
   "source": [
    "## Многомасштабные задачи\n",
    "\n",
    "В работе Kazeev, Oseledets, Rakhuba, Schwab QTT-FE Approximation For Multiscale Problems мы получили аналогичный результат об экспоненциальной сходимости для многомасштабных задач с квазипериодическим коэффициентом, основывая на теории осреднения:\n",
    "\n"
   ]
  },
  {
   "cell_type": "markdown",
   "metadata": {
    "slideshow": {
     "slide_type": "slide"
    }
   },
   "source": [
    "## Численный пример для многомасштабной задачи\n",
    "\n",
    "$$ \n",
    "(a u')' = 1, \\quad u(1) = u(0) = 0,\n",
    "$$\n",
    "\n",
    "где\n",
    "$$a(x) = a_0(x) a_1\\left(x/\\delta)\\right),$$\n",
    "\n",
    "where $a_0 = 1 + x$, $a_1 = 2/3 (1 + \\cos^2(2 \\pi \\frac{x}{\\delta})).$\n"
   ]
  },
  {
   "cell_type": "markdown",
   "metadata": {
    "slideshow": {
     "slide_type": "fragment"
    }
   },
   "source": [
    "<img  width=80% src='mult-conv.png'>"
   ]
  },
  {
   "cell_type": "markdown",
   "metadata": {
    "slideshow": {
     "slide_type": "slide"
    }
   },
   "source": [
    "## Как это работает\n",
    "\n",
    "Выше мы описали **теорему существования:**.\n",
    "\n",
    "Однако, нам надо решить линейную систему\n",
    "\n",
    "$$Ax  = f,$$\n",
    "\n",
    "где $x$ на самом деле тензор $X$, представленный в TT-формате:\n",
    "\n",
    "$$X(i_1, \\ldots, i_d) = G_1(i_1) \\ldots G_d(i_d).$$\n",
    "\n",
    " Как мы можем это сделать?\n",
    " \n",
    " Напомним сначала базовые свойства TT-формата."
   ]
  },
  {
   "cell_type": "markdown",
   "metadata": {
    "slideshow": {
     "slide_type": "slide"
    }
   },
   "source": [
    "## ТТ-ранги - ранги матриц\n",
    " Определим  развертки: \n",
    " \n",
    " $A_k = A(i_1 \\ldots i_k; i_{k+1} \\ldots i_d)$, $n^k \\times n^{d-k}$\n",
    " \n",
    " матрица\n"
   ]
  },
  {
   "cell_type": "markdown",
   "metadata": {
    "slideshow": {
     "slide_type": "fragment"
    }
   },
   "source": [
    "   Теорема: существует TT-разложение с TT-рангами\n",
    "   \n",
    "   $$r_k = \\mathrm{rank} A_k$$\n"
   ]
  },
  {
   "cell_type": "markdown",
   "metadata": {
    "slideshow": {
     "slide_type": "slide"
    }
   },
   "source": [
    "## Доказательство\n",
    "Доказательство очень простое и дает  TT-SVD алгоритм"
   ]
  },
  {
   "cell_type": "markdown",
   "metadata": {
    "slideshow": {
     "slide_type": "slide"
    }
   },
   "source": [
    "## Устойчивость\n",
    "На практике, точных малых рангов не бывает, поэтому есть оценка устойчивости:\n",
    "\n",
    "If $A_k = R_k + E_k$, $||E_k|| = \\varepsilon_k$\n",
    "  $$||\\mathbf{A}-\\mathbf{TT}||_F \\leq \\sqrt{\\sum_{k=1}^{d-1} \\varepsilon^2_k}.$$\n"
   ]
  },
  {
   "cell_type": "markdown",
   "metadata": {
    "slideshow": {
     "slide_type": "slide"
    }
   },
   "source": [
    "## Вычисления в TT-формате\n",
    "Базовые операции выполняются за O(N).\n",
    "\n",
    "Например, поэлементное умножение:\n",
    " $$C(i_1,\\ldots,i_d) = A(i_1,\\ldots,i_d) B(i_1,\\ldots,i_d)$$\n",
    "    \n",
    "   $$C_k(i_k) = A_k(i_k) \\otimes B_k(i_k),$$\n",
    "   ранги умножаются, поэтому нужно уметь их уменьшать.\n",
    "\n"
   ]
  },
  {
   "cell_type": "markdown",
   "metadata": {
    "slideshow": {
     "slide_type": "slide"
    }
   },
   "source": [
    "## Округление\n",
    "**Округление**  решает следующую задачу: пусть дано TT-представление\n",
    "\n",
    "$$A(i_1, \\ldots, i_d) = G_1(i_1) G_2(i_2) \\ldots G_d(i_d)$$\n",
    "\n",
    "нужно найти **другое** с меньшей памятью, которое приближает $A$ с нужной точностью $\\epsilon$.\n",
    "\n",
    "Округление можно точно сделать за  $\\mathcal{O}(dnr^3)$ операций, используя   **линейную структуру формата** ."
   ]
  },
  {
   "cell_type": "markdown",
   "metadata": {
    "slideshow": {
     "slide_type": "slide"
    }
   },
   "source": [
    "##  Программная реализация\n",
    "\n",
    "Есть программная реализация всех базовых операций в TT-формате, поэтому можно легко реализовывать итерационные методы с округлением. \n",
    "\n",
    "Для решения линейной системы:\n",
    "\n",
    "$$x_{k+1} = R(x_k + B (f - A x_k)), $$\n",
    "\n",
    "где $R$ - операция округления, а $B$ **предобуславливатель.**"
   ]
  },
  {
   "cell_type": "markdown",
   "metadata": {
    "slideshow": {
     "slide_type": "slide"
    }
   },
   "source": [
    "## А нужно ли предобуславливание?\n",
    "\n",
    "На самом деле, у нас есть огромная **априорная информация** о решении: оно лежит на многообразии малой размерности, поэтому часто предобуславливатели **вообще не нужны.**\n",
    "\n",
    "**Базовая идея:** Пусть $A = A^* > 0.$\n",
    "\n",
    "$$(Ax, x) - 2 (f, x) \\rightarrow \\min,$$\n",
    "\n",
    "и минимум считаем по множеству всех тензоров ограниченного ранга (многообразию). \n",
    "\n",
    "\n",
    "\n"
   ]
  },
  {
   "cell_type": "markdown",
   "metadata": {},
   "source": [
    "## Метод переменных направлений\n",
    "\n",
    "Простейшим оптимизационным методом является **метод переменных направлений**\n",
    "\n",
    "$$X = G_1(i_1) \\ldots G_d(i_d),$$\n",
    "\n",
    "если мы фиксируем все $G$ кроме $1$, функционал становится квадратичным, и минимизация сводится к решению (небольшой) линейной системы. "
   ]
  },
  {
   "cell_type": "markdown",
   "metadata": {
    "slideshow": {
     "slide_type": "slide"
    }
   },
   "source": [
    "## Оптимизационные методы на многообразиях\n",
    "Более сложные методы основаны на римановых методах минимизации на многообразиях.\n",
    "\n",
    "Важна **кривизна многообразия**, однако мы установили, что множество TT-тензоров ведет себя **как линейное многообразие** и кривизна не играет особой роли."
   ]
  },
  {
   "cell_type": "markdown",
   "metadata": {
    "slideshow": {
     "slide_type": "slide"
    }
   },
   "source": [
    "## Типичная картина сходимости\n",
    "\n",
    "Здесь синия линия - сходимость без проекции на многообразие, \n",
    "зеленая - со сходимостью,  ступенчатая - \"нормальная компонента\" решения.\n",
    "\n",
    "<img src='levels.png'>"
   ]
  },
  {
   "cell_type": "markdown",
   "metadata": {
    "slideshow": {
     "slide_type": "slide"
    }
   },
   "source": [
    "## Общая идея\n",
    "Созданы (и постоянно улучшаются) оптимизационные алгоритмы типа \"черный ящик\" для минимизации функционалов на TT-многообразии \n",
    "Поэтому, объединяя: \n",
    "- теорию о существовании решения на логически прямоугольных сетках\n",
    "- методы построения таких сеток\n",
    "- пакеты по TT-оптимизации, \n",
    "\n",
    "Мы получаем абсолютно простой в реализации подход для создания эффективных солверов, которые имеют логарифмическую сложность по числу \"формальных\" степеней свободы."
   ]
  },
  {
   "cell_type": "markdown",
   "metadata": {
    "slideshow": {
     "slide_type": "slide"
    }
   },
   "source": [
    "## Grand Challenges\n",
    " \n",
    " Есть четыре больших направления исследований на ближайший год:\n",
    " \n",
    "- Разработка специальных дискретизаций на сверхмелких сетках: обычные схемы становятся неустойчивыми при $h \\sim 10^{-4}$. Простое решение - использовать вейвлет-конечные элементы, так как нет необходимости использовать **локальные** базисные функции. Для одномерных задач мы успешно решаем задачи на сетках порядка $2^{120}$.\n",
    "\n",
    "- Оптимизация алгоритмов решения задач оптимизации на TT-многообразия (теория сходимости, методы ускорения)\n",
    "\n",
    "- Создание пакета, объединяющего построения логически прямоугольных сеток (вычислительная геометрия, сотрудничество с ETH и NYU Courant)"
   ]
  },
  {
   "cell_type": "markdown",
   "metadata": {
    "slideshow": {
     "slide_type": "slide"
    }
   },
   "source": [
    "## Приложения\n",
    "\n",
    "Создаваемый подходв позволяет решать огромное количество прикладных задач \"прямым\" моделированием:\n",
    "\n",
    "- Композитные материалы с дефектами\n",
    "- Фотонные кристалы, оптические волноводы (уравнения Максвелла).\n",
    "- Акустика, задачи рассеяния\n",
    "\n",
    "Во всех случаях можно обобщить теоретические результаты Казеева-Шваба."
   ]
  },
  {
   "cell_type": "markdown",
   "metadata": {
    "slideshow": {
     "slide_type": "slide"
    }
   },
   "source": [
    "## Выводы\n",
    "\n",
    "Создан и обоснован новый подход к решению широкого класса дифференциальных и интегральных уравнений с оптимальной сложностью."
   ]
  },
  {
   "cell_type": "markdown",
   "metadata": {
    "slideshow": {
     "slide_type": "slide"
    }
   },
   "source": [
    "## Ссылки\n",
    "\n",
    "\n",
    "- oseledets.github.io : статьи, ссылки\n",
    "- http://github.com/oseledets/TT-Toolbox  - пакет на матлабе\n",
    "- http://github.com/oseledets/ttpy - пакет на Питоне"
   ]
  },
  {
   "cell_type": "code",
   "execution_count": 1,
   "metadata": {
    "collapsed": false,
    "slideshow": {
     "slide_type": "skip"
    }
   },
   "outputs": [
    {
     "data": {
      "text/html": [
       "<link href='http://fonts.googleapis.com/css?family=Fenix' rel='stylesheet' type='text/css'>\n",
       "<link href='http://fonts.googleapis.com/css?family=Alegreya+Sans:100,300,400,500,700,800,900,100italic,300italic,400italic,500italic,700italic,800italic,900italic' rel='stylesheet' type='text/css'>\n",
       "<link href='http://fonts.googleapis.com/css?family=Source+Code+Pro:300,400' rel='stylesheet' type='text/css'>\n",
       "<style>\n",
       "    @font-face {\n",
       "        font-family: \"Computer Modern\";\n",
       "        src: url('http://mirrors.ctan.org/fonts/cm-unicode/fonts/otf/cmunss.otf');\n",
       "    }\n",
       "    div.cell{\n",
       "        /*width:80%;*/\n",
       "        /*margin-left:auto !important;\n",
       "        margin-right:auto;*/\n",
       "    }\n",
       "    h1 {\n",
       "        font-family: 'Alegreya Sans', sans-serif;\n",
       "    }\n",
       "    h2 {\n",
       "        font-family: 'Fenix', serif;\n",
       "    }\n",
       "    h3{\n",
       "\t\tfont-family: 'Fenix', serif;\n",
       "        margin-top:12px;\n",
       "        margin-bottom: 3px;\n",
       "       }\n",
       "\th4{\n",
       "\t\tfont-family: 'Fenix', serif;\n",
       "       }\n",
       "    h5 {\n",
       "        font-family: 'Alegreya Sans', sans-serif;\n",
       "    }\t   \n",
       "    div.text_cell_render{\n",
       "        font-family: 'Alegreya Sans',Computer Modern, \"Helvetica Neue\", Arial, Helvetica, Geneva, sans-serif;\n",
       "        line-height: 1.2;\n",
       "        font-size: 120%;\n",
       "        /*width:70%;*/\n",
       "        /*margin-left:auto;*/\n",
       "        margin-right:auto;\n",
       "    }\n",
       "    .CodeMirror{\n",
       "            font-family: \"Source Code Pro\";\n",
       "\t\t\tfont-size: 90%;\n",
       "    }\n",
       "/*    .prompt{\n",
       "        display: None;\n",
       "    }*/\n",
       "    .text_cell_render h1 {\n",
       "        font-weight: 200;\n",
       "        font-size: 50pt;\n",
       "\t\tline-height: 110%;\n",
       "        color:#CD2305;\n",
       "        margin-bottom: 0.5em;\n",
       "        margin-top: 0.5em;\n",
       "        display: block;\n",
       "    }\t\n",
       "    .text_cell_render h5 {\n",
       "        font-weight: 300;\n",
       "        font-size: 16pt;\n",
       "        color: #CD2305;\n",
       "        font-style: italic;\n",
       "        margin-bottom: .5em;\n",
       "        margin-top: 0.5em;\n",
       "        display: block;\n",
       "    }\n",
       "    \n",
       "    li {\n",
       "        line-height: 110%;\n",
       "    }\n",
       "    .warning{\n",
       "        color: rgb( 240, 20, 20 )\n",
       "        }  \n",
       "</style>\n",
       "<script>\n",
       "    MathJax.Hub.Config({\n",
       "                        TeX: {\n",
       "                           extensions: [\"AMSmath.js\"]\n",
       "                           },\n",
       "                tex2jax: {\n",
       "                    inlineMath: [ ['$','$'], [\"\\\\(\",\"\\\\)\"] ],\n",
       "                    displayMath: [ ['$$','$$'], [\"\\\\[\",\"\\\\]\"] ]\n",
       "                },\n",
       "                displayAlign: 'center', // Change this to 'center' to center equations.\n",
       "                \"HTML-CSS\": {\n",
       "                    styles: {'.MathJax_Display': {\"margin\": 4}}\n",
       "                }\n",
       "        });\n",
       "</script>\n"
      ],
      "text/plain": [
       "<IPython.core.display.HTML object>"
      ]
     },
     "execution_count": 1,
     "metadata": {},
     "output_type": "execute_result"
    }
   ],
   "source": [
    "from IPython.core.display import HTML\n",
    "def css_styling():\n",
    "    styles = open(\"custom.css\", \"r\").read()\n",
    "    return HTML(styles)\n",
    "css_styling()"
   ]
  }
 ],
 "metadata": {
  "kernelspec": {
   "display_name": "Python 2",
   "language": "python",
   "name": "python2"
  },
  "language_info": {
   "codemirror_mode": {
    "name": "ipython",
    "version": 2
   },
   "file_extension": ".py",
   "mimetype": "text/x-python",
   "name": "python",
   "nbconvert_exporter": "python",
   "pygments_lexer": "ipython2",
   "version": "2.7.10"
  }
 },
 "nbformat": 4,
 "nbformat_minor": 0
}
