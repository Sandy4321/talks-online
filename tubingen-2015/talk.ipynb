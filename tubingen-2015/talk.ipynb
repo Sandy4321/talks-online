{
 "cells": [
  {
   "cell_type": "code",
   "execution_count": 4,
   "metadata": {
    "collapsed": false,
    "slideshow": {
     "slide_type": "skip"
    }
   },
   "outputs": [
    {
     "data": {
      "text/plain": [
       "{u'start_slideshow_at': 'selected', u'theme': 'sky', u'transition': 'zoom'}"
      ]
     },
     "execution_count": 4,
     "metadata": {},
     "output_type": "execute_result"
    }
   ],
   "source": [
    "from IPython.html.services.config import ConfigManager\n",
    "from IPython.utils.path import locate_profile\n",
    "cm = ConfigManager(profile_dir=locate_profile(get_ipython().profile))\n",
    "cm.update('livereveal', {\n",
    "              'theme': 'sky',\n",
    "              'transition': 'zoom',\n",
    "              'start_slideshow_at': 'selected',\n",
    "})"
   ]
  },
  {
   "cell_type": "markdown",
   "metadata": {
    "slideshow": {
     "slide_type": "slide"
    }
   },
   "source": [
    "#Non-stationary problems and low-rank approximation of matrices and tensors\n",
    "#####Ivan Oseledets, Skolkovo Institute of Science and Technology \n",
    "##### oseledets.github.io, i.oseledets@skoltech.ru\n",
    "\n",
    "\n",
    "\n",
    "### Talk: http://github.com/oseledets/talks-online/tubingen-2015"
   ]
  },
  {
   "cell_type": "markdown",
   "metadata": {
    "slideshow": {
     "slide_type": "slide"
    }
   },
   "source": [
    "## Skoltech\n",
    "- Founded in 2011 as a new Western-style university near Moscow http://faculty.skoltech.ru\n",
    "- In collaboration with MIT\n",
    "- No departments: priority areas \"IT, Bio, Space and Nuclear\"\n",
    "- At the moment, 160 master students, 30 professors, 40 postdocs, 50 PhD studens "
   ]
  },
  {
   "cell_type": "markdown",
   "metadata": {
    "slideshow": {
     "slide_type": "slide"
    }
   },
   "source": [
    "## MMMA-2015\n",
    "In August 23-28 2015 we hold the **4-th Moscow conference in Matrix Methods in Mathematics and Applications**.  \n",
    "\n",
    "Confirmed speakers: C. Schwab, P. G. Martinsson, B. Benner, J. White, D. Zorin, P.-A.Absil, A. Cichocki, P. Van Dooren.\n",
    "\n",
    "**Good time to visit Moscow** (i.e., due to the exchange rate drop from 35 roubles/dollar to 55 roubles/dollar). \n",
    "\n",
    "\n",
    "\n",
    "http://matrix.inm.ras.ru/mmma-2015/\n",
    "\n",
    "<img width=30% src=\"technopark-2.png\">"
   ]
  },
  {
   "cell_type": "markdown",
   "metadata": {
    "slideshow": {
     "slide_type": "slide"
    }
   },
   "source": [
    "## Talk plan\n",
    "The main goal of this talk is to show **different connections** between non-stationary problems and optimization on low-rank manifolds of matrices and tensors\n",
    "\n",
    "- **Part 1:** Low-rank approximation of the Lyapunov equation and ODEs\n",
    "- **Part 2:** Low-rank approximation and unbounded domains (\"inflation method\")\n",
    "- **Part 3:** The concept of dynamical low-rank approximation and its applications"
   ]
  },
  {
   "cell_type": "markdown",
   "metadata": {
    "slideshow": {
     "slide_type": "slide"
    }
   },
   "source": [
    "## Optimal subspace selection for ODEs\n",
    "\n",
    "The details for this part of the talk can be found in the paper  \n",
    "[From low-rank approximation to an efficient rational Krylov subspace method for the Lyapunov equation, D. A. Kolesnikov, I. V. Oseledets](http://arxiv.org/abs/1410.3335)\n",
    "\n",
    "Consider a linear system of ODEs,\n",
    "\n",
    "$$\\frac{dy}{dt} = Ay, y(0) = y_0.$$\n",
    "\n",
    "All methods for solving such problems are based on a careful selection of a **low-dimensional subspace** $U$\n",
    "\n",
    "such that\n",
    "\n",
    "$$y(t) \\approx U c(t),$$\n",
    "\n",
    "where $U^* U = I$ and $U$ has $r$ columns."
   ]
  },
  {
   "cell_type": "markdown",
   "metadata": {
    "slideshow": {
     "slide_type": "slide"
    }
   },
   "source": [
    "## Optimal subspace selection: functional\n",
    "\n",
    "The solution is given as $$y(t)  = \\exp(At) y_0,$$ \n",
    "\n",
    "assuming that $y(t) \\rightarrow 0$ when $t \\rightarrow \\infty$, the natural error measure is\n",
    "\n",
    "$$F(U) = \\int^{\\infty}_0 \\Vert y - \\widehat{y} \\Vert^2 dt, $$\n",
    "\n",
    "where $\\widehat{y} = UU^* y(t)$"
   ]
  },
  {
   "cell_type": "markdown",
   "metadata": {
    "slideshow": {
     "slide_type": "slide"
    }
   },
   "source": [
    "## \"Exact\" optimal subspace\n",
    "\n",
    "In model order reduction, the exact solution for such subspace seems to be well-known (however, we did not find exactly the same result)\n",
    "\n",
    "1. We have to solve the Lyapunov equation\n",
    "$$AX + XA^{\\top} = -y_0 y^{\\top}_0$$\n",
    "2. Compute its eigendecomposition $X = U \\Lambda U^*$, and leave $r$ leading eigenvectors."
   ]
  },
  {
   "cell_type": "markdown",
   "metadata": {
    "slideshow": {
     "slide_type": "slide"
    }
   },
   "source": [
    "## Problem with the \"optimal solution\"\n",
    "The problem with the optimal solution is that even if $U$ is given, \n",
    "\n",
    "$$c(t) = U^* y(t)$$ \n",
    "\n",
    "is **not computable**\n",
    "\n",
    "Simple idea is to replace it with **Galerkin projection**\n",
    "\n",
    "$$c(t) \\approx \\widehat{c}(t) = e^{Bt} U^* y_0, $$\n",
    "\n",
    "where $B = U^* A U$."
   ]
  },
  {
   "cell_type": "markdown",
   "metadata": {
    "slideshow": {
     "slide_type": "slide"
    }
   },
   "source": [
    "## Modified functional \n",
    "The modified functional:\n",
    "\n",
    "$$\\widetilde{y}  = U e^{Bt} U^* y_0,$$\n",
    "\n",
    "$$F(U) = \\int^{\\infty}_0 \\Vert y - \\widetilde{y} \\Vert^2 dy.$$\n",
    "\n",
    "And this functional is computable!"
   ]
  },
  {
   "cell_type": "markdown",
   "metadata": {
    "slideshow": {
     "slide_type": "slide"
    }
   },
   "source": [
    "## The functional\n",
    "$\\def\\trace{\\mathop{\\mathrm{tr}}\\nolimits}$\n",
    "The functional can be written as\n",
    "\n",
    "\\begin{equation*}\n",
    "    F(U) = F_1(U) - 2 F_2(U),  \n",
    "\\end{equation*}\n",
    "\\begin{equation}\n",
    "\\begin{split}\n",
    "F_1(U) &= \\trace X - \\trace Z,\\\\\n",
    "F_2(U) &= \\trace U^{\\top} (P - U Z),\n",
    "\\end{split}\n",
    "\\end{equation}\n",
    "\n",
    "where $P$ is the solution of the Sylvester equation and $Z$ is solution of\n",
    "the Lyapunov equation:\n",
    "\n",
    "\\begin{equation}\n",
    "\\begin{split}\n",
    "A P + P B^{\\top} &= -y_0 c_0^{\\top},\\\\\n",
    "B Z + Z B^{\\top} &= -c_0 c_0^{\\top}.\n",
    "\\end{split}\n",
    "\\end{equation}\n"
   ]
  },
  {
   "cell_type": "markdown",
   "metadata": {
    "slideshow": {
     "slide_type": "slide"
    }
   },
   "source": [
    "## Error estimate \n",
    "If $F(U)$ is small it gives an error bound for the Lyapunov equation:\n",
    "\n",
    " $\\Vert X - PU^* - U P^* + U Z U^* \\Vert \\leq 2 F(U)$."
   ]
  },
  {
   "cell_type": "markdown",
   "metadata": {
    "slideshow": {
     "slide_type": "slide"
    }
   },
   "source": [
    "## Numerical method\n",
    "\n",
    "**Method 1**: $U_{new} = \\begin{bmatrix} U & P - UZ \\end{bmatrix}$,\n",
    "\n",
    "double the size of the basis at each step.\n",
    "\n",
    "**Method 2**: We found that effectively the basis is expanded by only $1-2$ vectors, and based on this we obtained a **very simple** method."
   ]
  },
  {
   "cell_type": "markdown",
   "metadata": {
    "slideshow": {
     "slide_type": "slide"
    }
   },
   "source": [
    "## ALR method\n",
    "\n",
    "At each step we add to the basis $U$ two vectors:\n",
    "\n",
    "1. A next Krylov vector $w_k$ \n",
    "2. Next rational Krylov vector $v_k = (A + s I)^{-1} w_k$, where $s = q^* A q$, \n",
    "  and $q$ is the **normalized last row** of the matrix $Z$ that solves\n",
    "  $$BZ + Z B^* = c_0 c^*_0$$"
   ]
  },
  {
   "cell_type": "markdown",
   "metadata": {
    "slideshow": {
     "slide_type": "slide"
    }
   },
   "source": [
    "## Existing approaches\n",
    "We ended up with Rational-Krylov-type method (there are many others), \n",
    "\n",
    "1. KPIK (Knizhnermann, Druskin, Simoncini) - $A$ and $A^{-1}$ subspaces\n",
    "2. RKSM (Druskin, Simoncini) - optimize the shifts to minimize the spectral error"
   ]
  },
  {
   "cell_type": "markdown",
   "metadata": {
    "slideshow": {
     "slide_type": "slide"
    }
   },
   "source": [
    "## Main difference to RKSM\n",
    "The shifts generated by ALR are contained in the numerical range of $B$, not $A$, and are much less **spread**, but the convergence is **not worse** then for RKSM.\n",
    "\n",
    "<img width=100% src=\"test.jpg\">"
   ]
  },
  {
   "cell_type": "markdown",
   "metadata": {
    "slideshow": {
     "slide_type": "slide"
    }
   },
   "source": [
    "## Future work\n",
    "We are working on the convergence estimates for ALR, but they are not clear."
   ]
  },
  {
   "cell_type": "markdown",
   "metadata": {
    "slideshow": {
     "slide_type": "slide"
    }
   },
   "source": [
    "## Part 2\n",
    "\n",
    "Now we go to the next part of the talk: diffusion/Schrodinger equation in **unbounded domains** using \"inflation\" method with low-rank approximation.\n",
    "\n",
    "It is based on the joint work with my postdoc [Mikhail Litsarev](http://oseledets.github.io/people/litsarev/)\n",
    "\n",
    "The idea is described in the paper\n",
    "[Low-rank approach to the computation of path integrals](http://arxiv.org/abs/1504.06149)\n"
   ]
  },
  {
   "cell_type": "markdown",
   "metadata": {
    "slideshow": {
     "slide_type": "slide"
    }
   },
   "source": [
    "## Unbounded domains\n",
    "\n",
    "I will illustrate the idea on the Schroedinger equation. \n",
    "\\begin{equation}\n",
    "i \\frac{\\partial }{\\partial t } \\psi(x, t )=\n",
    "\\left (  -\\frac{1}{2} \\nabla^2+ V(x)  \\right) \\psi(x, t ), \\quad \\psi(x, 0) = \\psi^{(0)}(x).\n",
    "\\end{equation}"
   ]
  },
  {
   "cell_type": "markdown",
   "metadata": {
    "slideshow": {
     "slide_type": "fragment"
    }
   },
   "source": [
    "## Discretization on an infinite grid\n",
    "\n",
    "$$\n",
    "\\frac{\\partial}{\\partial t} \\psi_k(t) =  i \\frac{\\psi_{k-1}(t) - 2 \\psi_k(t) + \\psi_{k+1}(t)}{2h^2} + V(x_k) \\psi_k(t), \\quad \\psi_k(0) = \\psi^{(0)}(x_k), \\quad x_k = k h, \\quad k  \\in \\mathbb{Z}. \n",
    "$$\n"
   ]
  },
  {
   "cell_type": "markdown",
   "metadata": {
    "slideshow": {
     "slide_type": "slide"
    }
   },
   "source": [
    "## Matrix form\n",
    "\\begin{equation}\n",
    "\\left \\{\n",
    "\\begin{split}\n",
    "&\\frac{d}{d t} \\mathbf{\\psi} (t)=\n",
    "\\mathbf{i}\\, \\mathbf{H} \\, \\mathbf{\\psi} (t), \\\\\n",
    "&\\mathbf{\\psi}(0) = \\mathbf{\\psi}_0,\n",
    "\\end{split}\n",
    "\\right.\n",
    "\\qquad\n",
    "\\mathbf{H}=\\mathbf{K}+\\mathbf{V},\n",
    "\\end{equation}\n",
    "\n",
    "The matrix $\\mathbf{K}$ is a bi-infinite tridiagonal symmetric Toeplitz matrix with elements\n",
    "$$K_{kl} = \\mathbf{k}_{k-l}, $$\n",
    "wher $\\mathbf{k}_0 = -\\frac{2}{h^2}$, $\\mathbf{k}_1 = \\mathbf{k}_{-1} = \\frac{1}{h^2}$ and all other elements of $\\mathbf{k}$ are equal to $0$. The operator $\\mathbf{V}$            \n",
    "corresponds to a bi-infinite diagonal matrix with elements $V(x_k)$ on the diagonal."
   ]
  },
  {
   "cell_type": "markdown",
   "metadata": {
    "slideshow": {
     "slide_type": "slide"
    }
   },
   "source": [
    "## Splitting scheme\n",
    "Now we apply the second-order Marchuk-Strang splitting\n",
    "\n",
    "$$\\psi(t + \\tau) = e^{i \\mathbf{H} \\tau} \\psi(t) = e^{i \\mathbf{V} \\tau/2} e^{i \\mathbf{K} \\tau} e^{i \\mathbf{V} \\tau/2} \\psi(t) + \\mathcal{O}(\\tau^3).$$\n",
    "\n",
    "Since matrix $\\mathbf{V}$ is a diagonal matrix, its exponent is also a diagonal matrix.  The most interesting part is\n",
    "the computation of the action of the matrix exponent\n",
    "\n",
    "\\begin{equation}\n",
    "\\widehat{\\varphi} = e^{i \\mathbf{K} \\tau} \\varphi. \n",
    "\\end{equation}"
   ]
  },
  {
   "cell_type": "markdown",
   "metadata": {
    "slideshow": {
     "slide_type": "slide"
    }
   },
   "source": [
    "## Exponent of an infinite Laplacian\n",
    "Since the matrix $\\mathbf{K}$ is a Toeplitz matrix, the exponent is also a Toeplitz matrix, and the action of the operator is\n",
    "a **convolution**\n",
    "$$\\widehat{\\varphi}_k = \\sum_{l=-\\infty}^{\\infty} \\mathbf{b}_{l} \\varphi_{l+k}.$$\n",
    "\n",
    "The coefficients $b_l$ depend on $\\tau$ and $h$.\n",
    "\n",
    "**Theorem**: $b_l$ are exponentially decaying for $|l| > M$, $M  \\sim \\frac{\\tau}{h^2}$.\n"
   ]
  },
  {
   "cell_type": "markdown",
   "metadata": {
    "slideshow": {
     "slide_type": "slide"
    }
   },
   "source": [
    "## Demo\n",
    "Now the short demo"
   ]
  },
  {
   "cell_type": "code",
   "execution_count": 7,
   "metadata": {
    "collapsed": false,
    "slideshow": {
     "slide_type": "slide"
    }
   },
   "outputs": [
    {
     "name": "stdout",
     "output_type": "stream",
     "text": [
      "Mx =  603\n"
     ]
    },
    {
     "data": {
      "text/plain": [
       "<matplotlib.text.Text at 0x1149a8f10>"
      ]
     },
     "execution_count": 7,
     "metadata": {},
     "output_type": "execute_result"
    },
    {
     "data": {
      "image/png": "[encoded data removed]",
      "text/plain": [
       "<matplotlib.figure.Figure at 0x104899910>"
      ]
     },
     "metadata": {},
     "output_type": "display_data"
    }
   ],
   "source": [
    "%matplotlib inline\n",
    "import seaborn as sns\n",
    "import matplotlib.pyplot as plt\n",
    "import numpy as np\n",
    "from numpy.fft import fft, ifft\n",
    "Nx = 200\n",
    "Mx = 3 * Nx + 3\n",
    "hx = 1.0/Nx\n",
    "tau = hx\n",
    "print 'Mx = ', Mx\n",
    "H = np.zeros(Mx)\n",
    "H[0] = -2\n",
    "H[1] = 1\n",
    "H[Mx - 1] = 1\n",
    "cf = 0.5 * tau / (hx ** 2)\n",
    "H = -cf * H\n",
    "lam_analytic = fft(H)\n",
    "band = ifft(np.exp(-1j * lam_analytic))\n",
    "abs_band = abs(band)\n",
    "plt.semilogy(abs_band)\n",
    "plt.title('Convolution coefficients')"
   ]
  },
  {
   "cell_type": "markdown",
   "metadata": {
    "slideshow": {
     "slide_type": "slide"
    }
   },
   "source": [
    "## Main idea: inflation method\n",
    "We can replace the infinite convolution by a window one!\n",
    "\n",
    "$$\\widehat{\\varphi}_k \\approx \\sum_{l=-M/2}^{M/2} \\mathbf{b}_{l} \\varphi_{k+l}.$$\n",
    "\n",
    "Thus, if we know the solution at $[-L, L]$, we can compute it for $[-L+M/2, L-M/2]$ (smaller interval).\n",
    "\n",
    "How big $L$ should be? \n",
    "\n",
    "$\\tau \\sim h$, $M \\sim \\frac{1}{h}$, thus to get time $T$ we need at least $MT$ steps. \n",
    "\n",
    "At each step $M$ points disappear, thus $L \\sim TM^2$ points are needed (**inflated domain**).\n",
    "\n",
    "How to break the complexity/storage problems?"
   ]
  },
  {
   "cell_type": "markdown",
   "metadata": {
    "slideshow": {
     "slide_type": "slide"
    }
   },
   "source": [
    "## Use low-rank!\n",
    "\n",
    "1. Take the grid uniform $x_k$ with $K M$ points, values of $f$ on this grid \n",
    "and **reshape it into $K \\times M$ matrix.**\n",
    "2. Approximate it by rank-$r$ matrix.\n",
    "\n",
    "**Theorem** After one convolution the rank is at most $2r$ (thus we approximate).\n",
    "\n",
    "Intialization and multiplication by $e^{i V \\tau}$ is done **cross approximation**."
   ]
  },
  {
   "cell_type": "markdown",
   "metadata": {
    "slideshow": {
     "slide_type": "slide"
    }
   },
   "source": [
    "## Numerical experiment\n",
    "For numerical experiment we used diffusion equation in a weird potential which is non-periodic.\n",
    "<p>\n",
    "</p>\n",
    "<div style=\"float: left; width: 40%; margin-right: 5%; margin-bottom: 0.5em\">\n",
    "Solution (and convergence)\n",
    "<img src=\"ux2.jpg\" width=100%> \n",
    "</div>\n",
    "<div style=\"float: left; width: 40%; margin-right: 5%; margin-bottom: 0.5em\">\n",
    "Potential and initial condition\n",
    "<img src=\"vf1.jpg\" width=100%>\n",
    "</div>\n"
   ]
  },
  {
   "cell_type": "markdown",
   "metadata": {
    "slideshow": {
     "slide_type": "slide"
    }
   },
   "source": [
    "## Summary \n",
    "- Inflated domain allows us to accurately compute solution without artificial boundaries\n",
    "- Experimentally verified low-rank structure\n",
    "- Easy to  extend to other types of problems (2D, 3D, wave equations)\n",
    "- Theory?"
   ]
  },
  {
   "cell_type": "markdown",
   "metadata": {
    "slideshow": {
     "slide_type": "slide"
    }
   },
   "source": [
    "## Part 3\n",
    "\n",
    "Why we need dynamical low-rank approximation (with an application)."
   ]
  },
  {
   "cell_type": "markdown",
   "metadata": {
    "slideshow": {
     "slide_type": "slide"
    }
   },
   "source": [
    "## Low-rank approximation of matrices\n",
    "\n",
    "Given a matrix $A$ its **low-rank approximation** can be parametrized by the product $UV^{\\top}$.\n",
    "\n",
    "\n",
    "$$A \\approx UV^{\\top}, $$\n",
    "\n",
    "where $U$ is $n \\times r$ and $V$ is $m \\times r$."
   ]
  },
  {
   "cell_type": "markdown",
   "metadata": {
    "slideshow": {
     "slide_type": "slide"
    }
   },
   "source": [
    "## Computing low-rank factorization\n",
    "\n",
    "Minimization of \n",
    "$$\\min_{\\mathrm{rank}(A_r)=r}\\Vert A - A_r \\Vert_2 = \\sigma_{r+1}$$\n",
    "\n",
    "can be done by the singular value decomposition (SVD).\n",
    "\n",
    "Or by **sampling** and **cross approximation**"
   ]
  },
  {
   "cell_type": "markdown",
   "metadata": {
    "slideshow": {
     "slide_type": "slide"
    }
   },
   "source": [
    "## Function approximation\n",
    "\n",
    "In the function approximation, low-rank approximation is equivalent to the **separation of variables**  \n",
    "\n",
    "\n",
    "$$f(x_1, \\ldots, x_d) \\approx \\sum_{\\alpha=1}^r U_1(x_1, \\alpha) \\ldots U_d(x_d, \\alpha),$$\n",
    "\n",
    "Often is better to use **stable** tensor formats (TT-format, HT-format).\n",
    "\n",
    "The main problem is to select **right variables** that **can be separated**"
   ]
  },
  {
   "cell_type": "markdown",
   "metadata": {
    "slideshow": {
     "slide_type": "slide"
    }
   },
   "source": [
    "## A typical setup\n",
    "\n",
    "Recommender system: we have a **user-product matrix**, and we want to fill the missing entries.\n",
    "\n",
    "We solve **matrix completion** problem:\n",
    "\n",
    "$$\\Vert W \\circ (A - B) \\Vert \\rightarrow \\min$$\n",
    "\n",
    "But the accuracy is then measured using only the sign of the approximation! (sign-rank problem!)."
   ]
  },
  {
   "cell_type": "markdown",
   "metadata": {
    "slideshow": {
     "slide_type": "slide"
    }
   },
   "source": [
    "## General principle\n",
    "\n",
    "It means, you have to use **absolutely different** functional (not quadratic, not matrix completion) in the minimization problem.\n",
    "\n",
    "For a sign-rank, a good surrogate is the **logistic loss**\n",
    "\n",
    "$$l(x, y) = \\log(1 + e^{-(2y - 1)x}) $$\n",
    "\n",
    "$$F(X, Y)  = \\sum_{ij} l(x_{ij}, y_{ij})$$\n",
    "\n",
    "Then we minimize $F(X, Y)$ given $Y$ subject to low-rank constraints on $X$.\n",
    "\n",
    "\n",
    "**Non-quadratic functional** -- forget about **alternating least squares**"
   ]
  },
  {
   "cell_type": "markdown",
   "metadata": {
    "slideshow": {
     "slide_type": "slide"
    }
   },
   "source": [
    "## Riemannian optimization\n",
    "\n",
    "One of the most important properties of low-rank formats is the structure of the **tangent space**\n",
    "\n",
    "Given $A = U S V^{\\top}$, with orthonormal $U$ and $V$ the tangent space is defined as\n",
    "\n",
    "$$Z = U S V^{\\top} + \\delta U S V^{\\top} + U \\delta S V^{\\top} + U S \\delta V^{\\top},$$\n",
    "\n",
    "subject to $$\\delta U^{\\top} U + U^{\\top} \\delta U = \\delta V^{\\top} V + V^{\\top} \\delta V = 0$$\n",
    "\n",
    "The projector onto the tangent space is given by \n",
    "\n",
    "$$P_T(Z) = Z - (I - UU^{\\top}) Z (I - VV^{\\top})$$\n",
    "\n",
    "We can write down the projector for TT/HT formats as well!\n",
    "\n",
    "Given the projector, you can solve the problems!"
   ]
  },
  {
   "cell_type": "markdown",
   "metadata": {
    "slideshow": {
     "slide_type": "slide"
    }
   },
   "source": [
    "## Optimization methods on manifolds\n",
    "\n",
    "For the low-rank manifold (matrix, TT, HT) we can efficiently compute the **projection** to the tangent space.\n",
    "\n",
    "\n",
    "The simplest is to **project the gradient onto the tangent space:**\n",
    "\n",
    "$$x_{k+1} = R(x_k + P_{\\mathcal{T}}(\\nabla F)), $$\n",
    "\n",
    "where $R$ is the mapping from the tangent space to the manifold, called **retraction**."
   ]
  },
  {
   "cell_type": "markdown",
   "metadata": {
    "slideshow": {
     "slide_type": "slide"
    }
   },
   "source": [
    "## Summary \n",
    "\n",
    "- Use the functional you want to minimize, not quadratic loss\n",
    "- Try the Riemannian gradient descent first: simple to use, often converges well"
   ]
  },
  {
   "cell_type": "markdown",
   "metadata": {
    "slideshow": {
     "slide_type": "slide"
    }
   },
   "source": [
    "\n",
    "## Tensors \n",
    "\n",
    "- The most challenging problems are problems with **tensors** (curse of dimensionality, tricky optimization questions).\n",
    "\n",
    "- There are **tensor formats** that are **matrix low-rank approximation manifolds** in disguise\n",
    "\n",
    "- We can use efficient matrix techniques for working with them."
   ]
  },
  {
   "cell_type": "markdown",
   "metadata": {
    "slideshow": {
     "slide_type": "slide"
    }
   },
   "source": [
    "## Tensor-train  format\n",
    "\n",
    "The simplest SVD-based format is the **tensor-train format**\n",
    "\n",
    "$$A(i_1, \\ldots, i_d) = G_1(i_1) \\ldots G_d(i_d),$$\n",
    "\n",
    "i.e. the **product of matrices, depending only on 1 index**, $G_k(i_k)$ is $r_{k-1} \\times r_k$ and $r_0 = r_d = 1$.\n"
   ]
  },
  {
   "cell_type": "markdown",
   "metadata": {
    "slideshow": {
     "slide_type": "slide"
    }
   },
   "source": [
    "## Canonical format\n",
    "\n",
    "A popular choice in function approximation is the **canonical** or sum-of-products format\n",
    "\n",
    "$$A(i_1, \\ldots, i_d) \\approx \\sum_{\\alpha=1}^r U_1(i_1, \\alpha) \\ldots U_d(i_d, \\alpha),$$\n",
    "\n",
    "i.e. sum of separable functions.\n",
    "\n",
    "Disadvantage: **it is not a stable format**: the best approximation may not exist, and may be hard to compute if we know that it exists!\n",
    "\n",
    "However, for a particular tensor $A$ **it can be very efficient**."
   ]
  },
  {
   "cell_type": "markdown",
   "metadata": {
    "slideshow": {
     "slide_type": "slide"
    }
   },
   "source": [
    "## Tensor train\n",
    "The TT-format \n",
    "\n",
    "$$A(i_1, \\ldots, i_d) = G_1(i_1) \\ldots G_d(i_d),$$\n",
    "\n",
    "can be characterized by the following condition:\n",
    "\n",
    "$$\\mathrm{rank}(A_k) = r_k,$$\n",
    "\n",
    "where $A_k = A(i_1 i_2 \\ldots i_k; i_{k+1} \\ldots i_d)$ is the **k-th unfolding** of the tensor.\n",
    "\n",
    "I.e. it is the **intersection of low-rank matrix manifolds**!"
   ]
  },
  {
   "cell_type": "markdown",
   "metadata": {
    "slideshow": {
     "slide_type": "slide"
    }
   },
   "source": [
    "## Software\n",
    "We have a TT-Toolbox, both in MATLAB http://github.com/oseledets/TT-Toolbox and in Python http://github.com/oseledets/ttpy \n",
    "- Computing the TT representation (i.e. checking if there is such a representation)\n",
    "- Performing basic operations\n",
    "- Adaptive sampling algorithms (cross approximation)\n",
    "- Optimization algorithms "
   ]
  },
  {
   "cell_type": "markdown",
   "metadata": {
    "slideshow": {
     "slide_type": "slide"
    }
   },
   "source": [
    "## Optimization over TT-manifold\n",
    "\n",
    "Given $A(i_1, \\ldots, i_d) = G_1(i_1) \\ldots G_d(i_d)$ optimize over one core $G_k(i_k)$.  \n",
    "\n",
    "- Good for **quadratic functionals**, and also you can parametrize     \n",
    "    \n",
    "    $$\\mathrm{vec}(A) = Q \\mathrm{vec}(G_k),$$  \n",
    "    where $Q$ is orthonormal.\n",
    "- Bad for non-quadratic (frequent in machine learning!)\n",
    "\n",
    "Therefore, Riemanian optimization techniques are needed."
   ]
  },
  {
   "cell_type": "markdown",
   "metadata": {
    "slideshow": {
     "slide_type": "slide"
    }
   },
   "source": [
    "## Riemannian gradient descent\n",
    "\n",
    "$$x_{k+1} = R(x_k + \\alpha_k P_{\\mathcal{T}}(\\nabla F)), $$\n",
    "\n",
    "The retraction step is easy, since the projection alwas has rank $2r$, so it can be done by **rounding**.\n",
    "\n",
    "The main problem is the computation of $$P_{\\mathcal{T}}(\\nabla F)$$ without exponential complexity.\n",
    "\n",
    "If it is possible, this is the way to go.\n"
   ]
  },
  {
   "cell_type": "markdown",
   "metadata": {
    "slideshow": {
     "slide_type": "slide"
    }
   },
   "source": [
    "## Example: all-subsets regression\n",
    "\n",
    "Consider the **binary classification problem**. \n",
    "\n",
    "Log-regression is the simplest choice: given the **feature vector** $x$, \n",
    "\n",
    "we predict the probability to observe $y_i$\n",
    "\n",
    "$$p = Z \\exp(-y_i \\langle w, x_i \\rangle).$$\n",
    "\n",
    "I.e. the predictor variable is just the linear combination of the components of the feature vector,\n",
    "\n",
    "and $w$ is the **weight vector**."
   ]
  },
  {
   "cell_type": "markdown",
   "metadata": {
    "slideshow": {
     "slide_type": "slide"
    }
   },
   "source": [
    "## All-subsets regression\n",
    "\n",
    "We can use other predictor variables, for example, select product of features (subsets) like\n",
    "\n",
    "$$w_1 x_1 + w_{125} x_1 x_2 x_5 + \\ldots $$\n",
    "\n",
    "We can code all **possible subsets** in this form by a vector of length $2^d$, or tensor of size $2 \\times \\ldots \\times 2$.\n",
    "\n",
    "(i.e. if there is $x_1$ in the term, or not). "
   ]
  },
  {
   "cell_type": "markdown",
   "metadata": {
    "slideshow": {
     "slide_type": "slide"
    }
   },
   "source": [
    "The predictor variable is then **$t = \\langle W, X \\rangle$**, where $\\langle \\cdot \\rangle$ is the scalar product of tensors.\n",
    "\n",
    "$W$ is $2 \\times 2 \\times \\ldots \\times 2$ -- **weight tensor**\n",
    "\n",
    "We impose low-rank constraints on the $W$, to avoid **overfitting**."
   ]
  },
  {
   "cell_type": "markdown",
   "metadata": {
    "slideshow": {
     "slide_type": "slide"
    }
   },
   "source": [
    "## Optimization problem\n",
    "The total loss is the sum of individual losses\n",
    "$$F(W) = \\sum_{k=1}^K f(y_i, \\langle X_i, W \\rangle),$$\n",
    "\n",
    "where $X_i$ is the low-rank tensor obtained from the **feature vector** $x_i$.\n",
    "\n",
    "The gradient is easily computatble:\n",
    "\n",
    "$$\\nabla F = \\sum_{k=1}^K \\frac{df}{dz}(y_i, \\langle X_i, W \\rangle) X_i,$$\n",
    "\n",
    "and **projection** onto the tangent space can be computed in a fast way."
   ]
  },
  {
   "cell_type": "markdown",
   "metadata": {
    "slideshow": {
     "slide_type": "slide"
    }
   },
   "source": [
    "## Preliminary results\n",
    "On the problem [Otto](https://www.kaggle.com/c/otto-group-product-classification-challenge) from Kaggle, the larger the rank, the better is learning \n",
    "<img src='all-subsets.svg'>\n",
    "\n",
    "You have to train fast   \n",
    "(GPU implementation is necessary, as in the Deep Learning)."
   ]
  },
  {
   "cell_type": "markdown",
   "metadata": {
    "slideshow": {
     "slide_type": "slide"
    }
   },
   "source": [
    "## Low-rank factorization as initialization\n",
    "\n",
    "You can use low-rank factorization to initialize other optimization methods.\n",
    "\n",
    "We have successfully speeded up the convolutional neural networks by factorizing a 4D tensor into the canonical format and then **fine-tuning it**.\n",
    "\n",
    "Thanks to the wonderful TensorLab toolbox by L. De Lathauwer!\n",
    "\n",
    "[Speeding-up Convolutional Neural Networks Using Fine-tuned CP-Decomposition\n",
    "Vadim Lebedev, Yaroslav Ganin, Maksim Rakhuba, Ivan Oseledets, Victor Lempitsky,  ICLR 2015](http://arxiv.org/abs/1412.6553)\n"
   ]
  },
  {
   "cell_type": "markdown",
   "metadata": {
    "slideshow": {
     "slide_type": "slide"
    }
   },
   "source": [
    "## Important points"
   ]
  },
  {
   "cell_type": "markdown",
   "metadata": {
    "slideshow": {
     "slide_type": "slide"
    }
   },
   "source": [
    "## Publications and software\n",
    "- http://oseledets.github.io -- Scientific Computing Group at Skoltech\n",
    "- http://github.com/oseledets/TT-Toolbox -- Tensor Trains in MATLAB\n",
    "- http://github.com/oseledets/ttpy -- Tensor Trains in Python"
   ]
  },
  {
   "cell_type": "code",
   "execution_count": 3,
   "metadata": {
    "collapsed": false,
    "slideshow": {
     "slide_type": "skip"
    }
   },
   "outputs": [
    {
     "data": {
      "text/html": [
       "<link href='http://fonts.googleapis.com/css?family=Fenix' rel='stylesheet' type='text/css'>\n",
       "<link href='http://fonts.googleapis.com/css?family=Alegreya+Sans:100,300,400,500,700,800,900,100italic,300italic,400italic,500italic,700italic,800italic,900italic' rel='stylesheet' type='text/css'>\n",
       "<link href='http://fonts.googleapis.com/css?family=Source+Code+Pro:300,400' rel='stylesheet' type='text/css'>\n",
       "<style>\n",
       "    @font-face {\n",
       "        font-family: \"Computer Modern\";\n",
       "        src: url('http://mirrors.ctan.org/fonts/cm-unicode/fonts/otf/cmunss.otf');\n",
       "    }\n",
       "    div.cell{\n",
       "        /*width:80%;*/\n",
       "        /*margin-left:auto !important;\n",
       "        margin-right:auto;*/\n",
       "    }\n",
       "    h1 {\n",
       "        font-family: 'Alegreya Sans', sans-serif;\n",
       "    }\n",
       "    h2 {\n",
       "        font-family: 'Fenix', serif;\n",
       "    }\n",
       "    h3{\n",
       "\t\tfont-family: 'Fenix', serif;\n",
       "        margin-top:12px;\n",
       "        margin-bottom: 3px;\n",
       "       }\n",
       "\th4{\n",
       "\t\tfont-family: 'Fenix', serif;\n",
       "       }\n",
       "    h5 {\n",
       "        font-family: 'Alegreya Sans', sans-serif;\n",
       "    }\t   \n",
       "    div.text_cell_render{\n",
       "        font-family: 'Alegreya Sans',Computer Modern, \"Helvetica Neue\", Arial, Helvetica, Geneva, sans-serif;\n",
       "        line-height: 1.2;\n",
       "        font-size: 120%;\n",
       "        /*width:70%;*/\n",
       "        /*margin-left:auto;*/\n",
       "        margin-right:auto;\n",
       "    }\n",
       "    .CodeMirror{\n",
       "            font-family: \"Source Code Pro\";\n",
       "\t\t\tfont-size: 90%;\n",
       "    }\n",
       "/*    .prompt{\n",
       "        display: None;\n",
       "    }*/\n",
       "    .text_cell_render h1 {\n",
       "        font-weight: 200;\n",
       "        font-size: 50pt;\n",
       "\t\tline-height: 110%;\n",
       "        color:#CD2305;\n",
       "        margin-bottom: 0.5em;\n",
       "        margin-top: 0.5em;\n",
       "        display: block;\n",
       "    }\t\n",
       "    .text_cell_render h5 {\n",
       "        font-weight: 300;\n",
       "        font-size: 16pt;\n",
       "        color: #CD2305;\n",
       "        font-style: italic;\n",
       "        margin-bottom: .5em;\n",
       "        margin-top: 0.5em;\n",
       "        display: block;\n",
       "    }\n",
       "    \n",
       "    li {\n",
       "        line-height: 110%;\n",
       "    }\n",
       "    .warning{\n",
       "        color: rgb( 240, 20, 20 )\n",
       "        }  \n",
       "</style>\n",
       "<script>\n",
       "    MathJax.Hub.Config({\n",
       "                        TeX: {\n",
       "                           extensions: [\"AMSmath.js\"]\n",
       "                           },\n",
       "                tex2jax: {\n",
       "                    inlineMath: [ ['$','$'], [\"\\\\(\",\"\\\\)\"] ],\n",
       "                    displayMath: [ ['$$','$$'], [\"\\\\[\",\"\\\\]\"] ]\n",
       "                },\n",
       "                displayAlign: 'center', // Change this to 'center' to center equations.\n",
       "                \"HTML-CSS\": {\n",
       "                    styles: {'.MathJax_Display': {\"margin\": 4}}\n",
       "                }\n",
       "        });\n",
       "</script>\n"
      ],
      "text/plain": [
       "<IPython.core.display.HTML object>"
      ]
     },
     "execution_count": 3,
     "metadata": {},
     "output_type": "execute_result"
    }
   ],
   "source": [
    "from IPython.core.display import HTML\n",
    "def css_styling():\n",
    "    styles = open(\"custom.css\", \"r\").read()\n",
    "    return HTML(styles)\n",
    "css_styling()"
   ]
  }
 ],
 "metadata": {
  "celltoolbar": "Slideshow",
  "kernelspec": {
   "display_name": "Python 2",
   "language": "python",
   "name": "python2"
  },
  "language_info": {
   "codemirror_mode": {
    "name": "ipython",
    "version": 2
   },
   "file_extension": ".py",
   "mimetype": "text/x-python",
   "name": "python",
   "nbconvert_exporter": "python",
   "pygments_lexer": "ipython2",
   "version": "2.7.10"
  }
 },
 "nbformat": 4,
 "nbformat_minor": 0
}
