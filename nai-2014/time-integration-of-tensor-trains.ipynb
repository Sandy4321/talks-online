{
 "metadata": {
  "name": "",
  "signature": "sha256:335873a2028d05d21438d9276ddc7e6a1f7d79d43da443a52876e462ef592738"
 },
 "nbformat": 3,
 "nbformat_minor": 0,
 "worksheets": [
  {
   "cells": [
    {
     "cell_type": "markdown",
     "metadata": {},
     "source": [
      "#Time integration of tensor trains\n",
      "## Ivan Oseledets*, Christian Lubich, Bart Vandereycken\n",
      "### *Skolkovo Institute of Science and Technology"
     ]
    },
    {
     "cell_type": "markdown",
     "metadata": {
      "slideshow": {
       "slide_type": "skip"
      }
     },
     "source": [
      "$\\def\\matC          {{\\boldsymbol{\\mathrm{C}}}}$\n",
      "$\\def\\matX          {{\\boldsymbol{\\mathrm{X}}}}$\n",
      "$\\def\\matI          {{\\boldsymbol{\\mathrm{I}}}}$\n",
      "$\\def\\matZ          {{\\boldsymbol{\\mathrm{Z}}}}$\n",
      "$\\def\\matQ          {{\\boldsymbol{\\mathrm{Q}}}}$\n",
      "$\\def\\matP          {{\\boldsymbol{\\mathrm{P}}}}$\n",
      "\n",
      "$\\def\\R {\\mathbb{R}}$"
     ]
    },
    {
     "cell_type": "markdown",
     "metadata": {
      "slideshow": {
       "slide_type": "slide"
      }
     },
     "source": [
      "## Outline of the talk\n",
      "- What is dynamical low-rank approximation\n",
      "- What is a tensor train\n",
      "- Projector-splitting integrator in 2D\n",
      "- Projector-splitting integrator in dD"
     ]
    },
    {
     "cell_type": "markdown",
     "metadata": {
      "slideshow": {
       "slide_type": "slide"
      }
     },
     "source": [
      "## Dynamical low-rank approximation\n",
      "Dynamical low-rank rank approximation is a **low-rank approximation** of time-varying matrix:  \n",
      "\n",
      "$$A(t) \\approx Y(t) = U(t) S(t) V^{\\top}(t), $$\n",
      "\n",
      "where $U(t) \\in \\mathbb{R}^{n \\times r}, V(t) \\in \\mathbb{R}^{m \\times r}, S(t) \\in \\mathbb{R}^{r \\times r}$"
     ]
    },
    {
     "cell_type": "markdown",
     "metadata": {
      "slideshow": {
       "slide_type": "slide"
      }
     },
     "source": [
      "## Simple DLR\n",
      "You can use point-wise SVD:\n",
      "\n",
      "$$\\min_{\\mathrm{rank}(X(t)) = r}\\Vert A(t) - X(t) \\Vert $$\n",
      "\n",
      "but this has some **drawbacks**:\n",
      "\n",
      "- The dependence is non-smooth in time\n",
      "- The energy is not conserved\n",
      "- No history $A(t)$ is taken into account!"
     ]
    },
    {
     "cell_type": "markdown",
     "metadata": {
      "slideshow": {
       "slide_type": "slide"
      }
     },
     "source": [
      "## Instead, use Dirac-Frenkel principle\n",
      "\n",
      "**Dirac-Frenkel principle** can be used instead:\n",
      "\n",
      "$$ \\langle \\frac{dA}{dt} - \\frac{dX}{dt}, Z \\rangle_F = 0, $$\n",
      "\n",
      "for all $Z$ in the **tangent space** of the manifold $\\mathcal{M}_r$ of all matrices of rank $r$,  \n",
      "and tangent space is defined as\n",
      "\n",
      "$$\n",
      "     Z = \\delta U S V^{\\top} + U \\delta S V^{\\top} + U S \\delta V^{\\top}\n",
      "$$"
     ]
    },
    {
     "cell_type": "markdown",
     "metadata": {
      "slideshow": {
       "slide_type": "slide"
      }
     },
     "source": [
      "## Equations of motion in 2D case\n",
      "(Lubich, Koch, Meyer,...)  \n",
      "\n",
      "$$\\begin{split}\n",
      "&\\frac{dU}{dt} S = \\frac{dA}{dt} V,\\\\\n",
      "&\\frac{dV}{dt} S^{\\top} = \\frac{dA^{\\top}}{dt} U, \\\\\n",
      "&\\frac{dS}{dt} = U^{\\top} \\frac{dA}{dt} V.\n",
      "\\end{split}$$\n",
      "\n",
      "Suppose, you start from rank-$1$ and evolve into rank-$10$ case: the matrix $S$ **will be singular**!"
     ]
    },
    {
     "cell_type": "markdown",
     "metadata": {
      "slideshow": {
       "slide_type": "slide"
      }
     },
     "source": [
      "## Equations of motion, 2D case (2)\n",
      "The equations of motion can be rewritten for the full matrix  \n",
      "\n",
      "$$\n",
      "   \\frac{dX}{dt} = P_X(\\frac{dA}{dt}),\n",
      "$$\n",
      "\n",
      "where $P_X$ is the **projector onto the tangent space**"
     ]
    },
    {
     "cell_type": "markdown",
     "metadata": {
      "slideshow": {
       "slide_type": "fragment"
      }
     },
     "source": [
      "## Projector-splitting\n",
      "**Theorem:** $P_X$ can be represented as\n",
      "\n",
      "$$P_X(Z) = Z - (I - UU^{\\top}) Z (I - VV^{\\top}) = UU^{\\top} Z + Z VV^{\\top} - UU^{\\top} Z VV^{\\top},$$\n",
      "\n",
      "\n",
      "$$P_X(Z) = P_1 + P_2 - P_3$$"
     ]
    },
    {
     "cell_type": "markdown",
     "metadata": {
      "slideshow": {
       "slide_type": "slide"
      }
     },
     "source": [
      "## Integration of the substeps\n",
      "**Theorem** (O., Lubich, 2014): The equations with $P_1$, $P_2$, $P_3$ can be efficiently integrated\n",
      "\n",
      "- **Step \"L\":** $$\\frac{dX}{dt} = UU^{\\top}\\frac{dA}{dt} \\rightarrow \\frac{d(VS^{\\top})}{dt} = \\frac{dA^{\\top}}{dt} U, \\frac{dU}{dt}=0,$$\n",
      "\n",
      "  Thus $L_1 = L_0 + (A_1 - A_0)^{\\top} U_0, U_1 = U_0$.\n",
      "  \n",
      "- **Step \"K\":** $$\\frac{dX}{dt} = \\frac{dA}{dt} VV^{\\top} \\rightarrow \\frac{d(US)}{dt} = \\frac{dA}{dt} V, \\frac{dV}{dt}=0,$$\n",
      "\n",
      "  Thus $K_1 = K_0 + (A_1 - A_0) V_0, V_1 = V_0$\n",
      "\n",
      "- **Step \"S\":** $$\\frac{dX}{dt} = UU^{\\top}\\frac{dA}{dt} VV^{\\top} \\rightarrow \\frac{d(S)}{dt} = U\\frac{dA}{dt} V, \\frac{dV}{dt}=0, \\frac{dU}{dt} = 0,$$\n",
      "\n",
      "  Thus $S_1 = S_0 \\mathbf{-} U^{\\top}_0(A_1 - A_0) V_0, V_1 = V_0, U_1 = U_0$  \n",
      "  Here $A_0 = A(t), A_1 = A(t + \\tau)$"
     ]
    },
    {
     "cell_type": "markdown",
     "metadata": {
      "slideshow": {
       "slide_type": "slide"
      }
     },
     "source": [
      "## Splitting integrator\n",
      "The final splitting steps are\n",
      "- **Step \"L\":**  $$\\begin{split}L_0 = V_0 S^{\\top}_0 \\\\ L_1 = L_0 + (A_1 - A_0)^{\\top} U_0 \\\\ \n",
      "       [V_1, S^{\\top}_1] = QR(L_1)\\end{split}$$\n",
      "- **Step \"K\":** $$\\begin{split} K_0 = U_0 S^{\\top}_0 \\\\ K_1 = K_0 + (A_1 - A_0) V_0 \\\\ \n",
      "       [U_1, S_1] = QR(K_1)\\end{split}$$\n",
      "\n",
      "- **Step \"L\":** $$S_1 = S_0 - U^{\\top}_0 (A_1 - A_0) V_0$$ (note the minus!)\n",
      "The order of the steps matters"
     ]
    },
    {
     "cell_type": "markdown",
     "metadata": {
      "slideshow": {
       "slide_type": "slide"
      }
     },
     "source": [
      "## K-S-L order vs. K-L-S order\n",
      "We can do a short demo of the different orders of splitting by taking two values $A_0, A_1$."
     ]
    },
    {
     "cell_type": "code",
     "collapsed": false,
     "input": [
      "import numpy as np\n",
      "\n",
      "n = 5\n",
      "r = 2\n",
      "m = 5\n",
      "def random_usv(n, m, r):\n",
      "    u = np.random.randn(n, r)\n",
      "    u = np.linalg.qr(u)[0]\n",
      "    v = np.random.randn(m, r)\n",
      "    v = np.linalg.qr(v)[0]\n",
      "    s = np.random.randn(r, r)\n",
      "    return u, s, v\n",
      "u0, s0, v0 = random_usv(n, m, r)\n",
      "u1, s1, v1 = random_usv(n, m, r)\n",
      "\n",
      "#Generate A0, A1 from the manifold\n",
      "A0 = u0.dot(s0).dot(v0.T)\n",
      "A1 = u1.dot(s1).dot(v1.T)\n",
      "u = u0.copy(); v = v0.copy(); s = s0.copy()\n",
      "# K-step\n",
      "K = u.dot(s); K = K + (A1 - A0).dot(v)\n",
      "u, s = np.linalg.qr(K)\n",
      "# S-step\n",
      "s = s - u.T.dot(A1 - A0).dot(v)\n",
      "# L-step\n",
      "L = v.dot(s.T); L = L + (A1 - A0).T.dot(u)\n",
      "v, s = np.linalg.qr(L)\n",
      "s = s.T\n",
      "\n",
      "Appr = u.dot(s).dot(v.T)\n",
      "print 'Error:', np.linalg.norm(A1 - Appr)"
     ],
     "language": "python",
     "metadata": {
      "code_folding": [
       5
      ],
      "slideshow": {
       "slide_type": "fragment"
      }
     },
     "outputs": [
      {
       "output_type": "stream",
       "stream": "stdout",
       "text": [
        "Error: 1.69076748252e-15\n"
       ]
      }
     ],
     "prompt_number": 4
    },
    {
     "cell_type": "markdown",
     "metadata": {
      "slideshow": {
       "slide_type": "slide"
      }
     },
     "source": [
      "## A note on minus\n",
      "(O.,  Lubich, Tubingen 2012)  \n",
      "<img src=lubich2.jpg width=40%>"
     ]
    },
    {
     "cell_type": "markdown",
     "metadata": {
      "slideshow": {
       "slide_type": "slide"
      }
     },
     "source": [
      "## Exactness result\n",
      "If $A_0 = U_0 S_0 V^{\\top}_0$ and $A_1$ is of rank $r$, the projector-splitting scheme in the **KSL** order is **exact**."
     ]
    },
    {
     "cell_type": "markdown",
     "metadata": {
      "slideshow": {
       "slide_type": "slide"
      }
     },
     "source": [
      "## Generalizing to dD\n",
      "- How to generalize to many dimensions?  \n",
      "\n",
      "- Then we have to replace \"low-rank approximation\" by something.  \n",
      "\n",
      "- High-dimensional problems are actually **the main application** of DLR"
     ]
    },
    {
     "cell_type": "markdown",
     "metadata": {
      "slideshow": {
       "slide_type": "slide"
      }
     },
     "source": [
      "## Canonical format: bad idea\n",
      "A simplest (but naive) way to generalize low-rank to many dimensions is to use **sum-of-products** defintion of the matrix rank:\n",
      "\n",
      "$$\n",
      "  A(i_1, \\ldots, i_d) \\approx \\sum_{\\alpha=1}^r U_1(i_1, \\alpha) \\ldots U_d(i_d, \\alpha)\n",
      "$$\n",
      "\n",
      "This is called **canonical format** and canonical rank  \n",
      "\n",
      "The canonical format can be unstable and in general can not be efficiently computed!"
     ]
    },
    {
     "cell_type": "markdown",
     "metadata": {
      "slideshow": {
       "slide_type": "slide"
      }
     },
     "source": [
      "## SVD-based formats: good idea\n",
      "In 2009 active development of **stable tensor formats** began.  \n",
      "\n",
      "Two \"similar\" formats we proposed\n",
      "- Tree Tucker (O., Tyrtyshnikov) -> Tensor Train (O.),  \n",
      "  later found as Matrix Product States (MPS) in physics  \n",
      "  (White, Schwollwock, Vidal, Verstraete)\n",
      "- Hierarchical Tucker (Hackbusch, Grasedyck), later found as ML-MCTDH (Meyer, Manthe) in chemistry"
     ]
    },
    {
     "cell_type": "markdown",
     "metadata": {
      "slideshow": {
       "slide_type": "slide"
      }
     },
     "source": [
      "## Tensor-train format\n",
      "A tensor is said to be in the TT-format, if\n",
      "\n",
      "$$X(i_1, \\ldots, i_d) = C_1(i_1) \\ldots C_d(i_d),$$\n",
      "\n",
      "where $C_k(i_k)$ is an $r_{k-1} \\times r_k$ matrix for each fixed $i_k$ and $r_0 = r_d = 1$."
     ]
    },
    {
     "cell_type": "markdown",
     "metadata": {
      "slideshow": {
       "slide_type": "slide"
      }
     },
     "source": [
      "## Some notations for the TT-format\n",
      "Notation is hard; we use one from (Lubich, Vandreycken, O., 2014).  \n",
      "\n",
      "We can introduce left product of cores and right product of cores\n",
      "\n",
      "$$\n",
      "\\matX_{\\le k} (i_1,\\dots,i_k,:) = \\matC_1(i_1) \\cdots \\matC_k(i_k)\n",
      "$$\n",
      "\n",
      "and the right partial product $\\matX_{\\ge k+1} \\in \\R^{n_{k+1} \\times \\cdots \\times n_d \\times r_k}$ as\n",
      "\n",
      "$$\n",
      "\\matX_{\\ge k+1} (i_{k+1},\\dots,i_d,:) = \\matC_{k+1}(i_{k+1} \\cdots \\matC_d(i_d). \n",
      "$$\n"
     ]
    },
    {
     "cell_type": "markdown",
     "metadata": {
      "slideshow": {
       "slide_type": "slide"
      }
     },
     "source": [
      "## Some notations (2)\n",
      "The k-th **unfolding** satisfies  \n",
      "\n",
      "$$\\mathrm{Ten}_k(X) = \\matX_{\\leq k} \\matX_{\\geq k+1}^{\\top}$$\n",
      "\n",
      "and there is a recursive connection \n",
      "\n",
      "$$\\matX_{\\ge k} = (  \\matX_{\\ge k+1} \\otimes \\matI_{n_k} ) \\matC_K^>$$\n",
      "\n",
      "This forms the basis for the **orthogonalization**:  \n",
      "\n",
      "Given QR decomposition of $\\matX_{\\ge k}$ it is very simple  \n",
      "to orthogonalize $\\matX_{\\ge k+1}$ just by orthogonalizing the next core **from left to right**."
     ]
    },
    {
     "cell_type": "markdown",
     "metadata": {
      "slideshow": {
       "slide_type": "slide"
      }
     },
     "source": [
      "## Dynamical low-rank in the TT-format\n",
      "The DLR problem for the TT-format is formulated in the same way!"
     ]
    },
    {
     "cell_type": "markdown",
     "metadata": {
      "slideshow": {
       "slide_type": "fragment"
      }
     },
     "source": [
      "## Projector-splitting in the dD-case\n",
      "$$\n",
      "     \\frac{Y(t)}{dt} = P_{Y(t)}(\\frac{dA(t)}{dt}), \\qquad Y(t_0)=Y_0\\in \\mathcal{M},\n",
      "$$\n",
      "$$\n",
      "    P_X =\\sum_{k=1}^{d-1}  (P_{\\le k-1} P_{\\ge k+1} - P_{\\le k} P_{\\ge k+1})  + P_{\\le d-1} P_{\\ge d+1},\n",
      "$$\n",
      "$$\n",
      "\\begin{split}\n",
      "&P_{\\le k}\\colon \\R^{n_1 \\times \\cdots \\times n_d} \\to T_X \\mathcal{M}, \\  Z \\mapsto \\mathrm{Ten}_k (  \\matP_{\\le k} \\matZ^{\\langle k \\rangle})\\\\\n",
      " &P_{\\ge i}\\colon \\R^{n_1 \\times \\cdots \\times n_d} \\to T_X \\mathcal{M}, \\  Z \\mapsto \\mathrm{Ten}_{k-1} (  \\matZ^{\\langle k-1 \\rangle}  \\matP_{\\ge k} )  .\n",
      " \\end{split}\n",
      "$$\n",
      "\n",
      "$\n",
      "\\matP_{\\le k} = \\matQ_{\\le k}\\matQ_{\\le k}^\\top, \\qquad\\hbox{and}\\qquad\n",
      "\\matP_{\\ge k} = \\matQ_{\\ge k}\\matQ_{\\ge k}^\\top,\n",
      "$"
     ]
    },
    {
     "cell_type": "markdown",
     "metadata": {
      "slideshow": {
       "slide_type": "slide"
      }
     },
     "source": [
      "## The scheme of the algorithm\n",
      "The algorithm is organized through **sweeps**\n",
      "<img src=\"sweep_2.png\" width=45%>"
     ]
    },
    {
     "cell_type": "markdown",
     "metadata": {
      "slideshow": {
       "slide_type": "slide"
      }
     },
     "source": [
      "## Solving equations\n",
      "It is very easy to use KSL for solving equations!\n",
      "\n",
      "$$\n",
      "   \\frac{dY}{dt} = F(Y),\n",
      "$$\n",
      "\n",
      "you just replace $\\frac{dA}{dt}$ by $F(Y)$.  \n",
      "\n",
      "In the case of **linear** $F(Y)$, the local system for the cores will be also **linear**,    \n",
      "which is a huge advantage over other methods!"
     ]
    },
    {
     "cell_type": "markdown",
     "metadata": {
      "slideshow": {
       "slide_type": "slide"
      }
     },
     "source": [
      "## Numerical experiments\n",
      "Now we can go to numerical experiments"
     ]
    },
    {
     "cell_type": "markdown",
     "metadata": {
      "slideshow": {
       "slide_type": "slide"
      }
     },
     "source": [
      "## Application: Vibrational spectra\n",
      "We compare the TT-KSL scheme with the [MCTDH package](http://www.pci.uni-heidelberg.de/cms/mctdh.html) for the benchmark problem with [Henon-Heiles potential](http://dx.doi.org/10.1063/1.1521129) \n",
      "\\begin{equation}\n",
      "    \\frac{d\\psi}{dt} = i H \\psi, \\quad \\psi(0) = \\psi_0,\n",
      "\\end{equation}\n",
      "where $H$ has the form\n",
      "\\begin{equation}\n",
      "  \\def\\Hlap{-\\frac12 \\Delta}\n",
      "  \\def\\Hhar{\\frac12 \\sum_{k=1}^f q^2_k}\n",
      "  \\def\\Hanh{\\sum_{k=1}^{f-1}\\left(q^2_k q_{k+1} - \\frac13 q^3_{k+1} \\right)}\n",
      "   H = \\Hlap + \\underbrace{\\Hhar + \\overbrace{\\lambda \\Hanh}^{\\textrm{anharmonic part}}}_{\\textrm{Henon-Heiles potential}~V(q_1,\\ldots,q_f)}.\n",
      "\\end{equation}"
     ]
    },
    {
     "cell_type": "markdown",
     "metadata": {
      "slideshow": {
       "slide_type": "slide"
      }
     },
     "source": [
      "## Spectra comparison\n",
      "<div style=\"float: left; width: 40%; margin-right: 5%; margin-bottom: 0.5em;\">\n",
      "<p style=\"text-align:left\"> Spectra for a 10D problem </p>\n",
      "<img src=\"ksl_mctdh_plot.png\" >\n",
      "</div>\n",
      "<div style=\"float: left; width: 40%; margin-right: 5%; margin-bottom: 0.5em;\">\n",
      "<p style=\"text-align:left\"> Zoomed spectra for a 10D problem</p>\n",
      "<img src=\"ksl_mctdh_plot_zoom.png\" >\n",
      "</div>\n",
      "<p style=\"clear: both;\">\n",
      "Computational time: **54354 sec** (MCTDH) vs **4425 sec** (TT-KSL)"
     ]
    },
    {
     "cell_type": "markdown",
     "metadata": {
      "slideshow": {
       "slide_type": "slide"
      }
     },
     "source": [
      "## Conclusions\n",
      "- A stable explicit scheme for DLR based on QR-decomposition with very cheap step\n",
      "- Direct applications (quantum spin systems, chemical master equation)\n",
      "- Indirect applications (projection of the update, optimization, ...)"
     ]
    },
    {
     "cell_type": "markdown",
     "metadata": {
      "slideshow": {
       "slide_type": "slide"
      }
     },
     "source": [
      "## Papers and software\n",
      "**Software**\n",
      "- TT-Toolbox: https://github.com/oseledets/ttpy (Python)\n",
      "- https://github.com/oseledets/TT-Toolbox (MATLAB)\n",
      "\n",
      "**Papers**\n",
      "- Christian Lubich and Ivan V. Oseledets. A projector-splitting integrator for dynamical low-rank approximation. BIT, 54(1):171\u2013188, 2014\n",
      "- [Christian Lubich, Ivan Oseledets, and Bart Vandereycken. Time integration of tensor trains. arXiv preprint 1407.2042, 2014.](http://arxiv.org/abs/1407.2042)\n",
      "- [Jutho Haegeman, Christian Lubich, Ivan Oseledets, Bart Vandereycken, and Frank Verstraete. Unifying time evolution and optimization with matrix product states. arXiv preprint 1408.5056, 2014.](http://arxiv.org/abs/1408.5056)"
     ]
    },
    {
     "cell_type": "code",
     "collapsed": false,
     "input": [
      "from IPython.core.display import HTML\n",
      "def css_styling():\n",
      "    styles = open(\"custom.css\", \"r\").read()\n",
      "    return HTML(styles)\n",
      "css_styling()"
     ],
     "language": "python",
     "metadata": {
      "slideshow": {
       "slide_type": "skip"
      }
     },
     "outputs": [
      {
       "html": [
        "<link href='http://fonts.googleapis.com/css?family=Fenix' rel='stylesheet' type='text/css'>\n",
        "<link href='http://fonts.googleapis.com/css?family=Alegreya+Sans:100,300,400,500,700,800,900,100italic,300italic,400italic,500italic,700italic,800italic,900italic' rel='stylesheet' type='text/css'>\n",
        "<link href='http://fonts.googleapis.com/css?family=Source+Code+Pro:300,400' rel='stylesheet' type='text/css'>\n",
        "<style>\n",
        "    @font-face {\n",
        "        font-family: \"Computer Modern\";\n",
        "        src: url('http://mirrors.ctan.org/fonts/cm-unicode/fonts/otf/cmunss.otf');\n",
        "    }\n",
        "    div.cell{\n",
        "        /*width:80%;*/\n",
        "        margin-left:auto !important;\n",
        "        margin-right:auto;\n",
        "    }\n",
        "    h1 {\n",
        "        font-family: 'Alegreya Sans', sans-serif;\n",
        "    }\n",
        "    h2 {\n",
        "        font-family: 'Fenix', serif;\n",
        "    }\n",
        "    h3{\n",
        "\t\tfont-family: 'Fenix', serif;\n",
        "        margin-top:12px;\n",
        "        margin-bottom: 3px;\n",
        "       }\n",
        "\th4{\n",
        "\t\tfont-family: 'Fenix', serif;\n",
        "       }\n",
        "    h5 {\n",
        "        font-family: 'Alegreya Sans', sans-serif;\n",
        "    }\t   \n",
        "    div.text_cell_render{\n",
        "        font-family: 'Alegreya Sans',Computer Modern, \"Helvetica Neue\", Arial, Helvetica, Geneva, sans-serif;\n",
        "        font-size: 160%;\n",
        "        line-height: 121%;\n",
        "        /*width:70%;*/\n",
        "        margin-left:auto;\n",
        "        margin-right:auto;\n",
        "    }\n",
        "    li {\n",
        "        line-height: 121%;\n",
        "    }\n",
        "    .CodeMirror{\n",
        "            font-family: \"Source Code Pro\";\n",
        "\t\t\tfont-size: 90%;\n",
        "    }\n",
        "/*    .prompt{\n",
        "        display: None;\n",
        "    }*/\n",
        "    .text_cell_render h1 {\n",
        "        font-weight: 200;\n",
        "        font-size: 50pt;\n",
        "\t\tline-height: 110%;\n",
        "        color:#CD2305;\n",
        "        margin-bottom: 0.5em;\n",
        "        margin-top: 0.5em;\n",
        "        display: block;\n",
        "    }\t\n",
        "    .text_cell_render h5 {\n",
        "        font-weight: 300;\n",
        "        font-size: 16pt;\n",
        "        color: #CD2305;\n",
        "        font-style: italic;\n",
        "        margin-bottom: .5em;\n",
        "        margin-top: 0.5em;\n",
        "        display: block;\n",
        "    }\n",
        "    \n",
        "    .warning{\n",
        "        color: rgb( 240, 20, 20 )\n",
        "        }  \n",
        ".floated_img\n",
        "{\n",
        "        float: left;\n",
        "    }\n",
        "</style>\n",
        "<script>\n",
        "    MathJax.Hub.Config({\n",
        "                        TeX: {\n",
        "                           extensions: [\"AMSmath.js\"]\n",
        "                           },\n",
        "                tex2jax: {\n",
        "                    inlineMath: [ ['$','$'], [\"\\\\(\",\"\\\\)\"] ],\n",
        "                    displayMath: [ ['$$','$$'], [\"\\\\[\",\"\\\\]\"] ]\n",
        "                },\n",
        "                displayAlign: 'center', // Change this to 'center' to center equations.\n",
        "                \"HTML-CSS\": {\n",
        "                    styles: {'.MathJax_Display': {\"margin\": 4}}\n",
        "                }\n",
        "        });\n",
        "</script>\n"
       ],
       "metadata": {},
       "output_type": "pyout",
       "prompt_number": 3,
       "text": [
        "<IPython.core.display.HTML at 0x104352290>"
       ]
      }
     ],
     "prompt_number": 3
    }
   ],
   "metadata": {}
  }
 ]
}